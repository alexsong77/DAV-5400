{
 "cells": [
  {
   "cell_type": "markdown",
   "metadata": {},
   "source": [
    "# Github copy of the data set:[link](https://github.com/alexsong77/DAV-5400/blob/master/bank-full.csv)\n",
    "\n",
    "## Original location of the data:[link](https://archive.ics.uci.edu/ml/machine-learning-databases/00222/)\n",
    "\n",
    "The data set is related to direct marketing campaigns of a bank institution. What interests me in this data set is by analyzing a big pool of input variables from bank client data to determine the real factors that will affect the client to subscribe to a term deposit. The factors pool including age, type of job, marital status, education, housing, and contact communication type..etc. I may want to make use of it by analyzing the input variables to see which variables will have a big impact on the output variable. By doing this data analysis, I would be able to help the bank institution to launch this marketing campaigns in an efficient way. \n"
   ]
  }
 ],
 "metadata": {
  "kernelspec": {
   "display_name": "Python 3",
   "language": "python",
   "name": "python3"
  },
  "language_info": {
   "codemirror_mode": {
    "name": "ipython",
    "version": 3
   },
   "file_extension": ".py",
   "mimetype": "text/x-python",
   "name": "python",
   "nbconvert_exporter": "python",
   "pygments_lexer": "ipython3",
   "version": "3.7.1"
  }
 },
 "nbformat": 4,
 "nbformat_minor": 2
}
