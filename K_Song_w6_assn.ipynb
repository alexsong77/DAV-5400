{
 "cells": [
  {
   "cell_type": "code",
   "execution_count": 1,
   "metadata": {},
   "outputs": [],
   "source": [
    "import pandas as pd\n",
    "import numpy as np "
   ]
  },
  {
   "cell_type": "markdown",
   "metadata": {},
   "source": [
    "url=\"https://raw.githubusercontent.com/alexsong77/DAV-5400/master/diamonds.csv\"\n",
    "diamonds = pd.read_csv(url)\n",
    "diamonds.head()"
   ]
  },
  {
   "cell_type": "markdown",
   "metadata": {},
   "source": [
    "# Narrative\n",
    "<p>1. Count the total number of diamonds, then count the number of diamonds that carat between 0.30 and 1.08. Finally, using the number of diamonds that carat between 0.30 and 1.08 divided by the total numbers of diamonds.\n",
    "<p>2.Find out all of rows that have a equal value of x and y.\n",
    "<P>3.Find out the mean carat value and create a column contains all of carat value less than the mean carat value and count how many of that column\n",
    "<p>4.Find out the total number of diamonds either have a premium cut or ideal cut\n",
    "<p>5.Using the price/carat to get price per carat for all of rows and creat a column to contain it. Then using max functions to pull out the highest price per carat.\n",
    "<p>6.Groupby all of the categories under \"cut\" column and count the frequency by using plot bar to show the result.\n",
    "<p>7.Create a box plot by set x =\"cut\" and y = \"price\" to see the diamond price for each cut\n",
    "<p>8.Create four seperate histogram plots by set x-axis = length, width, depth, and total depth percentage and y-axis = frequency \n",
    "<p>9.Create a scatter plot by set x=\"price\" and y=\"carat\" to see the relationship between this two variables."
   ]
  },
  {
   "cell_type": "code",
   "execution_count": 11,
   "metadata": {},
   "outputs": [
    {
     "data": {
      "text/html": [
       "<div>\n",
       "<style scoped>\n",
       "    .dataframe tbody tr th:only-of-type {\n",
       "        vertical-align: middle;\n",
       "    }\n",
       "\n",
       "    .dataframe tbody tr th {\n",
       "        vertical-align: top;\n",
       "    }\n",
       "\n",
       "    .dataframe thead th {\n",
       "        text-align: right;\n",
       "    }\n",
       "</style>\n",
       "<table border=\"1\" class=\"dataframe\">\n",
       "  <thead>\n",
       "    <tr style=\"text-align: right;\">\n",
       "      <th></th>\n",
       "      <th>carat</th>\n",
       "      <th>cut</th>\n",
       "      <th>color</th>\n",
       "      <th>clarity</th>\n",
       "      <th>depth</th>\n",
       "      <th>table</th>\n",
       "      <th>price</th>\n",
       "      <th>x</th>\n",
       "      <th>y</th>\n",
       "      <th>z</th>\n",
       "    </tr>\n",
       "  </thead>\n",
       "  <tbody>\n",
       "    <tr>\n",
       "      <th>0</th>\n",
       "      <td>0.23</td>\n",
       "      <td>Ideal</td>\n",
       "      <td>E</td>\n",
       "      <td>SI2</td>\n",
       "      <td>61.5</td>\n",
       "      <td>55.0</td>\n",
       "      <td>326</td>\n",
       "      <td>3.95</td>\n",
       "      <td>3.98</td>\n",
       "      <td>2.43</td>\n",
       "    </tr>\n",
       "    <tr>\n",
       "      <th>1</th>\n",
       "      <td>0.21</td>\n",
       "      <td>Premium</td>\n",
       "      <td>E</td>\n",
       "      <td>SI1</td>\n",
       "      <td>59.8</td>\n",
       "      <td>61.0</td>\n",
       "      <td>326</td>\n",
       "      <td>3.89</td>\n",
       "      <td>3.84</td>\n",
       "      <td>2.31</td>\n",
       "    </tr>\n",
       "    <tr>\n",
       "      <th>2</th>\n",
       "      <td>0.23</td>\n",
       "      <td>Good</td>\n",
       "      <td>E</td>\n",
       "      <td>VS1</td>\n",
       "      <td>56.9</td>\n",
       "      <td>65.0</td>\n",
       "      <td>327</td>\n",
       "      <td>4.05</td>\n",
       "      <td>4.07</td>\n",
       "      <td>2.31</td>\n",
       "    </tr>\n",
       "    <tr>\n",
       "      <th>3</th>\n",
       "      <td>0.29</td>\n",
       "      <td>Premium</td>\n",
       "      <td>I</td>\n",
       "      <td>VS2</td>\n",
       "      <td>62.4</td>\n",
       "      <td>58.0</td>\n",
       "      <td>334</td>\n",
       "      <td>4.20</td>\n",
       "      <td>4.23</td>\n",
       "      <td>2.63</td>\n",
       "    </tr>\n",
       "    <tr>\n",
       "      <th>4</th>\n",
       "      <td>0.31</td>\n",
       "      <td>Good</td>\n",
       "      <td>J</td>\n",
       "      <td>SI2</td>\n",
       "      <td>63.3</td>\n",
       "      <td>58.0</td>\n",
       "      <td>335</td>\n",
       "      <td>4.34</td>\n",
       "      <td>4.35</td>\n",
       "      <td>2.75</td>\n",
       "    </tr>\n",
       "  </tbody>\n",
       "</table>\n",
       "</div>"
      ],
      "text/plain": [
       "   carat      cut color clarity  depth  table  price     x     y     z\n",
       "0   0.23    Ideal     E     SI2   61.5   55.0    326  3.95  3.98  2.43\n",
       "1   0.21  Premium     E     SI1   59.8   61.0    326  3.89  3.84  2.31\n",
       "2   0.23     Good     E     VS1   56.9   65.0    327  4.05  4.07  2.31\n",
       "3   0.29  Premium     I     VS2   62.4   58.0    334  4.20  4.23  2.63\n",
       "4   0.31     Good     J     SI2   63.3   58.0    335  4.34  4.35  2.75"
      ]
     },
     "execution_count": 11,
     "metadata": {},
     "output_type": "execute_result"
    }
   ],
   "source": [
    "# Take a look at this dataset to check everything run through correctly.\n",
    "diamonds.head()"
   ]
  },
  {
   "cell_type": "code",
   "execution_count": 65,
   "metadata": {},
   "outputs": [
    {
     "data": {
      "text/plain": [
       "53940"
      ]
     },
     "execution_count": 65,
     "metadata": {},
     "output_type": "execute_result"
    }
   ],
   "source": [
    "# Extract all of carats from this dataset and count the total number of diamonds\n",
    "total_carat = diamonds['carat']\n",
    "total = total_carat.count()\n",
    "total"
   ]
  },
  {
   "cell_type": "code",
   "execution_count": 66,
   "metadata": {},
   "outputs": [
    {
     "data": {
      "text/plain": [
       "37434"
      ]
     },
     "execution_count": 66,
     "metadata": {},
     "output_type": "execute_result"
    }
   ],
   "source": [
    "# Create a column \"special_carat\" and Count that column - the total number of diamonds that only > 0.30 and < 1.08\n",
    "special_carat = diamonds.carat[(diamonds.carat>0.30) & (diamonds.carat<1.08)]\n",
    "special = special_carat.count()\n",
    "special"
   ]
  },
  {
   "cell_type": "code",
   "execution_count": 69,
   "metadata": {},
   "outputs": [
    {
     "data": {
      "text/plain": [
       "0.6939933259176864"
      ]
     },
     "execution_count": 69,
     "metadata": {},
     "output_type": "execute_result"
    }
   ],
   "source": [
    "# Calculate the proportion of diamonds are between .30 and 1.08 carats by using special/total \n",
    "proportion_carat = (special/total)\n",
    "proportion_carat"
   ]
  },
  {
   "cell_type": "code",
   "execution_count": 79,
   "metadata": {},
   "outputs": [
    {
     "data": {
      "text/plain": [
       "17"
      ]
     },
     "execution_count": 79,
     "metadata": {},
     "output_type": "execute_result"
    }
   ],
   "source": [
    "# Create a column to contain all of diamonds that x column equal to y column and count how many of that column. \n",
    "diamonds_xy = diamonds[diamonds.x == diamonds.y]\n",
    "diamonds_xy.carat.count()"
   ]
  },
  {
   "cell_type": "code",
   "execution_count": 89,
   "metadata": {},
   "outputs": [
    {
     "data": {
      "text/plain": [
       "31127"
      ]
     },
     "execution_count": 89,
     "metadata": {},
     "output_type": "execute_result"
    }
   ],
   "source": [
    "# Calculate the carat mean\n",
    "carat_mean = diamonds.carat.mean()\n",
    "carat_mean\n",
    "# Create a column \"special_carat1\" that contains all of carat values less than the carat mean\n",
    "special_carat1 = diamonds.carat[diamonds.carat<carat_mean]\n",
    "special_carat1.count()"
   ]
  },
  {
   "cell_type": "code",
   "execution_count": 94,
   "metadata": {},
   "outputs": [
    {
     "data": {
      "text/plain": [
       "35342"
      ]
     },
     "execution_count": 94,
     "metadata": {},
     "output_type": "execute_result"
    }
   ],
   "source": [
    "# Create a column \"special_carat2\" and Count that column - have a Premium cut or Ideal cut\n",
    "special_carat2 = diamonds.cut[(diamonds.cut=='Premium') | (diamonds.cut=='Ideal')]\n",
    "special_carat2.count()"
   ]
  },
  {
   "cell_type": "code",
   "execution_count": 165,
   "metadata": {},
   "outputs": [
    {
     "name": "stdout",
     "output_type": "stream",
     "text": [
      "17828.846153846152 27635\n"
     ]
    }
   ],
   "source": [
    "# Create a column \"price_carat\" by using column \"price\" / column \"carat\" to get the price per carat \n",
    "price_carat = diamonds.price/diamonds.carat \n",
    "# Test to see if get the corret results \n",
    "price_carat.head()\n",
    "print(price_carat.max(),price_carat.idxmax())\n",
    "# The diamonds index 27635 has the highest price per carat 17828.846153846152"
   ]
  },
  {
   "cell_type": "code",
   "execution_count": 113,
   "metadata": {},
   "outputs": [
    {
     "data": {
      "text/plain": [
       "<matplotlib.axes._subplots.AxesSubplot at 0x278ed37c940>"
      ]
     },
     "execution_count": 113,
     "metadata": {},
     "output_type": "execute_result"
    },
    {
     "data": {
      "image/png": "[encoded data removed]",
      "text/plain": [
       "<Figure size 432x288 with 1 Axes>"
      ]
     },
     "metadata": {
      "needs_background": "light"
     },
     "output_type": "display_data"
    }
   ],
   "source": [
    "# Groupby each categories under \"cut\" and create a table to contain the values \n",
    "cut_diamonds = diamonds.groupby(['cut'])\n",
    "# Count each categories by the frequencies \n",
    "count_cut = cut_diamonds['cut'].count()\n",
    "# Create a barplot to show the visualized results \n",
    "count_cut.plot.bar()\n",
    "\n",
    "#The result tell us \"Ideal\" has the most frequencies and \"Fair\" has the least frequencies"
   ]
  },
  {
   "cell_type": "code",
   "execution_count": 121,
   "metadata": {},
   "outputs": [],
   "source": [
    "import matplotlib as mpl\n",
    "import matplotlib.pyplot as plt\n",
    "import seaborn as sns "
   ]
  },
  {
   "cell_type": "code",
   "execution_count": 128,
   "metadata": {},
   "outputs": [
    {
     "data": {
      "image/png": "[encoded data removed]",
      "text/plain": [
       "<Figure size 432x288 with 1 Axes>"
      ]
     },
     "metadata": {
      "needs_background": "light"
     },
     "output_type": "display_data"
    }
   ],
   "source": [
    "# Create a boxplot by name it with \"boxplot\" to show the x-axis = cut and y-axis = price. \n",
    "boxplot = sns.boxplot(x=\"cut\", y=\"price\", data=diamonds)"
   ]
  },
  {
   "cell_type": "markdown",
   "metadata": {},
   "source": [
    "Firstly, the \"Ideal\" cut and \"Fair\" cut both have the most outliers, the \"Ideal\" makes sense since it has the highest quality, but the \"Fair\" cut doesn't make sense, the company may overprice the \"Fair\" cut diamonds. Secondly, the\"Premium\" cut has the highest median. Thirdly, the \"Premium\" cut has the highest price range among others, and most of \"Premium\" cut has a higher price even greater than \"Ideal\" cut, so the company should increase the \"Ideal\" price and lower a little bit \"premium\" price. "
   ]
  },
  {
   "cell_type": "code",
   "execution_count": 160,
   "metadata": {},
   "outputs": [
    {
     "data": {
      "text/plain": [
       "Text(0, 0.5, 'Frequency')"
      ]
     },
     "execution_count": 160,
     "metadata": {},
     "output_type": "execute_result"
    },
    {
     "data": {
      "image/png": "[encoded data removed]",
      "text/plain": [
       "<Figure size 432x288 with 1 Axes>"
      ]
     },
     "metadata": {
      "needs_background": "light"
     },
     "output_type": "display_data"
    }
   ],
   "source": [
    "# Create a historgram by showing the x-axis = length and y-axis = Frequency. \n",
    "his_plot = diamonds['x'].hist(bins=10)\n",
    "his_plot.set_title('Historgram')\n",
    "his_plot.set_xlabel('length')\n",
    "his_plot.set_ylabel('Frequency')\n",
    "# The length range between 4 to 6 has the most distribution frequency "
   ]
  },
  {
   "cell_type": "code",
   "execution_count": 157,
   "metadata": {},
   "outputs": [
    {
     "data": {
      "text/plain": [
       "Text(0, 0.5, 'Frequency')"
      ]
     },
     "execution_count": 157,
     "metadata": {},
     "output_type": "execute_result"
    },
    {
     "data": {
      "image/png": "[encoded data removed]",
      "text/plain": [
       "<Figure size 432x288 with 1 Axes>"
      ]
     },
     "metadata": {
      "needs_background": "light"
     },
     "output_type": "display_data"
    }
   ],
   "source": [
    "# Create a historgram by showing the x-axis = width and y-axis = Frequency.\n",
    "his_plot = diamonds['y'].hist(bins=10)\n",
    "his_plot.set_title('Historgram')\n",
    "his_plot.set_xlabel('width')\n",
    "his_plot.set_ylabel('Frequency')\n",
    "# The width are in a range 0 to 10, and the width range \"0 to 5\" has the most distribution frequency. "
   ]
  },
  {
   "cell_type": "code",
   "execution_count": 162,
   "metadata": {},
   "outputs": [
    {
     "data": {
      "text/plain": [
       "Text(0, 0.5, 'Frequency')"
      ]
     },
     "execution_count": 162,
     "metadata": {},
     "output_type": "execute_result"
    },
    {
     "data": {
      "image/png": "[encoded data removed]",
      "text/plain": [
       "<Figure size 432x288 with 1 Axes>"
      ]
     },
     "metadata": {
      "needs_background": "light"
     },
     "output_type": "display_data"
    }
   ],
   "source": [
    "# Create a historgram by showing the x-axis = depth and y-axis = Frequency.\n",
    "his_plot = diamonds['z'].hist(bins=10)\n",
    "his_plot.set_title('Historgram')\n",
    "his_plot.set_xlabel('depth')\n",
    "his_plot.set_ylabel('Frequency')\n",
    "# The depth are in a range 0 to 5, and the range \"0 to 2.5\" has the most distribution frequency. "
   ]
  },
  {
   "cell_type": "code",
   "execution_count": 163,
   "metadata": {},
   "outputs": [
    {
     "data": {
      "text/plain": [
       "Text(0, 0.5, 'Frequency')"
      ]
     },
     "execution_count": 163,
     "metadata": {},
     "output_type": "execute_result"
    },
    {
     "data": {
      "image/png": "[encoded data removed]",
      "text/plain": [
       "<Figure size 432x288 with 1 Axes>"
      ]
     },
     "metadata": {
      "needs_background": "light"
     },
     "output_type": "display_data"
    }
   ],
   "source": [
    "# Create a historgram by showing the x-axis = total depth percentage and y-axis = Frequency.\n",
    "his_plot = diamonds['depth'].hist(bins=10)\n",
    "his_plot.set_title('Historgram')\n",
    "his_plot.set_xlabel('total depth percentage')\n",
    "his_plot.set_ylabel('Frequency')\n",
    "# Most of diamond's total depth percentage are in the range 60% t0 65%"
   ]
  },
  {
   "cell_type": "code",
   "execution_count": 154,
   "metadata": {},
   "outputs": [
    {
     "name": "stderr",
     "output_type": "stream",
     "text": [
      "No handles with labels found to put in legend.\n"
     ]
    },
    {
     "data": {
      "image/png": "[encoded data removed]",
      "text/plain": [
       "<Figure size 432x288 with 1 Axes>"
      ]
     },
     "metadata": {
      "needs_background": "light"
     },
     "output_type": "display_data"
    }
   ],
   "source": [
    "# Make a histogram chart by setting x-axis = carat and y-axis = price\n",
    "scatter_plot = diamonds.plot.scatter('carat','price',color = 'k', s=1, marker = \"x\")\n",
    "plt.ylabel('price')\n",
    "plt.xlabel('carat')\n",
    "plt.title('Diamonds Secrets')\n",
    "plt.legend()\n",
    "plt.show()\n",
    "\n",
    "# It's a positive relationship"
   ]
  }
 ],
 "metadata": {
  "kernelspec": {
   "display_name": "Python 3",
   "language": "python",
   "name": "python3"
  },
  "language_info": {
   "codemirror_mode": {
    "name": "ipython",
    "version": 3
   },
   "file_extension": ".py",
   "mimetype": "text/x-python",
   "name": "python",
   "nbconvert_exporter": "python",
   "pygments_lexer": "ipython3",
   "version": "3.7.1"
  }
 },
 "nbformat": 4,
 "nbformat_minor": 2
}
