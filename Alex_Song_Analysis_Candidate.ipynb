{
 "cells": [
  {
   "cell_type": "markdown",
   "metadata": {
    "colab_type": "text",
    "id": "le8bhYLDi0aE"
   },
   "source": [
    "**Marketing Analysis <br> Author: Alex Song <br> Contact: Ksong1@mail.yu.edu**"
   ]
  },
  {
   "cell_type": "code",
   "execution_count": 1,
   "metadata": {
    "colab": {
     "base_uri": "https://localhost:8080/",
     "height": 544
    },
    "colab_type": "code",
    "id": "rk93-h-Di0aG",
    "outputId": "56f53f0a-c35e-4a2b-9f2a-29387bddeb3f"
   },
   "outputs": [
    {
     "name": "stdout",
     "output_type": "stream",
     "text": [
      "<class 'pandas.core.frame.DataFrame'>\n",
      "RangeIndex: 5096 entries, 0 to 5095\n",
      "Data columns (total 26 columns):\n",
      "AD ID                  5096 non-null int64\n",
      "Placement ID           5096 non-null int64\n",
      "Date                   5096 non-null object\n",
      "Campaign               5096 non-null object\n",
      "Audience               5096 non-null object\n",
      "Excluded Audience      5008 non-null object\n",
      "Audience Type          5096 non-null object\n",
      "Creative               5096 non-null object\n",
      "Post Type              5096 non-null object\n",
      "Gender                 5096 non-null object\n",
      "Optimization Event     5096 non-null object\n",
      "Media Spend            5096 non-null float64\n",
      "Impressions            5096 non-null int64\n",
      "Clicks                 5096 non-null int64\n",
      "Likes                  5096 non-null int64\n",
      "Comments               5096 non-null int64\n",
      "Shares                 5096 non-null int64\n",
      "Video Views            2548 non-null float64\n",
      "Video Views to 25%     2548 non-null float64\n",
      "Video Views to 50%     2548 non-null float64\n",
      "Video Views to 75%     2548 non-null float64\n",
      "Video Views to 95%     2548 non-null float64\n",
      "Video Views to 100%    2548 non-null float64\n",
      "CPM                    5096 non-null float64\n",
      "CTR                    5096 non-null float64\n",
      "CPC                    5096 non-null float64\n",
      "dtypes: float64(10), int64(7), object(9)\n",
      "memory usage: 1.0+ MB\n"
     ]
    }
   ],
   "source": [
    "import numpy as np\n",
    "import pandas as pd\n",
    "# read the csv into python \n",
    "Facebook = pd.read_csv('https://raw.githubusercontent.com/alexsong77/DAV-5400/master/Facebook.csv')\n",
    "# check all of data to see if any none values and attributes for each columns \n",
    "Facebook.info()"
   ]
  },
  {
   "cell_type": "code",
   "execution_count": 2,
   "metadata": {
    "colab": {
     "base_uri": "https://localhost:8080/",
     "height": 153
    },
    "colab_type": "code",
    "id": "PUpV3SH1i0aO",
    "outputId": "8027ea76-f7b3-4d1f-d9cb-e33d1c1c87b3"
   },
   "outputs": [
    {
     "name": "stdout",
     "output_type": "stream",
     "text": [
      "<class 'pandas.core.frame.DataFrame'>\n",
      "RangeIndex: 5096 entries, 0 to 5095\n",
      "Data columns (total 3 columns):\n",
      "Placement ID     5096 non-null int64\n",
      "Purchases        5096 non-null int64\n",
      "Total Revenue    5096 non-null int64\n",
      "dtypes: int64(3)\n",
      "memory usage: 119.5 KB\n"
     ]
    }
   ],
   "source": [
    "# read another csv into python \n",
    "Site = pd.read_csv('https://raw.githubusercontent.com/alexsong77/DAV-5400/master/Site.csv')\n",
    "# check all of data to see if any none values and attributes for each columns \n",
    "Site.info()\n"
   ]
  },
  {
   "cell_type": "code",
   "execution_count": 3,
   "metadata": {
    "colab": {
     "base_uri": "https://localhost:8080/",
     "height": 547
    },
    "colab_type": "code",
    "id": "NxiHyOKOi0aT",
    "outputId": "4080f968-ce1b-4c90-cce5-aa8aafb9a239",
    "scrolled": true
   },
   "outputs": [
    {
     "data": {
      "text/html": [
       "<div>\n",
       "<style scoped>\n",
       "    .dataframe tbody tr th:only-of-type {\n",
       "        vertical-align: middle;\n",
       "    }\n",
       "\n",
       "    .dataframe tbody tr th {\n",
       "        vertical-align: top;\n",
       "    }\n",
       "\n",
       "    .dataframe thead th {\n",
       "        text-align: right;\n",
       "    }\n",
       "</style>\n",
       "<table border=\"1\" class=\"dataframe\">\n",
       "  <thead>\n",
       "    <tr style=\"text-align: right;\">\n",
       "      <th></th>\n",
       "      <th>AD ID</th>\n",
       "      <th>Placement ID</th>\n",
       "      <th>Date</th>\n",
       "      <th>Campaign</th>\n",
       "      <th>Audience</th>\n",
       "      <th>Excluded Audience</th>\n",
       "      <th>Audience Type</th>\n",
       "      <th>Creative</th>\n",
       "      <th>Post Type</th>\n",
       "      <th>Gender</th>\n",
       "      <th>...</th>\n",
       "      <th>Video Views to 25%</th>\n",
       "      <th>Video Views to 50%</th>\n",
       "      <th>Video Views to 75%</th>\n",
       "      <th>Video Views to 95%</th>\n",
       "      <th>Video Views to 100%</th>\n",
       "      <th>CPM</th>\n",
       "      <th>CTR</th>\n",
       "      <th>CPC</th>\n",
       "      <th>Purchases</th>\n",
       "      <th>Total Revenue</th>\n",
       "    </tr>\n",
       "  </thead>\n",
       "  <tbody>\n",
       "    <tr>\n",
       "      <th>0</th>\n",
       "      <td>1000281165</td>\n",
       "      <td>2000200268</td>\n",
       "      <td>2/1/2019</td>\n",
       "      <td>Evergreen</td>\n",
       "      <td>Shopping Cart Page</td>\n",
       "      <td>Purchases</td>\n",
       "      <td>Website Custom Audience</td>\n",
       "      <td>Brand Logo + Generic CTA</td>\n",
       "      <td>Photo</td>\n",
       "      <td>F</td>\n",
       "      <td>...</td>\n",
       "      <td>NaN</td>\n",
       "      <td>NaN</td>\n",
       "      <td>NaN</td>\n",
       "      <td>NaN</td>\n",
       "      <td>NaN</td>\n",
       "      <td>19.72</td>\n",
       "      <td>0.0153</td>\n",
       "      <td>1.27</td>\n",
       "      <td>1</td>\n",
       "      <td>97</td>\n",
       "    </tr>\n",
       "    <tr>\n",
       "      <th>1</th>\n",
       "      <td>1000141830</td>\n",
       "      <td>2000200714</td>\n",
       "      <td>2/1/2019</td>\n",
       "      <td>Evergreen</td>\n",
       "      <td>Product Page</td>\n",
       "      <td>Purchasers, Shopping Cart</td>\n",
       "      <td>Website Custom Audience</td>\n",
       "      <td>Brand Logo + Generic CTA</td>\n",
       "      <td>Photo</td>\n",
       "      <td>F</td>\n",
       "      <td>...</td>\n",
       "      <td>NaN</td>\n",
       "      <td>NaN</td>\n",
       "      <td>NaN</td>\n",
       "      <td>NaN</td>\n",
       "      <td>NaN</td>\n",
       "      <td>16.74</td>\n",
       "      <td>0.0125</td>\n",
       "      <td>1.33</td>\n",
       "      <td>3</td>\n",
       "      <td>399</td>\n",
       "    </tr>\n",
       "    <tr>\n",
       "      <th>2</th>\n",
       "      <td>1000659879</td>\n",
       "      <td>2000200882</td>\n",
       "      <td>2/1/2019</td>\n",
       "      <td>Evergreen</td>\n",
       "      <td>Home Page</td>\n",
       "      <td>Product Page, Shopping Cart, Purchasers</td>\n",
       "      <td>Website Custom Audience</td>\n",
       "      <td>Brand Logo + Generic CTA</td>\n",
       "      <td>Photo</td>\n",
       "      <td>F</td>\n",
       "      <td>...</td>\n",
       "      <td>NaN</td>\n",
       "      <td>NaN</td>\n",
       "      <td>NaN</td>\n",
       "      <td>NaN</td>\n",
       "      <td>NaN</td>\n",
       "      <td>13.16</td>\n",
       "      <td>0.0105</td>\n",
       "      <td>1.25</td>\n",
       "      <td>3</td>\n",
       "      <td>261</td>\n",
       "    </tr>\n",
       "    <tr>\n",
       "      <th>3</th>\n",
       "      <td>1000599036</td>\n",
       "      <td>2000201316</td>\n",
       "      <td>2/1/2019</td>\n",
       "      <td>Evergreen</td>\n",
       "      <td>Top Purchasers Lookalike 1%</td>\n",
       "      <td>All Site Visitors</td>\n",
       "      <td>Lookalike</td>\n",
       "      <td>Brand Logo + Generic CTA</td>\n",
       "      <td>Photo</td>\n",
       "      <td>F</td>\n",
       "      <td>...</td>\n",
       "      <td>NaN</td>\n",
       "      <td>NaN</td>\n",
       "      <td>NaN</td>\n",
       "      <td>NaN</td>\n",
       "      <td>NaN</td>\n",
       "      <td>11.92</td>\n",
       "      <td>0.0089</td>\n",
       "      <td>1.36</td>\n",
       "      <td>1</td>\n",
       "      <td>24</td>\n",
       "    </tr>\n",
       "    <tr>\n",
       "      <th>4</th>\n",
       "      <td>1000512589</td>\n",
       "      <td>2000202452</td>\n",
       "      <td>2/1/2019</td>\n",
       "      <td>Evergreen</td>\n",
       "      <td>Top Purchasers Lookalike 2%</td>\n",
       "      <td>All Site Visitors</td>\n",
       "      <td>Lookalike</td>\n",
       "      <td>Brand Logo + Generic CTA</td>\n",
       "      <td>Photo</td>\n",
       "      <td>F</td>\n",
       "      <td>...</td>\n",
       "      <td>NaN</td>\n",
       "      <td>NaN</td>\n",
       "      <td>NaN</td>\n",
       "      <td>NaN</td>\n",
       "      <td>NaN</td>\n",
       "      <td>10.81</td>\n",
       "      <td>0.0087</td>\n",
       "      <td>1.24</td>\n",
       "      <td>0</td>\n",
       "      <td>0</td>\n",
       "    </tr>\n",
       "  </tbody>\n",
       "</table>\n",
       "<p>5 rows × 28 columns</p>\n",
       "</div>"
      ],
      "text/plain": [
       "        AD ID  Placement ID      Date   Campaign                     Audience  \\\n",
       "0  1000281165    2000200268  2/1/2019  Evergreen           Shopping Cart Page   \n",
       "1  1000141830    2000200714  2/1/2019  Evergreen                 Product Page   \n",
       "2  1000659879    2000200882  2/1/2019  Evergreen                    Home Page   \n",
       "3  1000599036    2000201316  2/1/2019  Evergreen  Top Purchasers Lookalike 1%   \n",
       "4  1000512589    2000202452  2/1/2019  Evergreen  Top Purchasers Lookalike 2%   \n",
       "\n",
       "                         Excluded Audience            Audience Type  \\\n",
       "0                                Purchases  Website Custom Audience   \n",
       "1                Purchasers, Shopping Cart  Website Custom Audience   \n",
       "2  Product Page, Shopping Cart, Purchasers  Website Custom Audience   \n",
       "3                        All Site Visitors                Lookalike   \n",
       "4                        All Site Visitors                Lookalike   \n",
       "\n",
       "                   Creative Post Type Gender      ...        \\\n",
       "0  Brand Logo + Generic CTA     Photo      F      ...         \n",
       "1  Brand Logo + Generic CTA     Photo      F      ...         \n",
       "2  Brand Logo + Generic CTA     Photo      F      ...         \n",
       "3  Brand Logo + Generic CTA     Photo      F      ...         \n",
       "4  Brand Logo + Generic CTA     Photo      F      ...         \n",
       "\n",
       "  Video Views to 25%  Video Views to 50%  Video Views to 75%  \\\n",
       "0                NaN                 NaN                 NaN   \n",
       "1                NaN                 NaN                 NaN   \n",
       "2                NaN                 NaN                 NaN   \n",
       "3                NaN                 NaN                 NaN   \n",
       "4                NaN                 NaN                 NaN   \n",
       "\n",
       "   Video Views to 95%  Video Views to 100%    CPM     CTR   CPC  Purchases  \\\n",
       "0                 NaN                  NaN  19.72  0.0153  1.27          1   \n",
       "1                 NaN                  NaN  16.74  0.0125  1.33          3   \n",
       "2                 NaN                  NaN  13.16  0.0105  1.25          3   \n",
       "3                 NaN                  NaN  11.92  0.0089  1.36          1   \n",
       "4                 NaN                  NaN  10.81  0.0087  1.24          0   \n",
       "\n",
       "   Total Revenue  \n",
       "0             97  \n",
       "1            399  \n",
       "2            261  \n",
       "3             24  \n",
       "4              0  \n",
       "\n",
       "[5 rows x 28 columns]"
      ]
     },
     "execution_count": 3,
     "metadata": {},
     "output_type": "execute_result"
    }
   ],
   "source": [
    "# join two tables together\n",
    "df = pd.merge(Facebook, Site, how='inner')\n",
    "df.head()\n"
   ]
  },
  {
   "cell_type": "markdown",
   "metadata": {
    "colab_type": "text",
    "id": "V9Tiw0Wvi0aX"
   },
   "source": [
    "## Question Number 1\n",
    "\n",
    "Total spend for each Campaign as below:"
   ]
  },
  {
   "cell_type": "code",
   "execution_count": 4,
   "metadata": {
    "colab": {
     "base_uri": "https://localhost:8080/",
     "height": 173
    },
    "colab_type": "code",
    "id": "uQuLXNvPi0aY",
    "outputId": "8dc157ca-c5e1-431c-8155-9374557e478d",
    "scrolled": true
   },
   "outputs": [
    {
     "data": {
      "text/html": [
       "<div>\n",
       "<style scoped>\n",
       "    .dataframe tbody tr th:only-of-type {\n",
       "        vertical-align: middle;\n",
       "    }\n",
       "\n",
       "    .dataframe tbody tr th {\n",
       "        vertical-align: top;\n",
       "    }\n",
       "\n",
       "    .dataframe thead th {\n",
       "        text-align: right;\n",
       "    }\n",
       "</style>\n",
       "<table border=\"1\" class=\"dataframe\">\n",
       "  <thead>\n",
       "    <tr style=\"text-align: right;\">\n",
       "      <th></th>\n",
       "      <th>Media Spend</th>\n",
       "    </tr>\n",
       "    <tr>\n",
       "      <th>Campaign</th>\n",
       "      <th></th>\n",
       "    </tr>\n",
       "  </thead>\n",
       "  <tbody>\n",
       "    <tr>\n",
       "      <th>Evergreen</th>\n",
       "      <td>113244.01</td>\n",
       "    </tr>\n",
       "    <tr>\n",
       "      <th>Free Shipping</th>\n",
       "      <td>22750.46</td>\n",
       "    </tr>\n",
       "    <tr>\n",
       "      <th>Valentine's Day Gift Offer</th>\n",
       "      <td>52372.40</td>\n",
       "    </tr>\n",
       "  </tbody>\n",
       "</table>\n",
       "</div>"
      ],
      "text/plain": [
       "                            Media Spend\n",
       "Campaign                               \n",
       "Evergreen                     113244.01\n",
       "Free Shipping                  22750.46\n",
       "Valentine's Day Gift Offer     52372.40"
      ]
     },
     "execution_count": 4,
     "metadata": {},
     "output_type": "execute_result"
    }
   ],
   "source": [
    "# created another table which only contains columns \"Campagin\" and \"Media Spend\"\n",
    "Campaign_MediaSpend = df.loc[:,['Campaign','Media Spend']]\n",
    "# group by the column \"Campaign\"\n",
    "Group_Campaign = Campaign_MediaSpend.groupby('Campaign').sum()\n",
    "Group_Campaign"
   ]
  },
  {
   "cell_type": "markdown",
   "metadata": {
    "colab_type": "text",
    "id": "0cYnQrjIi0ab"
   },
   "source": [
    "## Question Number 2\n",
    "\n",
    "The Cost Per Video View and Cost Per Completion for each creative - Filter by Video Post Type"
   ]
  },
  {
   "cell_type": "code",
   "execution_count": 5,
   "metadata": {
    "colab": {
     "base_uri": "https://localhost:8080/",
     "height": 547
    },
    "colab_type": "code",
    "id": "k7BSP7KSi0ac",
    "outputId": "10765c0b-47c0-4b72-84d8-14a105810fa3",
    "scrolled": true
   },
   "outputs": [
    {
     "data": {
      "text/html": [
       "<div>\n",
       "<style scoped>\n",
       "    .dataframe tbody tr th:only-of-type {\n",
       "        vertical-align: middle;\n",
       "    }\n",
       "\n",
       "    .dataframe tbody tr th {\n",
       "        vertical-align: top;\n",
       "    }\n",
       "\n",
       "    .dataframe thead th {\n",
       "        text-align: right;\n",
       "    }\n",
       "</style>\n",
       "<table border=\"1\" class=\"dataframe\">\n",
       "  <thead>\n",
       "    <tr style=\"text-align: right;\">\n",
       "      <th></th>\n",
       "      <th>AD ID</th>\n",
       "      <th>Placement ID</th>\n",
       "      <th>Date</th>\n",
       "      <th>Campaign</th>\n",
       "      <th>Audience</th>\n",
       "      <th>Excluded Audience</th>\n",
       "      <th>Audience Type</th>\n",
       "      <th>Creative</th>\n",
       "      <th>Post Type</th>\n",
       "      <th>Gender</th>\n",
       "      <th>...</th>\n",
       "      <th>Video Views to 50%</th>\n",
       "      <th>Video Views to 75%</th>\n",
       "      <th>Video Views to 95%</th>\n",
       "      <th>Video Views to 100%</th>\n",
       "      <th>CPM</th>\n",
       "      <th>CTR</th>\n",
       "      <th>CPC</th>\n",
       "      <th>Purchases</th>\n",
       "      <th>Total Revenue</th>\n",
       "      <th>CPV</th>\n",
       "    </tr>\n",
       "  </thead>\n",
       "  <tbody>\n",
       "    <tr>\n",
       "      <th>5091</th>\n",
       "      <td>1010880145</td>\n",
       "      <td>2021760290</td>\n",
       "      <td>2/14/2019</td>\n",
       "      <td>Valentine's Day Gift Offer</td>\n",
       "      <td>Frequent In-Store Purchasers</td>\n",
       "      <td>All Site Visitors</td>\n",
       "      <td>Custom Audience</td>\n",
       "      <td>Valentine's Day + Generic CTA</td>\n",
       "      <td>Video</td>\n",
       "      <td>M/F</td>\n",
       "      <td>...</td>\n",
       "      <td>353.0</td>\n",
       "      <td>213.0</td>\n",
       "      <td>150.0</td>\n",
       "      <td>138.0</td>\n",
       "      <td>6.06</td>\n",
       "      <td>0.0112</td>\n",
       "      <td>0.54</td>\n",
       "      <td>1</td>\n",
       "      <td>16</td>\n",
       "      <td>0.337609</td>\n",
       "    </tr>\n",
       "    <tr>\n",
       "      <th>5092</th>\n",
       "      <td>1011934363</td>\n",
       "      <td>2023868726</td>\n",
       "      <td>2/14/2019</td>\n",
       "      <td>Valentine's Day Gift Offer</td>\n",
       "      <td>Interested In: Shopping and Fashion</td>\n",
       "      <td>All Site Visitors</td>\n",
       "      <td>Facebook Interest</td>\n",
       "      <td>Valentine's Day + Generic CTA</td>\n",
       "      <td>Video</td>\n",
       "      <td>M/F</td>\n",
       "      <td>...</td>\n",
       "      <td>550.0</td>\n",
       "      <td>435.0</td>\n",
       "      <td>333.0</td>\n",
       "      <td>304.0</td>\n",
       "      <td>2.97</td>\n",
       "      <td>0.0102</td>\n",
       "      <td>0.29</td>\n",
       "      <td>1</td>\n",
       "      <td>195</td>\n",
       "      <td>0.103454</td>\n",
       "    </tr>\n",
       "    <tr>\n",
       "      <th>5093</th>\n",
       "      <td>1012988581</td>\n",
       "      <td>2025977162</td>\n",
       "      <td>2/14/2019</td>\n",
       "      <td>Valentine's Day Gift Offer</td>\n",
       "      <td>Interested In: High-End Retail</td>\n",
       "      <td>All Site Visitors</td>\n",
       "      <td>Facebook Interest</td>\n",
       "      <td>Valentine's Day + Generic CTA</td>\n",
       "      <td>Video</td>\n",
       "      <td>M/F</td>\n",
       "      <td>...</td>\n",
       "      <td>471.0</td>\n",
       "      <td>361.0</td>\n",
       "      <td>316.0</td>\n",
       "      <td>278.0</td>\n",
       "      <td>3.77</td>\n",
       "      <td>0.0075</td>\n",
       "      <td>0.50</td>\n",
       "      <td>1</td>\n",
       "      <td>157</td>\n",
       "      <td>0.115252</td>\n",
       "    </tr>\n",
       "    <tr>\n",
       "      <th>5094</th>\n",
       "      <td>1014042799</td>\n",
       "      <td>2028085598</td>\n",
       "      <td>2/14/2019</td>\n",
       "      <td>Valentine's Day Gift Offer</td>\n",
       "      <td>Interested In: Competitors</td>\n",
       "      <td>All Site Visitors</td>\n",
       "      <td>Facebook Interest</td>\n",
       "      <td>Valentine's Day + Generic CTA</td>\n",
       "      <td>Video</td>\n",
       "      <td>M/F</td>\n",
       "      <td>...</td>\n",
       "      <td>534.0</td>\n",
       "      <td>387.0</td>\n",
       "      <td>343.0</td>\n",
       "      <td>295.0</td>\n",
       "      <td>4.88</td>\n",
       "      <td>0.0056</td>\n",
       "      <td>0.88</td>\n",
       "      <td>1</td>\n",
       "      <td>168</td>\n",
       "      <td>0.131356</td>\n",
       "    </tr>\n",
       "    <tr>\n",
       "      <th>5095</th>\n",
       "      <td>1015097017</td>\n",
       "      <td>2030194034</td>\n",
       "      <td>2/14/2019</td>\n",
       "      <td>Valentine's Day Gift Offer</td>\n",
       "      <td>Shopping Cart Page</td>\n",
       "      <td>Purchases</td>\n",
       "      <td>Website Custom Audience</td>\n",
       "      <td>Valentine's Day + Valentine's Day CTA</td>\n",
       "      <td>Video</td>\n",
       "      <td>M/F</td>\n",
       "      <td>...</td>\n",
       "      <td>614.0</td>\n",
       "      <td>433.0</td>\n",
       "      <td>351.0</td>\n",
       "      <td>309.0</td>\n",
       "      <td>12.35</td>\n",
       "      <td>0.0180</td>\n",
       "      <td>0.68</td>\n",
       "      <td>6</td>\n",
       "      <td>396</td>\n",
       "      <td>0.310291</td>\n",
       "    </tr>\n",
       "  </tbody>\n",
       "</table>\n",
       "<p>5 rows × 29 columns</p>\n",
       "</div>"
      ],
      "text/plain": [
       "           AD ID  Placement ID       Date                    Campaign  \\\n",
       "5091  1010880145    2021760290  2/14/2019  Valentine's Day Gift Offer   \n",
       "5092  1011934363    2023868726  2/14/2019  Valentine's Day Gift Offer   \n",
       "5093  1012988581    2025977162  2/14/2019  Valentine's Day Gift Offer   \n",
       "5094  1014042799    2028085598  2/14/2019  Valentine's Day Gift Offer   \n",
       "5095  1015097017    2030194034  2/14/2019  Valentine's Day Gift Offer   \n",
       "\n",
       "                                 Audience  Excluded Audience  \\\n",
       "5091         Frequent In-Store Purchasers  All Site Visitors   \n",
       "5092  Interested In: Shopping and Fashion  All Site Visitors   \n",
       "5093       Interested In: High-End Retail  All Site Visitors   \n",
       "5094           Interested In: Competitors  All Site Visitors   \n",
       "5095                   Shopping Cart Page          Purchases   \n",
       "\n",
       "                Audience Type                               Creative  \\\n",
       "5091          Custom Audience          Valentine's Day + Generic CTA   \n",
       "5092        Facebook Interest          Valentine's Day + Generic CTA   \n",
       "5093        Facebook Interest          Valentine's Day + Generic CTA   \n",
       "5094        Facebook Interest          Valentine's Day + Generic CTA   \n",
       "5095  Website Custom Audience  Valentine's Day + Valentine's Day CTA   \n",
       "\n",
       "     Post Type Gender    ...    Video Views to 50%  Video Views to 75%  \\\n",
       "5091     Video    M/F    ...                 353.0               213.0   \n",
       "5092     Video    M/F    ...                 550.0               435.0   \n",
       "5093     Video    M/F    ...                 471.0               361.0   \n",
       "5094     Video    M/F    ...                 534.0               387.0   \n",
       "5095     Video    M/F    ...                 614.0               433.0   \n",
       "\n",
       "      Video Views to 95%  Video Views to 100%    CPM     CTR   CPC  Purchases  \\\n",
       "5091               150.0                138.0   6.06  0.0112  0.54          1   \n",
       "5092               333.0                304.0   2.97  0.0102  0.29          1   \n",
       "5093               316.0                278.0   3.77  0.0075  0.50          1   \n",
       "5094               343.0                295.0   4.88  0.0056  0.88          1   \n",
       "5095               351.0                309.0  12.35  0.0180  0.68          6   \n",
       "\n",
       "      Total Revenue       CPV  \n",
       "5091             16  0.337609  \n",
       "5092            195  0.103454  \n",
       "5093            157  0.115252  \n",
       "5094            168  0.131356  \n",
       "5095            396  0.310291  \n",
       "\n",
       "[5 rows x 29 columns]"
      ]
     },
     "execution_count": 5,
     "metadata": {},
     "output_type": "execute_result"
    }
   ],
   "source": [
    "# created another column called \"CPV\" which calculated by existing columns \"Media Spend\" and \"Video Views to 100%\"\n",
    "df['CPV'] = (df['Media Spend']/df['Video Views to 100%'])\n",
    "# checked the table to see if we created the column sucessfully\n",
    "df.tail()"
   ]
  },
  {
   "cell_type": "code",
   "execution_count": 6,
   "metadata": {
    "colab": {
     "base_uri": "https://localhost:8080/",
     "height": 297
    },
    "colab_type": "code",
    "id": "nIYjA23ri0ag",
    "outputId": "18975b81-f629-46f8-bc1e-d654f44b9d07",
    "scrolled": true
   },
   "outputs": [
    {
     "data": {
      "text/html": [
       "<div>\n",
       "<style scoped>\n",
       "    .dataframe tbody tr th:only-of-type {\n",
       "        vertical-align: middle;\n",
       "    }\n",
       "\n",
       "    .dataframe tbody tr th {\n",
       "        vertical-align: top;\n",
       "    }\n",
       "\n",
       "    .dataframe thead th {\n",
       "        text-align: right;\n",
       "    }\n",
       "</style>\n",
       "<table border=\"1\" class=\"dataframe\">\n",
       "  <thead>\n",
       "    <tr style=\"text-align: right;\">\n",
       "      <th></th>\n",
       "      <th>CPC</th>\n",
       "      <th>CPV</th>\n",
       "    </tr>\n",
       "    <tr>\n",
       "      <th>Creative</th>\n",
       "      <th></th>\n",
       "      <th></th>\n",
       "    </tr>\n",
       "  </thead>\n",
       "  <tbody>\n",
       "    <tr>\n",
       "      <th>Brand Logo + Save Now CTA</th>\n",
       "      <td>1130.47</td>\n",
       "      <td>346.348005</td>\n",
       "    </tr>\n",
       "    <tr>\n",
       "      <th>Brand Logo + Generic CTA</th>\n",
       "      <td>1222.39</td>\n",
       "      <td>344.958474</td>\n",
       "    </tr>\n",
       "    <tr>\n",
       "      <th>Valentine's Day + Generic CTA</th>\n",
       "      <td>163.05</td>\n",
       "      <td>55.965116</td>\n",
       "    </tr>\n",
       "    <tr>\n",
       "      <th>Brand Logo + Valentine's Day Messaging CTA</th>\n",
       "      <td>145.06</td>\n",
       "      <td>52.846316</td>\n",
       "    </tr>\n",
       "    <tr>\n",
       "      <th>Free Shipping + Free Shipping CTA</th>\n",
       "      <td>31.44</td>\n",
       "      <td>14.086944</td>\n",
       "    </tr>\n",
       "    <tr>\n",
       "      <th>Brand Logo + Free Shipping CTA</th>\n",
       "      <td>31.77</td>\n",
       "      <td>13.168853</td>\n",
       "    </tr>\n",
       "    <tr>\n",
       "      <th>Valentine's Day + Valentine's Day CTA</th>\n",
       "      <td>11.18</td>\n",
       "      <td>5.756943</td>\n",
       "    </tr>\n",
       "  </tbody>\n",
       "</table>\n",
       "</div>"
      ],
      "text/plain": [
       "                                                CPC         CPV\n",
       "Creative                                                       \n",
       "Brand Logo + Save Now CTA                   1130.47  346.348005\n",
       "Brand Logo + Generic CTA                    1222.39  344.958474\n",
       "Valentine's Day + Generic CTA                163.05   55.965116\n",
       "Brand Logo + Valentine's Day Messaging CTA   145.06   52.846316\n",
       "Free Shipping + Free Shipping CTA             31.44   14.086944\n",
       "Brand Logo + Free Shipping CTA                31.77   13.168853\n",
       "Valentine's Day + Valentine's Day CTA         11.18    5.756943"
      ]
     },
     "execution_count": 6,
     "metadata": {},
     "output_type": "execute_result"
    }
   ],
   "source": [
    "# created another table which only contained columns \"Creative\", \"CPC\", \"CPV\", \"Post Type\"\n",
    "Creative_cpc_cpv_type = df.loc[:,['Creative','CPC','CPV','Post Type']]\n",
    "# filter the post type by only showing value \"Video\"\n",
    "Type_Video = Creative_cpc_cpv_type[Creative_cpc_cpv_type['Post Type'] == 'Video']\n",
    "# group by the column creative\n",
    "Creative_Type_Video = Type_Video.groupby(['Creative']).sum()\n",
    "Creative_Type_Video.sort_values(by=['CPV','CPC'],ascending=False,inplace=True)\n",
    "Creative_Type_Video"
   ]
  },
  {
   "cell_type": "code",
   "execution_count": 7,
   "metadata": {
    "colab": {
     "base_uri": "https://localhost:8080/",
     "height": 297
    },
    "colab_type": "code",
    "id": "aUCiRi5Zi0ak",
    "outputId": "dde73398-343a-4933-8a34-7b27172ce665",
    "scrolled": false
   },
   "outputs": [
    {
     "data": {
      "text/html": [
       "<div>\n",
       "<style scoped>\n",
       "    .dataframe tbody tr th:only-of-type {\n",
       "        vertical-align: middle;\n",
       "    }\n",
       "\n",
       "    .dataframe tbody tr th {\n",
       "        vertical-align: top;\n",
       "    }\n",
       "\n",
       "    .dataframe thead th {\n",
       "        text-align: right;\n",
       "    }\n",
       "</style>\n",
       "<table border=\"1\" class=\"dataframe\">\n",
       "  <thead>\n",
       "    <tr style=\"text-align: right;\">\n",
       "      <th></th>\n",
       "      <th>CPC</th>\n",
       "      <th>CPV</th>\n",
       "    </tr>\n",
       "    <tr>\n",
       "      <th>Creative</th>\n",
       "      <th></th>\n",
       "      <th></th>\n",
       "    </tr>\n",
       "  </thead>\n",
       "  <tbody>\n",
       "    <tr>\n",
       "      <th>Brand Logo + Generic CTA</th>\n",
       "      <td>995.33</td>\n",
       "      <td>0.0</td>\n",
       "    </tr>\n",
       "    <tr>\n",
       "      <th>Brand Logo + Save Now CTA</th>\n",
       "      <td>916.04</td>\n",
       "      <td>0.0</td>\n",
       "    </tr>\n",
       "    <tr>\n",
       "      <th>Valentine's Day + Generic CTA</th>\n",
       "      <td>129.93</td>\n",
       "      <td>0.0</td>\n",
       "    </tr>\n",
       "    <tr>\n",
       "      <th>Brand Logo + Valentine's Day Messaging CTA</th>\n",
       "      <td>117.16</td>\n",
       "      <td>0.0</td>\n",
       "    </tr>\n",
       "    <tr>\n",
       "      <th>Brand Logo + Free Shipping CTA</th>\n",
       "      <td>25.57</td>\n",
       "      <td>0.0</td>\n",
       "    </tr>\n",
       "    <tr>\n",
       "      <th>Free Shipping + Free Shipping CTA</th>\n",
       "      <td>25.27</td>\n",
       "      <td>0.0</td>\n",
       "    </tr>\n",
       "    <tr>\n",
       "      <th>Valentine's Day + Valentine's Day CTA</th>\n",
       "      <td>9.68</td>\n",
       "      <td>0.0</td>\n",
       "    </tr>\n",
       "  </tbody>\n",
       "</table>\n",
       "</div>"
      ],
      "text/plain": [
       "                                               CPC  CPV\n",
       "Creative                                               \n",
       "Brand Logo + Generic CTA                    995.33  0.0\n",
       "Brand Logo + Save Now CTA                   916.04  0.0\n",
       "Valentine's Day + Generic CTA               129.93  0.0\n",
       "Brand Logo + Valentine's Day Messaging CTA  117.16  0.0\n",
       "Brand Logo + Free Shipping CTA               25.57  0.0\n",
       "Free Shipping + Free Shipping CTA            25.27  0.0\n",
       "Valentine's Day + Valentine's Day CTA         9.68  0.0"
      ]
     },
     "execution_count": 7,
     "metadata": {},
     "output_type": "execute_result"
    }
   ],
   "source": [
    "# filter the post type by only showing value \"Video\"\n",
    "Type_Photo = Creative_cpc_cpv_type[Creative_cpc_cpv_type['Post Type'] == 'Photo']\n",
    "# group by the column creative\n",
    "Creative_Type_Photo = Type_Photo.groupby(['Creative']).sum()\n",
    "Creative_Type_Photo.sort_values(by='CPC',ascending=False,inplace=True)\n",
    "Creative_Type_Photo"
   ]
  },
  {
   "cell_type": "markdown",
   "metadata": {
    "colab_type": "text",
    "id": "rMgQEIzAi0an"
   },
   "source": [
    "## Question Number 3\n",
    "\n",
    "Create a table that shows Spend, CPM, CTR and CPC for each creative."
   ]
  },
  {
   "cell_type": "code",
   "execution_count": 8,
   "metadata": {
    "colab": {
     "base_uri": "https://localhost:8080/",
     "height": 297
    },
    "colab_type": "code",
    "id": "EN5-a7oBi0ao",
    "outputId": "5d053152-c4e2-426d-d291-2871ac91d7e2",
    "scrolled": true
   },
   "outputs": [
    {
     "data": {
      "text/html": [
       "<div>\n",
       "<style scoped>\n",
       "    .dataframe tbody tr th:only-of-type {\n",
       "        vertical-align: middle;\n",
       "    }\n",
       "\n",
       "    .dataframe tbody tr th {\n",
       "        vertical-align: top;\n",
       "    }\n",
       "\n",
       "    .dataframe thead th {\n",
       "        text-align: right;\n",
       "    }\n",
       "</style>\n",
       "<table border=\"1\" class=\"dataframe\">\n",
       "  <thead>\n",
       "    <tr style=\"text-align: right;\">\n",
       "      <th></th>\n",
       "      <th>Media Spend</th>\n",
       "      <th>CPM</th>\n",
       "      <th>CTR</th>\n",
       "      <th>CPC</th>\n",
       "    </tr>\n",
       "    <tr>\n",
       "      <th>Creative</th>\n",
       "      <th></th>\n",
       "      <th></th>\n",
       "      <th></th>\n",
       "      <th></th>\n",
       "    </tr>\n",
       "  </thead>\n",
       "  <tbody>\n",
       "    <tr>\n",
       "      <th>Brand Logo + Free Shipping CTA</th>\n",
       "      <td>9349.39</td>\n",
       "      <td>736.02</td>\n",
       "      <td>0.7316</td>\n",
       "      <td>57.34</td>\n",
       "    </tr>\n",
       "    <tr>\n",
       "      <th>Brand Logo + Generic CTA</th>\n",
       "      <td>54924.38</td>\n",
       "      <td>19080.37</td>\n",
       "      <td>19.6009</td>\n",
       "      <td>2217.72</td>\n",
       "    </tr>\n",
       "    <tr>\n",
       "      <th>Brand Logo + Save Now CTA</th>\n",
       "      <td>58319.63</td>\n",
       "      <td>19168.11</td>\n",
       "      <td>21.4515</td>\n",
       "      <td>2046.51</td>\n",
       "    </tr>\n",
       "    <tr>\n",
       "      <th>Brand Logo + Valentine's Day Messaging CTA</th>\n",
       "      <td>23331.03</td>\n",
       "      <td>2974.93</td>\n",
       "      <td>3.9542</td>\n",
       "      <td>262.22</td>\n",
       "    </tr>\n",
       "    <tr>\n",
       "      <th>Free Shipping + Free Shipping CTA</th>\n",
       "      <td>13401.07</td>\n",
       "      <td>735.89</td>\n",
       "      <td>0.7418</td>\n",
       "      <td>56.71</td>\n",
       "    </tr>\n",
       "    <tr>\n",
       "      <th>Valentine's Day + Generic CTA</th>\n",
       "      <td>27204.47</td>\n",
       "      <td>3098.21</td>\n",
       "      <td>3.7620</td>\n",
       "      <td>292.98</td>\n",
       "    </tr>\n",
       "    <tr>\n",
       "      <th>Valentine's Day + Valentine's Day CTA</th>\n",
       "      <td>1836.90</td>\n",
       "      <td>386.90</td>\n",
       "      <td>0.4749</td>\n",
       "      <td>20.86</td>\n",
       "    </tr>\n",
       "  </tbody>\n",
       "</table>\n",
       "</div>"
      ],
      "text/plain": [
       "                                            Media Spend       CPM      CTR  \\\n",
       "Creative                                                                     \n",
       "Brand Logo + Free Shipping CTA                  9349.39    736.02   0.7316   \n",
       "Brand Logo + Generic CTA                       54924.38  19080.37  19.6009   \n",
       "Brand Logo + Save Now CTA                      58319.63  19168.11  21.4515   \n",
       "Brand Logo + Valentine's Day Messaging CTA     23331.03   2974.93   3.9542   \n",
       "Free Shipping + Free Shipping CTA              13401.07    735.89   0.7418   \n",
       "Valentine's Day + Generic CTA                  27204.47   3098.21   3.7620   \n",
       "Valentine's Day + Valentine's Day CTA           1836.90    386.90   0.4749   \n",
       "\n",
       "                                                CPC  \n",
       "Creative                                             \n",
       "Brand Logo + Free Shipping CTA                57.34  \n",
       "Brand Logo + Generic CTA                    2217.72  \n",
       "Brand Logo + Save Now CTA                   2046.51  \n",
       "Brand Logo + Valentine's Day Messaging CTA   262.22  \n",
       "Free Shipping + Free Shipping CTA             56.71  \n",
       "Valentine's Day + Generic CTA                292.98  \n",
       "Valentine's Day + Valentine's Day CTA         20.86  "
      ]
     },
     "execution_count": 8,
     "metadata": {},
     "output_type": "execute_result"
    }
   ],
   "source": [
    "# created a table that only contains columns \"Creative\", \"Media Spend\", \"CPM\", \"CTR\", and \"CPC\"\n",
    "MediaSpend_CPM_CTR_CPC = df.loc[:,['Creative','Media Spend','CPM','CTR','CPC']]\n",
    "# group by the column creative \n",
    "Creative_MediaSpend_CPM_CTR_CPC = MediaSpend_CPM_CTR_CPC.groupby('Creative').sum()\n",
    "Creative_MediaSpend_CPM_CTR_CPC"
   ]
  },
  {
   "cell_type": "markdown",
   "metadata": {
    "colab_type": "text",
    "id": "tUR97wnsi0as"
   },
   "source": [
    "## Question Number 4\n",
    "\n",
    "Find out the ROAS of each Audience Type "
   ]
  },
  {
   "cell_type": "code",
   "execution_count": 9,
   "metadata": {
    "colab": {
     "base_uri": "https://localhost:8080/",
     "height": 547
    },
    "colab_type": "code",
    "id": "wY9W9sa0i0at",
    "outputId": "52c99cd1-e570-4a72-9367-1570cc0a5eb8",
    "scrolled": true
   },
   "outputs": [
    {
     "data": {
      "text/html": [
       "<div>\n",
       "<style scoped>\n",
       "    .dataframe tbody tr th:only-of-type {\n",
       "        vertical-align: middle;\n",
       "    }\n",
       "\n",
       "    .dataframe tbody tr th {\n",
       "        vertical-align: top;\n",
       "    }\n",
       "\n",
       "    .dataframe thead th {\n",
       "        text-align: right;\n",
       "    }\n",
       "</style>\n",
       "<table border=\"1\" class=\"dataframe\">\n",
       "  <thead>\n",
       "    <tr style=\"text-align: right;\">\n",
       "      <th></th>\n",
       "      <th>AD ID</th>\n",
       "      <th>Placement ID</th>\n",
       "      <th>Date</th>\n",
       "      <th>Campaign</th>\n",
       "      <th>Audience</th>\n",
       "      <th>Excluded Audience</th>\n",
       "      <th>Audience Type</th>\n",
       "      <th>Creative</th>\n",
       "      <th>Post Type</th>\n",
       "      <th>Gender</th>\n",
       "      <th>...</th>\n",
       "      <th>Video Views to 75%</th>\n",
       "      <th>Video Views to 95%</th>\n",
       "      <th>Video Views to 100%</th>\n",
       "      <th>CPM</th>\n",
       "      <th>CTR</th>\n",
       "      <th>CPC</th>\n",
       "      <th>Purchases</th>\n",
       "      <th>Total Revenue</th>\n",
       "      <th>CPV</th>\n",
       "      <th>ROAS</th>\n",
       "    </tr>\n",
       "  </thead>\n",
       "  <tbody>\n",
       "    <tr>\n",
       "      <th>0</th>\n",
       "      <td>1000281165</td>\n",
       "      <td>2000200268</td>\n",
       "      <td>2/1/2019</td>\n",
       "      <td>Evergreen</td>\n",
       "      <td>Shopping Cart Page</td>\n",
       "      <td>Purchases</td>\n",
       "      <td>Website Custom Audience</td>\n",
       "      <td>Brand Logo + Generic CTA</td>\n",
       "      <td>Photo</td>\n",
       "      <td>F</td>\n",
       "      <td>...</td>\n",
       "      <td>NaN</td>\n",
       "      <td>NaN</td>\n",
       "      <td>NaN</td>\n",
       "      <td>19.72</td>\n",
       "      <td>0.0153</td>\n",
       "      <td>1.27</td>\n",
       "      <td>1</td>\n",
       "      <td>97</td>\n",
       "      <td>NaN</td>\n",
       "      <td>6.356488</td>\n",
       "    </tr>\n",
       "    <tr>\n",
       "      <th>1</th>\n",
       "      <td>1000141830</td>\n",
       "      <td>2000200714</td>\n",
       "      <td>2/1/2019</td>\n",
       "      <td>Evergreen</td>\n",
       "      <td>Product Page</td>\n",
       "      <td>Purchasers, Shopping Cart</td>\n",
       "      <td>Website Custom Audience</td>\n",
       "      <td>Brand Logo + Generic CTA</td>\n",
       "      <td>Photo</td>\n",
       "      <td>F</td>\n",
       "      <td>...</td>\n",
       "      <td>NaN</td>\n",
       "      <td>NaN</td>\n",
       "      <td>NaN</td>\n",
       "      <td>16.74</td>\n",
       "      <td>0.0125</td>\n",
       "      <td>1.33</td>\n",
       "      <td>3</td>\n",
       "      <td>399</td>\n",
       "      <td>NaN</td>\n",
       "      <td>8.122964</td>\n",
       "    </tr>\n",
       "    <tr>\n",
       "      <th>2</th>\n",
       "      <td>1000659879</td>\n",
       "      <td>2000200882</td>\n",
       "      <td>2/1/2019</td>\n",
       "      <td>Evergreen</td>\n",
       "      <td>Home Page</td>\n",
       "      <td>Product Page, Shopping Cart, Purchasers</td>\n",
       "      <td>Website Custom Audience</td>\n",
       "      <td>Brand Logo + Generic CTA</td>\n",
       "      <td>Photo</td>\n",
       "      <td>F</td>\n",
       "      <td>...</td>\n",
       "      <td>NaN</td>\n",
       "      <td>NaN</td>\n",
       "      <td>NaN</td>\n",
       "      <td>13.16</td>\n",
       "      <td>0.0105</td>\n",
       "      <td>1.25</td>\n",
       "      <td>3</td>\n",
       "      <td>261</td>\n",
       "      <td>NaN</td>\n",
       "      <td>3.207570</td>\n",
       "    </tr>\n",
       "    <tr>\n",
       "      <th>3</th>\n",
       "      <td>1000599036</td>\n",
       "      <td>2000201316</td>\n",
       "      <td>2/1/2019</td>\n",
       "      <td>Evergreen</td>\n",
       "      <td>Top Purchasers Lookalike 1%</td>\n",
       "      <td>All Site Visitors</td>\n",
       "      <td>Lookalike</td>\n",
       "      <td>Brand Logo + Generic CTA</td>\n",
       "      <td>Photo</td>\n",
       "      <td>F</td>\n",
       "      <td>...</td>\n",
       "      <td>NaN</td>\n",
       "      <td>NaN</td>\n",
       "      <td>NaN</td>\n",
       "      <td>11.92</td>\n",
       "      <td>0.0089</td>\n",
       "      <td>1.36</td>\n",
       "      <td>1</td>\n",
       "      <td>24</td>\n",
       "      <td>NaN</td>\n",
       "      <td>0.735069</td>\n",
       "    </tr>\n",
       "    <tr>\n",
       "      <th>4</th>\n",
       "      <td>1000512589</td>\n",
       "      <td>2000202452</td>\n",
       "      <td>2/1/2019</td>\n",
       "      <td>Evergreen</td>\n",
       "      <td>Top Purchasers Lookalike 2%</td>\n",
       "      <td>All Site Visitors</td>\n",
       "      <td>Lookalike</td>\n",
       "      <td>Brand Logo + Generic CTA</td>\n",
       "      <td>Photo</td>\n",
       "      <td>F</td>\n",
       "      <td>...</td>\n",
       "      <td>NaN</td>\n",
       "      <td>NaN</td>\n",
       "      <td>NaN</td>\n",
       "      <td>10.81</td>\n",
       "      <td>0.0087</td>\n",
       "      <td>1.24</td>\n",
       "      <td>0</td>\n",
       "      <td>0</td>\n",
       "      <td>NaN</td>\n",
       "      <td>0.000000</td>\n",
       "    </tr>\n",
       "  </tbody>\n",
       "</table>\n",
       "<p>5 rows × 30 columns</p>\n",
       "</div>"
      ],
      "text/plain": [
       "        AD ID  Placement ID      Date   Campaign                     Audience  \\\n",
       "0  1000281165    2000200268  2/1/2019  Evergreen           Shopping Cart Page   \n",
       "1  1000141830    2000200714  2/1/2019  Evergreen                 Product Page   \n",
       "2  1000659879    2000200882  2/1/2019  Evergreen                    Home Page   \n",
       "3  1000599036    2000201316  2/1/2019  Evergreen  Top Purchasers Lookalike 1%   \n",
       "4  1000512589    2000202452  2/1/2019  Evergreen  Top Purchasers Lookalike 2%   \n",
       "\n",
       "                         Excluded Audience            Audience Type  \\\n",
       "0                                Purchases  Website Custom Audience   \n",
       "1                Purchasers, Shopping Cart  Website Custom Audience   \n",
       "2  Product Page, Shopping Cart, Purchasers  Website Custom Audience   \n",
       "3                        All Site Visitors                Lookalike   \n",
       "4                        All Site Visitors                Lookalike   \n",
       "\n",
       "                   Creative Post Type Gender    ...    Video Views to 75%  \\\n",
       "0  Brand Logo + Generic CTA     Photo      F    ...                   NaN   \n",
       "1  Brand Logo + Generic CTA     Photo      F    ...                   NaN   \n",
       "2  Brand Logo + Generic CTA     Photo      F    ...                   NaN   \n",
       "3  Brand Logo + Generic CTA     Photo      F    ...                   NaN   \n",
       "4  Brand Logo + Generic CTA     Photo      F    ...                   NaN   \n",
       "\n",
       "   Video Views to 95%  Video Views to 100%    CPM     CTR   CPC  Purchases  \\\n",
       "0                 NaN                  NaN  19.72  0.0153  1.27          1   \n",
       "1                 NaN                  NaN  16.74  0.0125  1.33          3   \n",
       "2                 NaN                  NaN  13.16  0.0105  1.25          3   \n",
       "3                 NaN                  NaN  11.92  0.0089  1.36          1   \n",
       "4                 NaN                  NaN  10.81  0.0087  1.24          0   \n",
       "\n",
       "   Total Revenue  CPV      ROAS  \n",
       "0             97  NaN  6.356488  \n",
       "1            399  NaN  8.122964  \n",
       "2            261  NaN  3.207570  \n",
       "3             24  NaN  0.735069  \n",
       "4              0  NaN  0.000000  \n",
       "\n",
       "[5 rows x 30 columns]"
      ]
     },
     "execution_count": 9,
     "metadata": {},
     "output_type": "execute_result"
    }
   ],
   "source": [
    "# created another columns by calculating the existing columns \"Total Revenue\" and \"Media Spend\"\n",
    "df['ROAS'] = (df['Total Revenue']/df['Media Spend'])\n",
    "# checked the table to see if we created the column successfully\n",
    "df.head()"
   ]
  },
  {
   "cell_type": "code",
   "execution_count": 10,
   "metadata": {
    "colab": {
     "base_uri": "https://localhost:8080/",
     "height": 204
    },
    "colab_type": "code",
    "id": "HerXtpGqi0ax",
    "outputId": "029b1783-b2e5-40a3-fc07-cb6168734325",
    "scrolled": true
   },
   "outputs": [
    {
     "data": {
      "text/html": [
       "<div>\n",
       "<style scoped>\n",
       "    .dataframe tbody tr th:only-of-type {\n",
       "        vertical-align: middle;\n",
       "    }\n",
       "\n",
       "    .dataframe tbody tr th {\n",
       "        vertical-align: top;\n",
       "    }\n",
       "\n",
       "    .dataframe thead th {\n",
       "        text-align: right;\n",
       "    }\n",
       "</style>\n",
       "<table border=\"1\" class=\"dataframe\">\n",
       "  <thead>\n",
       "    <tr style=\"text-align: right;\">\n",
       "      <th></th>\n",
       "      <th>Audience Type</th>\n",
       "      <th>ROAS</th>\n",
       "    </tr>\n",
       "  </thead>\n",
       "  <tbody>\n",
       "    <tr>\n",
       "      <th>0</th>\n",
       "      <td>Website Custom Audience</td>\n",
       "      <td>6.356488</td>\n",
       "    </tr>\n",
       "    <tr>\n",
       "      <th>1</th>\n",
       "      <td>Website Custom Audience</td>\n",
       "      <td>8.122964</td>\n",
       "    </tr>\n",
       "    <tr>\n",
       "      <th>2</th>\n",
       "      <td>Website Custom Audience</td>\n",
       "      <td>3.207570</td>\n",
       "    </tr>\n",
       "    <tr>\n",
       "      <th>3</th>\n",
       "      <td>Lookalike</td>\n",
       "      <td>0.735069</td>\n",
       "    </tr>\n",
       "    <tr>\n",
       "      <th>4</th>\n",
       "      <td>Lookalike</td>\n",
       "      <td>0.000000</td>\n",
       "    </tr>\n",
       "  </tbody>\n",
       "</table>\n",
       "</div>"
      ],
      "text/plain": [
       "             Audience Type      ROAS\n",
       "0  Website Custom Audience  6.356488\n",
       "1  Website Custom Audience  8.122964\n",
       "2  Website Custom Audience  3.207570\n",
       "3                Lookalike  0.735069\n",
       "4                Lookalike  0.000000"
      ]
     },
     "execution_count": 10,
     "metadata": {},
     "output_type": "execute_result"
    }
   ],
   "source": [
    "# created another table that only contains columns \"Audience Type\" and \"ROAS\"\n",
    "AudienceType_ROAS = df.loc[:,['Audience Type','ROAS']]\n",
    "# check the created table\n",
    "AudienceType_ROAS.head()"
   ]
  },
  {
   "cell_type": "code",
   "execution_count": 11,
   "metadata": {
    "colab": {},
    "colab_type": "code",
    "id": "B64xx0yyi0a2",
    "outputId": "ad4f1f39-19d2-40e8-c454-92c2fb73b93f",
    "scrolled": false
   },
   "outputs": [
    {
     "data": {
      "text/plain": [
       "Audience Type\n",
       "Custom Audience            2750.193872\n",
       "Facebook Interest          1963.926795\n",
       "Lookalike                  2198.203797\n",
       "Website Custom Audience    7063.094339\n",
       "Name: ROAS, dtype: float64"
      ]
     },
     "execution_count": 11,
     "metadata": {},
     "output_type": "execute_result"
    }
   ],
   "source": [
    "# group by the column \"Audience Type\" to show the ROAS under each Audience Type\n",
    "Group_AudienceType = AudienceType_ROAS.groupby(['Audience Type']).sum()['ROAS']\n",
    "Group_AudienceType "
   ]
  },
  {
   "cell_type": "markdown",
   "metadata": {
    "colab_type": "text",
    "id": "BqOX4-sdi0a6"
   },
   "source": [
    "## Question Number 5\n",
    "Each Audience Type created based on column Audience <br>\n",
    "\n",
    "**Custom Audience**: Lapsed Purchasers and Frequent In-Store Purchasers <br>\n",
    "**Facebook Interest**: Interested In: Competitors, Interested In: High-End Retail, and Interested In: Shopping and Fashion <br>\n",
    "**Lookalike**: Top Purchasers Lookalike 1% and Top Purchasers Lookalike 2% <br>\n",
    "**Website Custom Audience**: Home Page, Product Page and Shopping Cart Page <br>\n"
   ]
  },
  {
   "cell_type": "code",
   "execution_count": 12,
   "metadata": {
    "colab": {},
    "colab_type": "code",
    "id": "kdSikFkCi0a7",
    "outputId": "db699aa3-8fb4-46c9-85bd-03b527b089cd"
   },
   "outputs": [
    {
     "data": {
      "text/html": [
       "<div>\n",
       "<style scoped>\n",
       "    .dataframe tbody tr th:only-of-type {\n",
       "        vertical-align: middle;\n",
       "    }\n",
       "\n",
       "    .dataframe tbody tr th {\n",
       "        vertical-align: top;\n",
       "    }\n",
       "\n",
       "    .dataframe thead th {\n",
       "        text-align: right;\n",
       "    }\n",
       "</style>\n",
       "<table border=\"1\" class=\"dataframe\">\n",
       "  <thead>\n",
       "    <tr style=\"text-align: right;\">\n",
       "      <th></th>\n",
       "      <th>CTR</th>\n",
       "      <th>ROAS</th>\n",
       "    </tr>\n",
       "    <tr>\n",
       "      <th>Audience Type</th>\n",
       "      <th></th>\n",
       "      <th></th>\n",
       "    </tr>\n",
       "  </thead>\n",
       "  <tbody>\n",
       "    <tr>\n",
       "      <th>Custom Audience</th>\n",
       "      <td>0.010049</td>\n",
       "      <td>2.913341</td>\n",
       "    </tr>\n",
       "    <tr>\n",
       "      <th>Facebook Interest</th>\n",
       "      <td>0.007153</td>\n",
       "      <td>1.115867</td>\n",
       "    </tr>\n",
       "    <tr>\n",
       "      <th>Lookalike</th>\n",
       "      <td>0.009157</td>\n",
       "      <td>2.328606</td>\n",
       "    </tr>\n",
       "    <tr>\n",
       "      <th>Website Custom Audience</th>\n",
       "      <td>0.013810</td>\n",
       "      <td>4.877828</td>\n",
       "    </tr>\n",
       "  </tbody>\n",
       "</table>\n",
       "</div>"
      ],
      "text/plain": [
       "                              CTR      ROAS\n",
       "Audience Type                              \n",
       "Custom Audience          0.010049  2.913341\n",
       "Facebook Interest        0.007153  1.115867\n",
       "Lookalike                0.009157  2.328606\n",
       "Website Custom Audience  0.013810  4.877828"
      ]
     },
     "execution_count": 12,
     "metadata": {},
     "output_type": "execute_result"
    }
   ],
   "source": [
    "# created a table that only contains columns \"Audience Type\", \"Audience\", \"CTR\", and \"ROAS\"\n",
    "Audience_Analysis = df.loc[:,['Audience Type','Audience','CTR','ROAS']]\n",
    "# group by the column creative \n",
    "Audience_Analysis_Summary= Audience_Analysis.groupby('Audience Type').mean()\n",
    "Audience_Analysis_Summary"
   ]
  },
  {
   "cell_type": "code",
   "execution_count": 13,
   "metadata": {
    "colab": {},
    "colab_type": "code",
    "id": "E9qKu6sci0bA",
    "outputId": "8755b2ca-4f3a-4dcc-c555-d66d3763e8d4"
   },
   "outputs": [
    {
     "name": "stdout",
     "output_type": "stream",
     "text": [
      "Audience\n",
      "Home Page             0.011023\n",
      "Product Page          0.013906\n",
      "Shopping Cart Page    0.016329\n",
      "Name: mean, dtype: float64\n"
     ]
    }
   ],
   "source": [
    "# created a table that filter the audiece type \"Website Custom Audience\" and group by to calculate the average for CTR\n",
    "Website_Custom_Audience = Audience_Analysis[Audience_Analysis['Audience Type'] == 'Website Custom Audience']\n",
    "Website_Custom_Audience_Group = Website_Custom_Audience.groupby(['Audience'])\n",
    "Website_Custom_Audience_CTR = Website_Custom_Audience_Group['CTR'].describe()['mean']\n",
    "print(Website_Custom_Audience_CTR)"
   ]
  },
  {
   "cell_type": "code",
   "execution_count": 14,
   "metadata": {
    "colab": {},
    "colab_type": "code",
    "id": "LObPht3bi0bH"
   },
   "outputs": [],
   "source": [
    "# plot it in a bar chart to see which audience has the highest CTR\n",
    "barWebsite_Custom_Audience_CTR = Website_Custom_Audience_CTR.plot.bar()\n",
    "barWebsite_Custom_Audience_CTR;"
   ]
  },
  {
   "cell_type": "code",
   "execution_count": 15,
   "metadata": {
    "colab": {},
    "colab_type": "code",
    "id": "3WVTuFnDi0bL",
    "outputId": "9702c303-f5d3-4118-cfee-6cf1a3d087c8"
   },
   "outputs": [
    {
     "name": "stdout",
     "output_type": "stream",
     "text": [
      "Audience\n",
      "Home Page             3.536379\n",
      "Product Page          4.747948\n",
      "Shopping Cart Page    6.255738\n",
      "Name: mean, dtype: float64\n"
     ]
    }
   ],
   "source": [
    "# created a table that filter the audiece type \"Website Custom Audience\" and group by to calculate the average for ROAS\n",
    "Website_Custom_Audience_ROAS = Website_Custom_Audience_Group['ROAS'].describe()['mean']\n",
    "print(Website_Custom_Audience_ROAS)"
   ]
  },
  {
   "cell_type": "code",
   "execution_count": 16,
   "metadata": {
    "colab": {},
    "colab_type": "code",
    "id": "gL5tvwQgi0bP",
    "outputId": "ffdaec86-c2b3-4f20-9126-0b90aeef8034"
   },
   "outputs": [
    {
     "data": {
      "image/png": "[encoded data removed]",
      "text/plain": [
       "<Figure size 432x288 with 1 Axes>"
      ]
     },
     "metadata": {
      "needs_background": "light"
     },
     "output_type": "display_data"
    }
   ],
   "source": [
    "# plot it in a bar chart to see which audience has the highest CTR\n",
    "barWebsite_Custom_Audience_ROAS = Website_Custom_Audience_ROAS.plot.bar()\n",
    "barWebsite_Custom_Audience_ROAS;"
   ]
  },
  {
   "cell_type": "markdown",
   "metadata": {
    "colab_type": "text",
    "id": "PqqRl_4Gi0bZ"
   },
   "source": [
    "# conclusion: <br>\n",
    "Based on my observations, Audience Type: Website Custom Audience has the highest performance based on the major metrics \"CTR\" and \"ROAS\". Then, I dig deep to see which audience from \"Website Custom Audience\" type has the highest performance under each metrics \"CTR\" and \"ROAS\". Therefore, both bar charts showed the audience \"Shipping Cart Page\" has the highest performance. Instead, the audience \"Home Page\" has the worst performance."
   ]
  },
  {
   "cell_type": "markdown",
   "metadata": {
    "colab_type": "text",
    "id": "6ULRLo_pi0ba"
   },
   "source": [
    "## Question Number 6\n",
    "\n",
    "A chart that shows daily ROAS performance as below:"
   ]
  },
  {
   "cell_type": "code",
   "execution_count": 17,
   "metadata": {
    "colab": {},
    "colab_type": "code",
    "id": "HkwvpkXyi0bb",
    "outputId": "9dc4ac7f-3531-42df-af45-e335ed8b502f"
   },
   "outputs": [
    {
     "data": {
      "text/html": [
       "<div>\n",
       "<style scoped>\n",
       "    .dataframe tbody tr th:only-of-type {\n",
       "        vertical-align: middle;\n",
       "    }\n",
       "\n",
       "    .dataframe tbody tr th {\n",
       "        vertical-align: top;\n",
       "    }\n",
       "\n",
       "    .dataframe thead th {\n",
       "        text-align: right;\n",
       "    }\n",
       "</style>\n",
       "<table border=\"1\" class=\"dataframe\">\n",
       "  <thead>\n",
       "    <tr style=\"text-align: right;\">\n",
       "      <th></th>\n",
       "      <th>ROAS</th>\n",
       "    </tr>\n",
       "    <tr>\n",
       "      <th>Date</th>\n",
       "      <th></th>\n",
       "    </tr>\n",
       "  </thead>\n",
       "  <tbody>\n",
       "    <tr>\n",
       "      <th>2019-02-01</th>\n",
       "      <td>445.698774</td>\n",
       "    </tr>\n",
       "    <tr>\n",
       "      <th>2019-02-02</th>\n",
       "      <td>438.154311</td>\n",
       "    </tr>\n",
       "    <tr>\n",
       "      <th>2019-02-03</th>\n",
       "      <td>503.511430</td>\n",
       "    </tr>\n",
       "    <tr>\n",
       "      <th>2019-02-04</th>\n",
       "      <td>440.332546</td>\n",
       "    </tr>\n",
       "    <tr>\n",
       "      <th>2019-02-05</th>\n",
       "      <td>402.347464</td>\n",
       "    </tr>\n",
       "  </tbody>\n",
       "</table>\n",
       "</div>"
      ],
      "text/plain": [
       "                  ROAS\n",
       "Date                  \n",
       "2019-02-01  445.698774\n",
       "2019-02-02  438.154311\n",
       "2019-02-03  503.511430\n",
       "2019-02-04  440.332546\n",
       "2019-02-05  402.347464"
      ]
     },
     "execution_count": 17,
     "metadata": {},
     "output_type": "execute_result"
    }
   ],
   "source": [
    "# created another table that only contains \"Date\" and \"ROAS\" and converted into frame \n",
    "Date_ROAS = df.loc[:,['Date','ROAS']]\n",
    "Group_Date_ROAS = Date_ROAS.groupby(['Date']).sum()['ROAS'].to_frame()\n",
    "Group_Date_ROAS\n",
    "# created datetime index \n",
    "Group_Date_ROAS.index = pd.to_datetime(Group_Date_ROAS.index)\n",
    "Group_Date_ROAS.head()\n",
    "# sorted the new table \n",
    "Group_Date_ROAS_New = Group_Date_ROAS.sort_index()\n",
    "Group_Date_ROAS_New.head()"
   ]
  },
  {
   "cell_type": "code",
   "execution_count": 18,
   "metadata": {
    "colab": {},
    "colab_type": "code",
    "id": "YvQeGAxbi0bh"
   },
   "outputs": [],
   "source": [
    "# converted the column \"Date\" from objective to numeric \n",
    "Facebook.Date = pd.to_datetime(Facebook.Date)"
   ]
  },
  {
   "cell_type": "code",
   "execution_count": 19,
   "metadata": {
    "colab": {},
    "colab_type": "code",
    "id": "2HNh92xfi0bl",
    "outputId": "67a5d125-06bd-483e-c66f-f921be656e31"
   },
   "outputs": [
    {
     "data": {
      "text/plain": [
       "[<matplotlib.lines.Line2D at 0x2326a084048>]"
      ]
     },
     "execution_count": 19,
     "metadata": {},
     "output_type": "execute_result"
    },
    {
     "data": {
      "image/png": "[encoded data removed]",
      "text/plain": [
       "<Figure size 432x288 with 1 Axes>"
      ]
     },
     "metadata": {
      "needs_background": "light"
     },
     "output_type": "display_data"
    }
   ],
   "source": [
    "import pandas as pd\n",
    "import matplotlib.pyplot as plt\n",
    "# created the line chart to visulize the time series ROAS performance \n",
    "fig, ax = plt.subplots()\n",
    "fig.subplots_adjust(bottom=0.3)\n",
    "plt.xticks(rotation=90)\n",
    "plt.plot(Group_Date_ROAS_New)"
   ]
  },
  {
   "cell_type": "markdown",
   "metadata": {
    "colab_type": "text",
    "id": "B9IP6Rh4i0bp"
   },
   "source": [
    "## Question Number 7\n",
    "\n",
    "A chart that shows CPC and CTR performance by the audience as below:"
   ]
  },
  {
   "cell_type": "code",
   "execution_count": 20,
   "metadata": {
    "colab": {},
    "colab_type": "code",
    "id": "wNvU7mqKi0bq",
    "outputId": "c803b95b-4eaf-4c77-d059-bab8c6733ccb",
    "scrolled": true
   },
   "outputs": [
    {
     "name": "stderr",
     "output_type": "stream",
     "text": [
      "D:\\Anaconda\\lib\\site-packages\\scipy\\stats\\stats.py:1713: FutureWarning: Using a non-tuple sequence for multidimensional indexing is deprecated; use `arr[tuple(seq)]` instead of `arr[seq]`. In the future this will be interpreted as an array index, `arr[np.array(seq)]`, which will result either in an error or a different result.\n",
      "  return np.add.reduce(sorted[indexer] * weights, axis=axis) / sumval\n"
     ]
    },
    {
     "data": {
      "image/png": "[encoded data removed]",
      "text/plain": [
       "<Figure size 576.5x360 with 1 Axes>"
      ]
     },
     "metadata": {
      "needs_background": "light"
     },
     "output_type": "display_data"
    }
   ],
   "source": [
    "# created the scatter plot to visualize the relationship between CTR and CPC under the category \"Audience\"\n",
    "import seaborn as sns\n",
    "import matplotlib.pyplot as plt\n",
    "sns.lmplot(x=\"CPC\", y=\"CTR\", hue=\"Audience\", data=df);"
   ]
  },
  {
   "cell_type": "markdown",
   "metadata": {
    "colab_type": "text",
    "id": "Kce5rwf5i0bt"
   },
   "source": [
    "Based on this chart, we can clearly see the Audience \"Shopping Cart Page\" has the strongest negative relationship under the metrics \"CTR\" and \"CPC\". On the other hand, the Audience \"Interested in: Competitors\" has the weakest negative relationship under the metrics \"CTR\" and \"CPC\"."
   ]
  },
  {
   "cell_type": "markdown",
   "metadata": {
    "colab_type": "text",
    "id": "PiHr5w7ui0bu"
   },
   "source": [
    "## Question Number 8\n",
    "\n",
    "Scatterplot chart as below: showed Daily Spend correlate to ROAS generated"
   ]
  },
  {
   "cell_type": "code",
   "execution_count": 21,
   "metadata": {
    "colab": {},
    "colab_type": "code",
    "id": "E_hYPAq1i0bu",
    "outputId": "ba881eda-df45-4917-88ce-4fa2b7a428bc"
   },
   "outputs": [
    {
     "data": {
      "text/html": [
       "<div>\n",
       "<style scoped>\n",
       "    .dataframe tbody tr th:only-of-type {\n",
       "        vertical-align: middle;\n",
       "    }\n",
       "\n",
       "    .dataframe tbody tr th {\n",
       "        vertical-align: top;\n",
       "    }\n",
       "\n",
       "    .dataframe thead th {\n",
       "        text-align: right;\n",
       "    }\n",
       "</style>\n",
       "<table border=\"1\" class=\"dataframe\">\n",
       "  <thead>\n",
       "    <tr style=\"text-align: right;\">\n",
       "      <th></th>\n",
       "      <th>Media Spend</th>\n",
       "      <th>ROAS</th>\n",
       "    </tr>\n",
       "  </thead>\n",
       "  <tbody>\n",
       "    <tr>\n",
       "      <th>Media Spend</th>\n",
       "      <td>1.000000</td>\n",
       "      <td>0.298086</td>\n",
       "    </tr>\n",
       "    <tr>\n",
       "      <th>ROAS</th>\n",
       "      <td>0.298086</td>\n",
       "      <td>1.000000</td>\n",
       "    </tr>\n",
       "  </tbody>\n",
       "</table>\n",
       "</div>"
      ],
      "text/plain": [
       "             Media Spend      ROAS\n",
       "Media Spend     1.000000  0.298086\n",
       "ROAS            0.298086  1.000000"
      ]
     },
     "execution_count": 21,
     "metadata": {},
     "output_type": "execute_result"
    }
   ],
   "source": [
    "# checked the correlation between column \"Media Spend\" and \"ROAS\"\n",
    "corr_df = df.loc[:,['Media Spend', 'ROAS']]\n",
    "corr_df.corr()"
   ]
  },
  {
   "cell_type": "code",
   "execution_count": 22,
   "metadata": {
    "colab": {},
    "colab_type": "code",
    "id": "cmmvmy0mi0bx",
    "outputId": "4f394cd6-7ef7-497a-fafd-7512ccfd167e"
   },
   "outputs": [
    {
     "data": {
      "image/png": "[encoded data removed]",
      "text/plain": [
       "<Figure size 360x360 with 1 Axes>"
      ]
     },
     "metadata": {
      "needs_background": "light"
     },
     "output_type": "display_data"
    }
   ],
   "source": [
    "# created the scatterplot to visualize the relationship \n",
    "sns.lmplot(x=\"Media Spend\", y=\"ROAS\", data=df);"
   ]
  },
  {
   "cell_type": "markdown",
   "metadata": {
    "colab_type": "text",
    "id": "A-MxLEJki0b1"
   },
   "source": [
    "Amount of Daily Spend does correlate to ROAS generated. They don't have a strong positive relationship. Based on the chart, we can see they do have a strong positive relationship at the beginning (especially on media spend range 0 - 200), but once over the 400, it tended to have a weak positive relationship"
   ]
  },
  {
   "cell_type": "markdown",
   "metadata": {
    "colab_type": "text",
    "id": "2a4fKBu3i0b2"
   },
   "source": [
    "## Question Number 9\n",
    "\n",
    "The metric \"CTR\" from question 3 I would use to determine which creative performed best. Compared to another two metrics \"CPM\" and \"CPC\", which are mainly focusing on cost for impressions and clicks, it won't give us any results about which Creatives have made returns based on its activities. The \"CTR\" metric showed us how does each Creative actually attracted the user's attention and made clicks. <br>\n",
    "\n",
    "Creative \"Brand Logo + Save Now CTA\" performed better under metric \"CTR\" "
   ]
  },
  {
   "cell_type": "markdown",
   "metadata": {
    "colab_type": "text",
    "id": "-Z95V1q8i0b2"
   },
   "source": [
    "## Question Number 10\n",
    "\n",
    "\n"
   ]
  },
  {
   "cell_type": "code",
   "execution_count": 23,
   "metadata": {
    "colab": {},
    "colab_type": "code",
    "id": "LPmGnJgti0b3",
    "outputId": "38cc7d5c-3509-4a2a-acbb-de2b6c27e361"
   },
   "outputs": [
    {
     "data": {
      "text/html": [
       "<div>\n",
       "<style scoped>\n",
       "    .dataframe tbody tr th:only-of-type {\n",
       "        vertical-align: middle;\n",
       "    }\n",
       "\n",
       "    .dataframe tbody tr th {\n",
       "        vertical-align: top;\n",
       "    }\n",
       "\n",
       "    .dataframe thead th {\n",
       "        text-align: right;\n",
       "    }\n",
       "</style>\n",
       "<table border=\"1\" class=\"dataframe\">\n",
       "  <thead>\n",
       "    <tr style=\"text-align: right;\">\n",
       "      <th></th>\n",
       "      <th>Impressions</th>\n",
       "      <th>Clicks</th>\n",
       "      <th>Likes</th>\n",
       "      <th>Comments</th>\n",
       "      <th>Shares</th>\n",
       "    </tr>\n",
       "    <tr>\n",
       "      <th>Creative</th>\n",
       "      <th></th>\n",
       "      <th></th>\n",
       "      <th></th>\n",
       "      <th></th>\n",
       "      <th></th>\n",
       "    </tr>\n",
       "  </thead>\n",
       "  <tbody>\n",
       "    <tr>\n",
       "      <th>Brand Logo + Free Shipping CTA</th>\n",
       "      <td>730310</td>\n",
       "      <td>8835</td>\n",
       "      <td>728</td>\n",
       "      <td>357</td>\n",
       "      <td>223</td>\n",
       "    </tr>\n",
       "    <tr>\n",
       "      <th>Brand Logo + Generic CTA</th>\n",
       "      <td>6194004</td>\n",
       "      <td>57452</td>\n",
       "      <td>6173</td>\n",
       "      <td>3193</td>\n",
       "      <td>1907</td>\n",
       "    </tr>\n",
       "    <tr>\n",
       "      <th>Brand Logo + Save Now CTA</th>\n",
       "      <td>6580247</td>\n",
       "      <td>66642</td>\n",
       "      <td>6585</td>\n",
       "      <td>3338</td>\n",
       "      <td>1996</td>\n",
       "    </tr>\n",
       "    <tr>\n",
       "      <th>Brand Logo + Valentine's Day Messaging CTA</th>\n",
       "      <td>2589284</td>\n",
       "      <td>31976</td>\n",
       "      <td>2597</td>\n",
       "      <td>1269</td>\n",
       "      <td>774</td>\n",
       "    </tr>\n",
       "    <tr>\n",
       "      <th>Free Shipping + Free Shipping CTA</th>\n",
       "      <td>1046281</td>\n",
       "      <td>13012</td>\n",
       "      <td>1026</td>\n",
       "      <td>534</td>\n",
       "      <td>302</td>\n",
       "    </tr>\n",
       "    <tr>\n",
       "      <th>Valentine's Day + Generic CTA</th>\n",
       "      <td>2977905</td>\n",
       "      <td>34019</td>\n",
       "      <td>2930</td>\n",
       "      <td>1511</td>\n",
       "      <td>890</td>\n",
       "    </tr>\n",
       "    <tr>\n",
       "      <th>Valentine's Day + Valentine's Day CTA</th>\n",
       "      <td>121948</td>\n",
       "      <td>2412</td>\n",
       "      <td>119</td>\n",
       "      <td>59</td>\n",
       "      <td>39</td>\n",
       "    </tr>\n",
       "  </tbody>\n",
       "</table>\n",
       "</div>"
      ],
      "text/plain": [
       "                                            Impressions  Clicks  Likes  \\\n",
       "Creative                                                                 \n",
       "Brand Logo + Free Shipping CTA                   730310    8835    728   \n",
       "Brand Logo + Generic CTA                        6194004   57452   6173   \n",
       "Brand Logo + Save Now CTA                       6580247   66642   6585   \n",
       "Brand Logo + Valentine's Day Messaging CTA      2589284   31976   2597   \n",
       "Free Shipping + Free Shipping CTA               1046281   13012   1026   \n",
       "Valentine's Day + Generic CTA                   2977905   34019   2930   \n",
       "Valentine's Day + Valentine's Day CTA            121948    2412    119   \n",
       "\n",
       "                                            Comments  Shares  \n",
       "Creative                                                      \n",
       "Brand Logo + Free Shipping CTA                   357     223  \n",
       "Brand Logo + Generic CTA                        3193    1907  \n",
       "Brand Logo + Save Now CTA                       3338    1996  \n",
       "Brand Logo + Valentine's Day Messaging CTA      1269     774  \n",
       "Free Shipping + Free Shipping CTA                534     302  \n",
       "Valentine's Day + Generic CTA                   1511     890  \n",
       "Valentine's Day + Valentine's Day CTA             59      39  "
      ]
     },
     "execution_count": 23,
     "metadata": {},
     "output_type": "execute_result"
    }
   ],
   "source": [
    "# created the table that only contains column \"Creative\", \"Imporessions\", \"Likes\", \"Comments\", \"Shares\" group by the column \"Creative\"\n",
    "New_Metrics = df.loc[:,['Creative','Impressions','Clicks','Likes','Comments','Shares']]\n",
    "New_Metrics_Table = New_Metrics.groupby('Creative').sum()\n",
    "New_Metrics_Table"
   ]
  },
  {
   "cell_type": "markdown",
   "metadata": {
    "colab_type": "text",
    "id": "waU7YB4-i0b7"
   },
   "source": [
    "I would also consider metrics such as \"Impressions\", \"Clicks\", \"Likes\", \"Comments\", \"Shares\", \"Video Views\" to analyze the most effective creative tactic. Based on this summary table, we can observe Creative \"Brand Logo + Save Now CTA\" are highest among all metrics <br>\n",
    "\n",
    "I would get mean for all of metrics and determine how far away for each Creative to determine the effectiveness or assign grade A, B, C, D for each Creative"
   ]
  },
  {
   "cell_type": "markdown",
   "metadata": {
    "colab_type": "text",
    "id": "jV8iZF0Ri0b8"
   },
   "source": [
    "## Question Number 11\n",
    "\n",
    "In order to create a strategy to optimize a campaign, we need to determine first which campaign has the highest return on ad spend."
   ]
  },
  {
   "cell_type": "code",
   "execution_count": 24,
   "metadata": {
    "colab": {},
    "colab_type": "code",
    "id": "i6m6l6EGi0b9",
    "outputId": "a92e772a-735e-47d7-f39f-01784895db89"
   },
   "outputs": [
    {
     "data": {
      "text/html": [
       "<div>\n",
       "<style scoped>\n",
       "    .dataframe tbody tr th:only-of-type {\n",
       "        vertical-align: middle;\n",
       "    }\n",
       "\n",
       "    .dataframe tbody tr th {\n",
       "        vertical-align: top;\n",
       "    }\n",
       "\n",
       "    .dataframe thead th {\n",
       "        text-align: right;\n",
       "    }\n",
       "</style>\n",
       "<table border=\"1\" class=\"dataframe\">\n",
       "  <thead>\n",
       "    <tr style=\"text-align: right;\">\n",
       "      <th></th>\n",
       "      <th>Media Spend</th>\n",
       "      <th>Total Revenue</th>\n",
       "    </tr>\n",
       "    <tr>\n",
       "      <th>Campaign</th>\n",
       "      <th></th>\n",
       "      <th></th>\n",
       "    </tr>\n",
       "  </thead>\n",
       "  <tbody>\n",
       "    <tr>\n",
       "      <th>Evergreen</th>\n",
       "      <td>113244.01</td>\n",
       "      <td>366079</td>\n",
       "    </tr>\n",
       "    <tr>\n",
       "      <th>Free Shipping</th>\n",
       "      <td>22750.46</td>\n",
       "      <td>166205</td>\n",
       "    </tr>\n",
       "    <tr>\n",
       "      <th>Valentine's Day Gift Offer</th>\n",
       "      <td>52372.40</td>\n",
       "      <td>238915</td>\n",
       "    </tr>\n",
       "  </tbody>\n",
       "</table>\n",
       "</div>"
      ],
      "text/plain": [
       "                            Media Spend  Total Revenue\n",
       "Campaign                                              \n",
       "Evergreen                     113244.01         366079\n",
       "Free Shipping                  22750.46         166205\n",
       "Valentine's Day Gift Offer     52372.40         238915"
      ]
     },
     "execution_count": 24,
     "metadata": {},
     "output_type": "execute_result"
    }
   ],
   "source": [
    "# group by the column Campaign to check the Media Spend and Total Revenue \n",
    "campaign_df = df.groupby('Campaign')['Media Spend','Total Revenue'].sum()\n",
    "campaign_df"
   ]
  },
  {
   "cell_type": "code",
   "execution_count": 25,
   "metadata": {
    "colab": {},
    "colab_type": "code",
    "id": "rFOZx5iyi0cA",
    "outputId": "5ce52289-e62d-460e-f35b-55024d8ef8c8"
   },
   "outputs": [
    {
     "data": {
      "text/html": [
       "<div>\n",
       "<style scoped>\n",
       "    .dataframe tbody tr th:only-of-type {\n",
       "        vertical-align: middle;\n",
       "    }\n",
       "\n",
       "    .dataframe tbody tr th {\n",
       "        vertical-align: top;\n",
       "    }\n",
       "\n",
       "    .dataframe thead th {\n",
       "        text-align: right;\n",
       "    }\n",
       "</style>\n",
       "<table border=\"1\" class=\"dataframe\">\n",
       "  <thead>\n",
       "    <tr style=\"text-align: right;\">\n",
       "      <th></th>\n",
       "      <th>Media Spend</th>\n",
       "      <th>Total Revenue</th>\n",
       "      <th>ROAS</th>\n",
       "    </tr>\n",
       "    <tr>\n",
       "      <th>Campaign</th>\n",
       "      <th></th>\n",
       "      <th></th>\n",
       "      <th></th>\n",
       "    </tr>\n",
       "  </thead>\n",
       "  <tbody>\n",
       "    <tr>\n",
       "      <th>Evergreen</th>\n",
       "      <td>113244.01</td>\n",
       "      <td>366079</td>\n",
       "      <td>3.232657</td>\n",
       "    </tr>\n",
       "    <tr>\n",
       "      <th>Free Shipping</th>\n",
       "      <td>22750.46</td>\n",
       "      <td>166205</td>\n",
       "      <td>7.305567</td>\n",
       "    </tr>\n",
       "    <tr>\n",
       "      <th>Valentine's Day Gift Offer</th>\n",
       "      <td>52372.40</td>\n",
       "      <td>238915</td>\n",
       "      <td>4.561849</td>\n",
       "    </tr>\n",
       "  </tbody>\n",
       "</table>\n",
       "</div>"
      ],
      "text/plain": [
       "                            Media Spend  Total Revenue      ROAS\n",
       "Campaign                                                        \n",
       "Evergreen                     113244.01         366079  3.232657\n",
       "Free Shipping                  22750.46         166205  7.305567\n",
       "Valentine's Day Gift Offer     52372.40         238915  4.561849"
      ]
     },
     "execution_count": 25,
     "metadata": {},
     "output_type": "execute_result"
    }
   ],
   "source": [
    "# checked the ROAS under each Campaign\n",
    "campaign_df['ROAS'] = campaign_df['Total Revenue']/campaign_df['Media Spend']\n",
    "campaign_df"
   ]
  },
  {
   "cell_type": "code",
   "execution_count": 26,
   "metadata": {
    "colab": {},
    "colab_type": "code",
    "id": "r6wQB40vi0cE",
    "outputId": "ca982956-bc19-4a0e-ab00-1f1a8251d712"
   },
   "outputs": [
    {
     "data": {
      "text/html": [
       "<div>\n",
       "<style scoped>\n",
       "    .dataframe tbody tr th:only-of-type {\n",
       "        vertical-align: middle;\n",
       "    }\n",
       "\n",
       "    .dataframe tbody tr th {\n",
       "        vertical-align: top;\n",
       "    }\n",
       "\n",
       "    .dataframe thead th {\n",
       "        text-align: right;\n",
       "    }\n",
       "</style>\n",
       "<table border=\"1\" class=\"dataframe\">\n",
       "  <thead>\n",
       "    <tr style=\"text-align: right;\">\n",
       "      <th></th>\n",
       "      <th>Num Days</th>\n",
       "    </tr>\n",
       "    <tr>\n",
       "      <th>Campaign</th>\n",
       "      <th></th>\n",
       "    </tr>\n",
       "  </thead>\n",
       "  <tbody>\n",
       "    <tr>\n",
       "      <th>Evergreen</th>\n",
       "      <td>28</td>\n",
       "    </tr>\n",
       "    <tr>\n",
       "      <th>Free Shipping</th>\n",
       "      <td>2</td>\n",
       "    </tr>\n",
       "    <tr>\n",
       "      <th>Valentine's Day Gift Offer</th>\n",
       "      <td>4</td>\n",
       "    </tr>\n",
       "  </tbody>\n",
       "</table>\n",
       "</div>"
      ],
      "text/plain": [
       "                            Num Days\n",
       "Campaign                            \n",
       "Evergreen                         28\n",
       "Free Shipping                      2\n",
       "Valentine's Day Gift Offer         4"
      ]
     },
     "execution_count": 26,
     "metadata": {},
     "output_type": "execute_result"
    }
   ],
   "source": [
    "#counts number of days each campaign ran\n",
    "unique_date_campaign = df.groupby('Campaign')['Date'].nunique().to_frame('Num Days') \n",
    "unique_date_campaign"
   ]
  },
  {
   "cell_type": "code",
   "execution_count": 27,
   "metadata": {
    "colab": {},
    "colab_type": "code",
    "id": "qdKKilkri0cG",
    "outputId": "99dc5064-d240-43f6-90b7-13b2ae7d815b"
   },
   "outputs": [
    {
     "data": {
      "text/html": [
       "<div>\n",
       "<style scoped>\n",
       "    .dataframe tbody tr th:only-of-type {\n",
       "        vertical-align: middle;\n",
       "    }\n",
       "\n",
       "    .dataframe tbody tr th {\n",
       "        vertical-align: top;\n",
       "    }\n",
       "\n",
       "    .dataframe thead th {\n",
       "        text-align: right;\n",
       "    }\n",
       "</style>\n",
       "<table border=\"1\" class=\"dataframe\">\n",
       "  <thead>\n",
       "    <tr style=\"text-align: right;\">\n",
       "      <th></th>\n",
       "      <th>Media Spend</th>\n",
       "      <th>Total Revenue</th>\n",
       "      <th>ROAS</th>\n",
       "      <th>Num Days</th>\n",
       "    </tr>\n",
       "    <tr>\n",
       "      <th>Campaign</th>\n",
       "      <th></th>\n",
       "      <th></th>\n",
       "      <th></th>\n",
       "      <th></th>\n",
       "    </tr>\n",
       "  </thead>\n",
       "  <tbody>\n",
       "    <tr>\n",
       "      <th>Evergreen</th>\n",
       "      <td>113244.01</td>\n",
       "      <td>366079</td>\n",
       "      <td>3.232657</td>\n",
       "      <td>28</td>\n",
       "    </tr>\n",
       "    <tr>\n",
       "      <th>Free Shipping</th>\n",
       "      <td>22750.46</td>\n",
       "      <td>166205</td>\n",
       "      <td>7.305567</td>\n",
       "      <td>2</td>\n",
       "    </tr>\n",
       "    <tr>\n",
       "      <th>Valentine's Day Gift Offer</th>\n",
       "      <td>52372.40</td>\n",
       "      <td>238915</td>\n",
       "      <td>4.561849</td>\n",
       "      <td>4</td>\n",
       "    </tr>\n",
       "  </tbody>\n",
       "</table>\n",
       "</div>"
      ],
      "text/plain": [
       "                            Media Spend  Total Revenue      ROAS  Num Days\n",
       "Campaign                                                                  \n",
       "Evergreen                     113244.01         366079  3.232657        28\n",
       "Free Shipping                  22750.46         166205  7.305567         2\n",
       "Valentine's Day Gift Offer     52372.40         238915  4.561849         4"
      ]
     },
     "execution_count": 27,
     "metadata": {},
     "output_type": "execute_result"
    }
   ],
   "source": [
    "# merge the days table into the Campaign group by table \n",
    "merge_campaign_date = pd.merge(campaign_df, unique_date_campaign, how='inner',on='Campaign')\n",
    "merge_campaign_date"
   ]
  },
  {
   "cell_type": "markdown",
   "metadata": {
    "colab_type": "text",
    "id": "cjsr6teWi0cK"
   },
   "source": [
    "To be able to decide on the effectivity of each campaign, we need to find the length of days each campaign ran. This is shown by the table above. By doing this, we are able to find out the average daily media spend, total revenue, and ROAS for each campaign."
   ]
  },
  {
   "cell_type": "code",
   "execution_count": 28,
   "metadata": {
    "colab": {},
    "colab_type": "code",
    "id": "XdMHcuS9i0cL",
    "outputId": "752b8938-b665-4f68-ffef-6c946b35ea4c",
    "scrolled": true
   },
   "outputs": [
    {
     "data": {
      "text/html": [
       "<div>\n",
       "<style scoped>\n",
       "    .dataframe tbody tr th:only-of-type {\n",
       "        vertical-align: middle;\n",
       "    }\n",
       "\n",
       "    .dataframe tbody tr th {\n",
       "        vertical-align: top;\n",
       "    }\n",
       "\n",
       "    .dataframe thead th {\n",
       "        text-align: right;\n",
       "    }\n",
       "</style>\n",
       "<table border=\"1\" class=\"dataframe\">\n",
       "  <thead>\n",
       "    <tr style=\"text-align: right;\">\n",
       "      <th></th>\n",
       "      <th>Media Spend</th>\n",
       "      <th>Total Revenue</th>\n",
       "      <th>ROAS</th>\n",
       "      <th>Num Days</th>\n",
       "      <th>Ave Media Spend</th>\n",
       "    </tr>\n",
       "    <tr>\n",
       "      <th>Campaign</th>\n",
       "      <th></th>\n",
       "      <th></th>\n",
       "      <th></th>\n",
       "      <th></th>\n",
       "      <th></th>\n",
       "    </tr>\n",
       "  </thead>\n",
       "  <tbody>\n",
       "    <tr>\n",
       "      <th>Evergreen</th>\n",
       "      <td>113244.01</td>\n",
       "      <td>366079</td>\n",
       "      <td>3.232657</td>\n",
       "      <td>28</td>\n",
       "      <td>4044.428929</td>\n",
       "    </tr>\n",
       "    <tr>\n",
       "      <th>Free Shipping</th>\n",
       "      <td>22750.46</td>\n",
       "      <td>166205</td>\n",
       "      <td>7.305567</td>\n",
       "      <td>2</td>\n",
       "      <td>11375.230000</td>\n",
       "    </tr>\n",
       "    <tr>\n",
       "      <th>Valentine's Day Gift Offer</th>\n",
       "      <td>52372.40</td>\n",
       "      <td>238915</td>\n",
       "      <td>4.561849</td>\n",
       "      <td>4</td>\n",
       "      <td>13093.100000</td>\n",
       "    </tr>\n",
       "  </tbody>\n",
       "</table>\n",
       "</div>"
      ],
      "text/plain": [
       "                            Media Spend  Total Revenue      ROAS  Num Days  \\\n",
       "Campaign                                                                     \n",
       "Evergreen                     113244.01         366079  3.232657        28   \n",
       "Free Shipping                  22750.46         166205  7.305567         2   \n",
       "Valentine's Day Gift Offer     52372.40         238915  4.561849         4   \n",
       "\n",
       "                            Ave Media Spend  \n",
       "Campaign                                     \n",
       "Evergreen                       4044.428929  \n",
       "Free Shipping                  11375.230000  \n",
       "Valentine's Day Gift Offer     13093.100000  "
      ]
     },
     "execution_count": 28,
     "metadata": {},
     "output_type": "execute_result"
    }
   ],
   "source": [
    "# calculated the average media spend \n",
    "merge_campaign_date['Ave Media Spend'] = merge_campaign_date['Media Spend']/merge_campaign_date['Num Days']\n",
    "merge_campaign_date"
   ]
  },
  {
   "cell_type": "code",
   "execution_count": 29,
   "metadata": {
    "colab": {},
    "colab_type": "code",
    "id": "ew9mSmy1i0cP",
    "outputId": "86fb1ea5-4bb8-4f0c-9881-b68326bc3fff"
   },
   "outputs": [
    {
     "data": {
      "text/html": [
       "<div>\n",
       "<style scoped>\n",
       "    .dataframe tbody tr th:only-of-type {\n",
       "        vertical-align: middle;\n",
       "    }\n",
       "\n",
       "    .dataframe tbody tr th {\n",
       "        vertical-align: top;\n",
       "    }\n",
       "\n",
       "    .dataframe thead th {\n",
       "        text-align: right;\n",
       "    }\n",
       "</style>\n",
       "<table border=\"1\" class=\"dataframe\">\n",
       "  <thead>\n",
       "    <tr style=\"text-align: right;\">\n",
       "      <th></th>\n",
       "      <th>Media Spend</th>\n",
       "      <th>Total Revenue</th>\n",
       "      <th>ROAS</th>\n",
       "      <th>Num Days</th>\n",
       "      <th>Ave Media Spend</th>\n",
       "      <th>Ave Total Revenue</th>\n",
       "    </tr>\n",
       "    <tr>\n",
       "      <th>Campaign</th>\n",
       "      <th></th>\n",
       "      <th></th>\n",
       "      <th></th>\n",
       "      <th></th>\n",
       "      <th></th>\n",
       "      <th></th>\n",
       "    </tr>\n",
       "  </thead>\n",
       "  <tbody>\n",
       "    <tr>\n",
       "      <th>Evergreen</th>\n",
       "      <td>113244.01</td>\n",
       "      <td>366079</td>\n",
       "      <td>3.232657</td>\n",
       "      <td>28</td>\n",
       "      <td>4044.428929</td>\n",
       "      <td>13074.25</td>\n",
       "    </tr>\n",
       "    <tr>\n",
       "      <th>Free Shipping</th>\n",
       "      <td>22750.46</td>\n",
       "      <td>166205</td>\n",
       "      <td>7.305567</td>\n",
       "      <td>2</td>\n",
       "      <td>11375.230000</td>\n",
       "      <td>83102.50</td>\n",
       "    </tr>\n",
       "    <tr>\n",
       "      <th>Valentine's Day Gift Offer</th>\n",
       "      <td>52372.40</td>\n",
       "      <td>238915</td>\n",
       "      <td>4.561849</td>\n",
       "      <td>4</td>\n",
       "      <td>13093.100000</td>\n",
       "      <td>59728.75</td>\n",
       "    </tr>\n",
       "  </tbody>\n",
       "</table>\n",
       "</div>"
      ],
      "text/plain": [
       "                            Media Spend  Total Revenue      ROAS  Num Days  \\\n",
       "Campaign                                                                     \n",
       "Evergreen                     113244.01         366079  3.232657        28   \n",
       "Free Shipping                  22750.46         166205  7.305567         2   \n",
       "Valentine's Day Gift Offer     52372.40         238915  4.561849         4   \n",
       "\n",
       "                            Ave Media Spend  Ave Total Revenue  \n",
       "Campaign                                                        \n",
       "Evergreen                       4044.428929           13074.25  \n",
       "Free Shipping                  11375.230000           83102.50  \n",
       "Valentine's Day Gift Offer     13093.100000           59728.75  "
      ]
     },
     "execution_count": 29,
     "metadata": {},
     "output_type": "execute_result"
    }
   ],
   "source": [
    "# calculated the average total revenue \n",
    "merge_campaign_date['Ave Total Revenue'] = merge_campaign_date['Total Revenue']/merge_campaign_date['Num Days']\n",
    "merge_campaign_date"
   ]
  },
  {
   "cell_type": "code",
   "execution_count": 30,
   "metadata": {
    "colab": {
     "base_uri": "https://localhost:8080/",
     "height": 180
    },
    "colab_type": "code",
    "id": "AAVS_Bkii0cU",
    "outputId": "3baa561d-df2c-47d8-9e56-9333cce2322c"
   },
   "outputs": [
    {
     "data": {
      "text/html": [
       "<div>\n",
       "<style scoped>\n",
       "    .dataframe tbody tr th:only-of-type {\n",
       "        vertical-align: middle;\n",
       "    }\n",
       "\n",
       "    .dataframe tbody tr th {\n",
       "        vertical-align: top;\n",
       "    }\n",
       "\n",
       "    .dataframe thead th {\n",
       "        text-align: right;\n",
       "    }\n",
       "</style>\n",
       "<table border=\"1\" class=\"dataframe\">\n",
       "  <thead>\n",
       "    <tr style=\"text-align: right;\">\n",
       "      <th></th>\n",
       "      <th>Media Spend</th>\n",
       "      <th>Total Revenue</th>\n",
       "      <th>ROAS</th>\n",
       "      <th>Num Days</th>\n",
       "      <th>Ave Media Spend</th>\n",
       "      <th>Ave Total Revenue</th>\n",
       "      <th>Ave ROAS</th>\n",
       "    </tr>\n",
       "    <tr>\n",
       "      <th>Campaign</th>\n",
       "      <th></th>\n",
       "      <th></th>\n",
       "      <th></th>\n",
       "      <th></th>\n",
       "      <th></th>\n",
       "      <th></th>\n",
       "      <th></th>\n",
       "    </tr>\n",
       "  </thead>\n",
       "  <tbody>\n",
       "    <tr>\n",
       "      <th>Evergreen</th>\n",
       "      <td>113244.01</td>\n",
       "      <td>366079</td>\n",
       "      <td>3.232657</td>\n",
       "      <td>28</td>\n",
       "      <td>4044.428929</td>\n",
       "      <td>13074.25</td>\n",
       "      <td>0.115452</td>\n",
       "    </tr>\n",
       "    <tr>\n",
       "      <th>Free Shipping</th>\n",
       "      <td>22750.46</td>\n",
       "      <td>166205</td>\n",
       "      <td>7.305567</td>\n",
       "      <td>2</td>\n",
       "      <td>11375.230000</td>\n",
       "      <td>83102.50</td>\n",
       "      <td>3.652783</td>\n",
       "    </tr>\n",
       "    <tr>\n",
       "      <th>Valentine's Day Gift Offer</th>\n",
       "      <td>52372.40</td>\n",
       "      <td>238915</td>\n",
       "      <td>4.561849</td>\n",
       "      <td>4</td>\n",
       "      <td>13093.100000</td>\n",
       "      <td>59728.75</td>\n",
       "      <td>1.140462</td>\n",
       "    </tr>\n",
       "  </tbody>\n",
       "</table>\n",
       "</div>"
      ],
      "text/plain": [
       "                            Media Spend  Total Revenue      ROAS  Num Days  \\\n",
       "Campaign                                                                     \n",
       "Evergreen                     113244.01         366079  3.232657        28   \n",
       "Free Shipping                  22750.46         166205  7.305567         2   \n",
       "Valentine's Day Gift Offer     52372.40         238915  4.561849         4   \n",
       "\n",
       "                            Ave Media Spend  Ave Total Revenue  Ave ROAS  \n",
       "Campaign                                                                  \n",
       "Evergreen                       4044.428929           13074.25  0.115452  \n",
       "Free Shipping                  11375.230000           83102.50  3.652783  \n",
       "Valentine's Day Gift Offer     13093.100000           59728.75  1.140462  "
      ]
     },
     "execution_count": 30,
     "metadata": {},
     "output_type": "execute_result"
    }
   ],
   "source": [
    "# calculated the average ROAS \n",
    "merge_campaign_date['Ave ROAS'] = merge_campaign_date['ROAS']/merge_campaign_date['Num Days']\n",
    "merge_campaign_date"
   ]
  },
  {
   "cell_type": "markdown",
   "metadata": {
    "colab_type": "text",
    "id": "kIEPo41Ki0cW"
   },
   "source": [
    "By looking at the table above, we are able to confirm that the **Free Shipping** campaign has the highest ROAS on a daily basis. This means that this campaign was also the most effective among the three. In order to optimize the revenue, it is therefore recommended to increase the number of days that the **Free Shipping** ran. In addition to this, the company may also just either completely take out the Evergreen campaign since it has the lowest daily average in terms of ROAS or use the cost of this campaign to increase the length of days the Free Shipping or even the Valentine's Day Gift Offer campaign ran."
   ]
  },
  {
   "cell_type": "markdown",
   "metadata": {
    "colab_type": "text",
    "id": "tSy2D2cui0cX"
   },
   "source": [
    "## Question Number 12\n",
    "\n"
   ]
  },
  {
   "cell_type": "code",
   "execution_count": 31,
   "metadata": {
    "colab": {},
    "colab_type": "code",
    "id": "ln4ZfjaEi0cX",
    "outputId": "e3f4535b-7539-4fce-d59c-b020a9f9962b",
    "scrolled": true
   },
   "outputs": [
    {
     "data": {
      "text/html": [
       "<div>\n",
       "<style scoped>\n",
       "    .dataframe tbody tr th:only-of-type {\n",
       "        vertical-align: middle;\n",
       "    }\n",
       "\n",
       "    .dataframe tbody tr th {\n",
       "        vertical-align: top;\n",
       "    }\n",
       "\n",
       "    .dataframe thead th {\n",
       "        text-align: right;\n",
       "    }\n",
       "</style>\n",
       "<table border=\"1\" class=\"dataframe\">\n",
       "  <thead>\n",
       "    <tr style=\"text-align: right;\">\n",
       "      <th></th>\n",
       "      <th>Campaign</th>\n",
       "      <th>Video Views to 25%</th>\n",
       "      <th>Video Views to 50%</th>\n",
       "      <th>Video Views to 75%</th>\n",
       "      <th>Video Views to 95%</th>\n",
       "      <th>Video Views to 100%</th>\n",
       "    </tr>\n",
       "  </thead>\n",
       "  <tbody>\n",
       "    <tr>\n",
       "      <th>0</th>\n",
       "      <td>Evergreen</td>\n",
       "      <td>408.208256</td>\n",
       "      <td>204.915584</td>\n",
       "      <td>143.184137</td>\n",
       "      <td>114.793599</td>\n",
       "      <td>103.256030</td>\n",
       "    </tr>\n",
       "    <tr>\n",
       "      <th>1</th>\n",
       "      <td>Free Shipping</td>\n",
       "      <td>2111.375000</td>\n",
       "      <td>1044.928571</td>\n",
       "      <td>723.214286</td>\n",
       "      <td>573.339286</td>\n",
       "      <td>516.428571</td>\n",
       "    </tr>\n",
       "    <tr>\n",
       "      <th>2</th>\n",
       "      <td>Valentine's Day Gift Offer</td>\n",
       "      <td>1177.220238</td>\n",
       "      <td>595.178571</td>\n",
       "      <td>413.627976</td>\n",
       "      <td>329.883929</td>\n",
       "      <td>297.467262</td>\n",
       "    </tr>\n",
       "  </tbody>\n",
       "</table>\n",
       "</div>"
      ],
      "text/plain": [
       "                     Campaign  Video Views to 25%  Video Views to 50%  \\\n",
       "0                   Evergreen          408.208256          204.915584   \n",
       "1               Free Shipping         2111.375000         1044.928571   \n",
       "2  Valentine's Day Gift Offer         1177.220238          595.178571   \n",
       "\n",
       "   Video Views to 75%  Video Views to 95%  Video Views to 100%  \n",
       "0          143.184137          114.793599           103.256030  \n",
       "1          723.214286          573.339286           516.428571  \n",
       "2          413.627976          329.883929           297.467262  "
      ]
     },
     "execution_count": 31,
     "metadata": {},
     "output_type": "execute_result"
    }
   ],
   "source": [
    "# created the table that only contains column \"Video Views to 25%\", \"Video Views to 50%\", \"Video Views to 75%\", \"Video Views to 95%\", \"Video Views to 100%\" group by the column \"Campaign\"\n",
    "Test_Metrics = df.loc[:,['Campaign','Video Views to 25%','Video Views to 50%','Video Views to 75%','Video Views to 95%','Video Views to 100%']]\n",
    "Test_Metrics_Campaign = Test_Metrics.groupby(by='Campaign',as_index=False).mean()\n",
    "Test_Metrics_Campaign\n"
   ]
  },
  {
   "cell_type": "code",
   "execution_count": 32,
   "metadata": {
    "colab": {},
    "colab_type": "code",
    "id": "A-5gpauIi0cb",
    "outputId": "babe5047-b81e-4f5a-924c-c5018fb9cf23"
   },
   "outputs": [
    {
     "data": {
      "text/html": [
       "<div>\n",
       "<style scoped>\n",
       "    .dataframe tbody tr th:only-of-type {\n",
       "        vertical-align: middle;\n",
       "    }\n",
       "\n",
       "    .dataframe tbody tr th {\n",
       "        vertical-align: top;\n",
       "    }\n",
       "\n",
       "    .dataframe thead th {\n",
       "        text-align: right;\n",
       "    }\n",
       "</style>\n",
       "<table border=\"1\" class=\"dataframe\">\n",
       "  <thead>\n",
       "    <tr style=\"text-align: right;\">\n",
       "      <th></th>\n",
       "      <th>Campaign</th>\n",
       "      <th>variable</th>\n",
       "      <th>value</th>\n",
       "    </tr>\n",
       "  </thead>\n",
       "  <tbody>\n",
       "    <tr>\n",
       "      <th>0</th>\n",
       "      <td>Evergreen</td>\n",
       "      <td>Video Views to 25%</td>\n",
       "      <td>408.208256</td>\n",
       "    </tr>\n",
       "    <tr>\n",
       "      <th>1</th>\n",
       "      <td>Free Shipping</td>\n",
       "      <td>Video Views to 25%</td>\n",
       "      <td>2111.375000</td>\n",
       "    </tr>\n",
       "    <tr>\n",
       "      <th>2</th>\n",
       "      <td>Valentine's Day Gift Offer</td>\n",
       "      <td>Video Views to 25%</td>\n",
       "      <td>1177.220238</td>\n",
       "    </tr>\n",
       "    <tr>\n",
       "      <th>3</th>\n",
       "      <td>Evergreen</td>\n",
       "      <td>Video Views to 50%</td>\n",
       "      <td>204.915584</td>\n",
       "    </tr>\n",
       "    <tr>\n",
       "      <th>4</th>\n",
       "      <td>Free Shipping</td>\n",
       "      <td>Video Views to 50%</td>\n",
       "      <td>1044.928571</td>\n",
       "    </tr>\n",
       "    <tr>\n",
       "      <th>5</th>\n",
       "      <td>Valentine's Day Gift Offer</td>\n",
       "      <td>Video Views to 50%</td>\n",
       "      <td>595.178571</td>\n",
       "    </tr>\n",
       "    <tr>\n",
       "      <th>6</th>\n",
       "      <td>Evergreen</td>\n",
       "      <td>Video Views to 75%</td>\n",
       "      <td>143.184137</td>\n",
       "    </tr>\n",
       "    <tr>\n",
       "      <th>7</th>\n",
       "      <td>Free Shipping</td>\n",
       "      <td>Video Views to 75%</td>\n",
       "      <td>723.214286</td>\n",
       "    </tr>\n",
       "    <tr>\n",
       "      <th>8</th>\n",
       "      <td>Valentine's Day Gift Offer</td>\n",
       "      <td>Video Views to 75%</td>\n",
       "      <td>413.627976</td>\n",
       "    </tr>\n",
       "    <tr>\n",
       "      <th>9</th>\n",
       "      <td>Evergreen</td>\n",
       "      <td>Video Views to 95%</td>\n",
       "      <td>114.793599</td>\n",
       "    </tr>\n",
       "    <tr>\n",
       "      <th>10</th>\n",
       "      <td>Free Shipping</td>\n",
       "      <td>Video Views to 95%</td>\n",
       "      <td>573.339286</td>\n",
       "    </tr>\n",
       "    <tr>\n",
       "      <th>11</th>\n",
       "      <td>Valentine's Day Gift Offer</td>\n",
       "      <td>Video Views to 95%</td>\n",
       "      <td>329.883929</td>\n",
       "    </tr>\n",
       "    <tr>\n",
       "      <th>12</th>\n",
       "      <td>Evergreen</td>\n",
       "      <td>Video Views to 100%</td>\n",
       "      <td>103.256030</td>\n",
       "    </tr>\n",
       "    <tr>\n",
       "      <th>13</th>\n",
       "      <td>Free Shipping</td>\n",
       "      <td>Video Views to 100%</td>\n",
       "      <td>516.428571</td>\n",
       "    </tr>\n",
       "    <tr>\n",
       "      <th>14</th>\n",
       "      <td>Valentine's Day Gift Offer</td>\n",
       "      <td>Video Views to 100%</td>\n",
       "      <td>297.467262</td>\n",
       "    </tr>\n",
       "  </tbody>\n",
       "</table>\n",
       "</div>"
      ],
      "text/plain": [
       "                      Campaign             variable        value\n",
       "0                    Evergreen   Video Views to 25%   408.208256\n",
       "1                Free Shipping   Video Views to 25%  2111.375000\n",
       "2   Valentine's Day Gift Offer   Video Views to 25%  1177.220238\n",
       "3                    Evergreen   Video Views to 50%   204.915584\n",
       "4                Free Shipping   Video Views to 50%  1044.928571\n",
       "5   Valentine's Day Gift Offer   Video Views to 50%   595.178571\n",
       "6                    Evergreen   Video Views to 75%   143.184137\n",
       "7                Free Shipping   Video Views to 75%   723.214286\n",
       "8   Valentine's Day Gift Offer   Video Views to 75%   413.627976\n",
       "9                    Evergreen   Video Views to 95%   114.793599\n",
       "10               Free Shipping   Video Views to 95%   573.339286\n",
       "11  Valentine's Day Gift Offer   Video Views to 95%   329.883929\n",
       "12                   Evergreen  Video Views to 100%   103.256030\n",
       "13               Free Shipping  Video Views to 100%   516.428571\n",
       "14  Valentine's Day Gift Offer  Video Views to 100%   297.467262"
      ]
     },
     "execution_count": 32,
     "metadata": {},
     "output_type": "execute_result"
    }
   ],
   "source": [
    "# changed the table format from wide to long \n",
    "l_testmetrics = Test_Metrics_Campaign.melt(id_vars=['Campaign'], value_vars=['Video Views to 25%', 'Video Views to 50%', \n",
    "                                                                            'Video Views to 75%', 'Video Views to 95%', \n",
    "                                                                            'Video Views to 100%'])\n",
    "l_testmetrics"
   ]
  },
  {
   "cell_type": "code",
   "execution_count": 33,
   "metadata": {
    "colab": {},
    "colab_type": "code",
    "id": "DZIHExG8i0ce",
    "outputId": "2314fd91-b4ef-43ab-c49d-482a0421de0e"
   },
   "outputs": [
    {
     "data": {
      "text/html": [
       "<div>\n",
       "<style scoped>\n",
       "    .dataframe tbody tr th:only-of-type {\n",
       "        vertical-align: middle;\n",
       "    }\n",
       "\n",
       "    .dataframe tbody tr th {\n",
       "        vertical-align: top;\n",
       "    }\n",
       "\n",
       "    .dataframe thead th {\n",
       "        text-align: right;\n",
       "    }\n",
       "</style>\n",
       "<table border=\"1\" class=\"dataframe\">\n",
       "  <thead>\n",
       "    <tr style=\"text-align: right;\">\n",
       "      <th></th>\n",
       "      <th>Campaign</th>\n",
       "      <th>Video Views</th>\n",
       "      <th>Views Count</th>\n",
       "    </tr>\n",
       "  </thead>\n",
       "  <tbody>\n",
       "    <tr>\n",
       "      <th>0</th>\n",
       "      <td>Evergreen</td>\n",
       "      <td>Video Views to 25%</td>\n",
       "      <td>408.208256</td>\n",
       "    </tr>\n",
       "    <tr>\n",
       "      <th>1</th>\n",
       "      <td>Free Shipping</td>\n",
       "      <td>Video Views to 25%</td>\n",
       "      <td>2111.375000</td>\n",
       "    </tr>\n",
       "    <tr>\n",
       "      <th>2</th>\n",
       "      <td>Valentine's Day Gift Offer</td>\n",
       "      <td>Video Views to 25%</td>\n",
       "      <td>1177.220238</td>\n",
       "    </tr>\n",
       "    <tr>\n",
       "      <th>3</th>\n",
       "      <td>Evergreen</td>\n",
       "      <td>Video Views to 50%</td>\n",
       "      <td>204.915584</td>\n",
       "    </tr>\n",
       "    <tr>\n",
       "      <th>4</th>\n",
       "      <td>Free Shipping</td>\n",
       "      <td>Video Views to 50%</td>\n",
       "      <td>1044.928571</td>\n",
       "    </tr>\n",
       "  </tbody>\n",
       "</table>\n",
       "</div>"
      ],
      "text/plain": [
       "                     Campaign         Video Views  Views Count\n",
       "0                   Evergreen  Video Views to 25%   408.208256\n",
       "1               Free Shipping  Video Views to 25%  2111.375000\n",
       "2  Valentine's Day Gift Offer  Video Views to 25%  1177.220238\n",
       "3                   Evergreen  Video Views to 50%   204.915584\n",
       "4               Free Shipping  Video Views to 50%  1044.928571"
      ]
     },
     "execution_count": 33,
     "metadata": {},
     "output_type": "execute_result"
    }
   ],
   "source": [
    "# renamed the table \n",
    "l_testmetrics.rename(columns={'variable':'Video Views', 'value':'Views Count'},inplace=True)\n",
    "l_testmetrics.head()"
   ]
  },
  {
   "cell_type": "code",
   "execution_count": 34,
   "metadata": {
    "colab": {},
    "colab_type": "code",
    "id": "E1-wgcrJi0cm",
    "outputId": "b936a1cc-15dc-429b-cd4f-f00779293c2d"
   },
   "outputs": [
    {
     "data": {
      "image/png": "[encoded data removed]",
      "text/plain": [
       "<Figure size 864x720 with 1 Axes>"
      ]
     },
     "metadata": {
      "needs_background": "light"
     },
     "output_type": "display_data"
    }
   ],
   "source": [
    "# plot it into a bar chart\n",
    "plt.figure(figsize=(12,10))\n",
    "sns.barplot(x='Video Views',y='Views Count',hue='Campaign',data=l_testmetrics);"
   ]
  },
  {
   "cell_type": "markdown",
   "metadata": {
    "colab_type": "text",
    "id": "77YZoXj2i0cr"
   },
   "source": [
    "The number of times your video was viewed to different levels of its length could be another major metric to help identify which campaign is successful. Based on my observation, the Campaign \"Free Shipping\" has the highest number of times viewed, so the marketing people can spend more efforts on improving the quality of the video or implementing the ads by specifically focusing on \"Free Shipping\" campaign."
   ]
  }
 ],
 "metadata": {
  "colab": {
   "name": "Alex Song - Analysis_Candidate.ipynb",
   "provenance": [],
   "version": "0.3.2"
  },
  "kernelspec": {
   "display_name": "Python 3",
   "language": "python",
   "name": "python3"
  },
  "language_info": {
   "codemirror_mode": {
    "name": "ipython",
    "version": 3
   },
   "file_extension": ".py",
   "mimetype": "text/x-python",
   "name": "python",
   "nbconvert_exporter": "python",
   "pygments_lexer": "ipython3",
   "version": "3.7.1"
  }
 },
 "nbformat": 4,
 "nbformat_minor": 1
}
