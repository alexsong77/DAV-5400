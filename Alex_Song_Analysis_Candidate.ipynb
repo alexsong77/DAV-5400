{
  "nbformat": 4,
  "nbformat_minor": 0,
  "metadata": {
    "colab": {
      "name": "Alex Song - Analysis_Candidate.ipynb",
      "version": "0.3.2",
      "provenance": []
    },
    "language_info": {
      "codemirror_mode": {
        "name": "ipython",
        "version": 3
      },
      "file_extension": ".py",
      "mimetype": "text/x-python",
      "name": "python",
      "nbconvert_exporter": "python",
      "pygments_lexer": "ipython3",
      "version": "3.7.1"
    },
    "kernelspec": {
      "display_name": "Python 3",
      "language": "python",
      "name": "python3"
    }
  },
  "cells": [
    {
      "cell_type": "markdown",
      "metadata": {
        "id": "le8bhYLDi0aE",
        "colab_type": "text"
      },
      "source": [
        "**Marketing Analysis <br> Author: Alex Song <br> Contact: Ksong1@mail.yu.edu**"
      ]
    },
    {
      "cell_type": "code",
      "metadata": {
        "id": "rk93-h-Di0aG",
        "colab_type": "code",
        "outputId": "334f1b79-0ea9-4d94-94a1-35bc281a17c6",
        "colab": {
          "base_uri": "https://localhost:8080/",
          "height": 544
        }
      },
      "source": [
        "import numpy as np\n",
        "import pandas as pd\n",
        "# read the csv into python \n",
        "Facebook = pd.read_csv('https://raw.githubusercontent.com/alexsong77/DAV-5400/master/Facebook.csv')\n",
        "# check all of data to see if any none values and attributes for each columns \n",
        "Facebook.info()"
      ],
      "execution_count": 1,
      "outputs": [
        {
          "output_type": "stream",
          "text": [
            "<class 'pandas.core.frame.DataFrame'>\n",
            "RangeIndex: 5096 entries, 0 to 5095\n",
            "Data columns (total 26 columns):\n",
            "AD ID                  5096 non-null int64\n",
            "Placement ID           5096 non-null int64\n",
            "Date                   5096 non-null object\n",
            "Campaign               5096 non-null object\n",
            "Audience               5096 non-null object\n",
            "Excluded Audience      5008 non-null object\n",
            "Audience Type          5096 non-null object\n",
            "Creative               5096 non-null object\n",
            "Post Type              5096 non-null object\n",
            "Gender                 5096 non-null object\n",
            "Optimization Event     5096 non-null object\n",
            "Media Spend            5096 non-null float64\n",
            "Impressions            5096 non-null int64\n",
            "Clicks                 5096 non-null int64\n",
            "Likes                  5096 non-null int64\n",
            "Comments               5096 non-null int64\n",
            "Shares                 5096 non-null int64\n",
            "Video Views            2548 non-null float64\n",
            "Video Views to 25%     2548 non-null float64\n",
            "Video Views to 50%     2548 non-null float64\n",
            "Video Views to 75%     2548 non-null float64\n",
            "Video Views to 95%     2548 non-null float64\n",
            "Video Views to 100%    2548 non-null float64\n",
            "CPM                    5096 non-null float64\n",
            "CTR                    5096 non-null float64\n",
            "CPC                    5096 non-null float64\n",
            "dtypes: float64(10), int64(7), object(9)\n",
            "memory usage: 1.0+ MB\n"
          ],
          "name": "stdout"
        }
      ]
    },
    {
      "cell_type": "code",
      "metadata": {
        "id": "PUpV3SH1i0aO",
        "colab_type": "code",
        "outputId": "216faee9-623d-4339-fe43-722ad8b0bd78",
        "colab": {
          "base_uri": "https://localhost:8080/",
          "height": 153
        }
      },
      "source": [
        "# read another csv into python \n",
        "Site = pd.read_csv('https://raw.githubusercontent.com/alexsong77/DAV-5400/master/Site.csv')\n",
        "# check all of data to see if any none values and attributes for each columns \n",
        "Site.info()\n"
      ],
      "execution_count": 2,
      "outputs": [
        {
          "output_type": "stream",
          "text": [
            "<class 'pandas.core.frame.DataFrame'>\n",
            "RangeIndex: 5096 entries, 0 to 5095\n",
            "Data columns (total 3 columns):\n",
            "Placement ID     5096 non-null int64\n",
            "Purchases        5096 non-null int64\n",
            "Total Revenue    5096 non-null int64\n",
            "dtypes: int64(3)\n",
            "memory usage: 119.5 KB\n"
          ],
          "name": "stdout"
        }
      ]
    },
    {
      "cell_type": "code",
      "metadata": {
        "scrolled": true,
        "id": "NxiHyOKOi0aT",
        "colab_type": "code",
        "outputId": "dc24c42d-4238-4bc1-b90e-c3a7c13cbc56",
        "colab": {
          "base_uri": "https://localhost:8080/",
          "height": 547
        }
      },
      "source": [
        "# join two tables together\n",
        "df = pd.merge(Facebook, Site, how='inner')\n",
        "df.head()\n"
      ],
      "execution_count": 3,
      "outputs": [
        {
          "output_type": "execute_result",
          "data": {
            "text/html": [
              "<div>\n",
              "<style scoped>\n",
              "    .dataframe tbody tr th:only-of-type {\n",
              "        vertical-align: middle;\n",
              "    }\n",
              "\n",
              "    .dataframe tbody tr th {\n",
              "        vertical-align: top;\n",
              "    }\n",
              "\n",
              "    .dataframe thead th {\n",
              "        text-align: right;\n",
              "    }\n",
              "</style>\n",
              "<table border=\"1\" class=\"dataframe\">\n",
              "  <thead>\n",
              "    <tr style=\"text-align: right;\">\n",
              "      <th></th>\n",
              "      <th>AD ID</th>\n",
              "      <th>Placement ID</th>\n",
              "      <th>Date</th>\n",
              "      <th>Campaign</th>\n",
              "      <th>Audience</th>\n",
              "      <th>Excluded Audience</th>\n",
              "      <th>Audience Type</th>\n",
              "      <th>Creative</th>\n",
              "      <th>Post Type</th>\n",
              "      <th>Gender</th>\n",
              "      <th>Optimization Event</th>\n",
              "      <th>Media Spend</th>\n",
              "      <th>Impressions</th>\n",
              "      <th>Clicks</th>\n",
              "      <th>Likes</th>\n",
              "      <th>Comments</th>\n",
              "      <th>Shares</th>\n",
              "      <th>Video Views</th>\n",
              "      <th>Video Views to 25%</th>\n",
              "      <th>Video Views to 50%</th>\n",
              "      <th>Video Views to 75%</th>\n",
              "      <th>Video Views to 95%</th>\n",
              "      <th>Video Views to 100%</th>\n",
              "      <th>CPM</th>\n",
              "      <th>CTR</th>\n",
              "      <th>CPC</th>\n",
              "      <th>Purchases</th>\n",
              "      <th>Total Revenue</th>\n",
              "    </tr>\n",
              "  </thead>\n",
              "  <tbody>\n",
              "    <tr>\n",
              "      <th>0</th>\n",
              "      <td>1000281165</td>\n",
              "      <td>2000200268</td>\n",
              "      <td>2/1/2019</td>\n",
              "      <td>Evergreen</td>\n",
              "      <td>Shopping Cart Page</td>\n",
              "      <td>Purchases</td>\n",
              "      <td>Website Custom Audience</td>\n",
              "      <td>Brand Logo + Generic CTA</td>\n",
              "      <td>Photo</td>\n",
              "      <td>F</td>\n",
              "      <td>Conversion</td>\n",
              "      <td>15.26</td>\n",
              "      <td>774</td>\n",
              "      <td>12</td>\n",
              "      <td>1</td>\n",
              "      <td>0</td>\n",
              "      <td>0</td>\n",
              "      <td>NaN</td>\n",
              "      <td>NaN</td>\n",
              "      <td>NaN</td>\n",
              "      <td>NaN</td>\n",
              "      <td>NaN</td>\n",
              "      <td>NaN</td>\n",
              "      <td>19.72</td>\n",
              "      <td>0.0153</td>\n",
              "      <td>1.27</td>\n",
              "      <td>1</td>\n",
              "      <td>97</td>\n",
              "    </tr>\n",
              "    <tr>\n",
              "      <th>1</th>\n",
              "      <td>1000141830</td>\n",
              "      <td>2000200714</td>\n",
              "      <td>2/1/2019</td>\n",
              "      <td>Evergreen</td>\n",
              "      <td>Product Page</td>\n",
              "      <td>Purchasers, Shopping Cart</td>\n",
              "      <td>Website Custom Audience</td>\n",
              "      <td>Brand Logo + Generic CTA</td>\n",
              "      <td>Photo</td>\n",
              "      <td>F</td>\n",
              "      <td>Conversion</td>\n",
              "      <td>49.12</td>\n",
              "      <td>2935</td>\n",
              "      <td>37</td>\n",
              "      <td>3</td>\n",
              "      <td>1</td>\n",
              "      <td>1</td>\n",
              "      <td>NaN</td>\n",
              "      <td>NaN</td>\n",
              "      <td>NaN</td>\n",
              "      <td>NaN</td>\n",
              "      <td>NaN</td>\n",
              "      <td>NaN</td>\n",
              "      <td>16.74</td>\n",
              "      <td>0.0125</td>\n",
              "      <td>1.33</td>\n",
              "      <td>3</td>\n",
              "      <td>399</td>\n",
              "    </tr>\n",
              "    <tr>\n",
              "      <th>2</th>\n",
              "      <td>1000659879</td>\n",
              "      <td>2000200882</td>\n",
              "      <td>2/1/2019</td>\n",
              "      <td>Evergreen</td>\n",
              "      <td>Home Page</td>\n",
              "      <td>Product Page, Shopping Cart, Purchasers</td>\n",
              "      <td>Website Custom Audience</td>\n",
              "      <td>Brand Logo + Generic CTA</td>\n",
              "      <td>Photo</td>\n",
              "      <td>F</td>\n",
              "      <td>Conversion</td>\n",
              "      <td>81.37</td>\n",
              "      <td>6183</td>\n",
              "      <td>65</td>\n",
              "      <td>5</td>\n",
              "      <td>3</td>\n",
              "      <td>2</td>\n",
              "      <td>NaN</td>\n",
              "      <td>NaN</td>\n",
              "      <td>NaN</td>\n",
              "      <td>NaN</td>\n",
              "      <td>NaN</td>\n",
              "      <td>NaN</td>\n",
              "      <td>13.16</td>\n",
              "      <td>0.0105</td>\n",
              "      <td>1.25</td>\n",
              "      <td>3</td>\n",
              "      <td>261</td>\n",
              "    </tr>\n",
              "    <tr>\n",
              "      <th>3</th>\n",
              "      <td>1000599036</td>\n",
              "      <td>2000201316</td>\n",
              "      <td>2/1/2019</td>\n",
              "      <td>Evergreen</td>\n",
              "      <td>Top Purchasers Lookalike 1%</td>\n",
              "      <td>All Site Visitors</td>\n",
              "      <td>Lookalike</td>\n",
              "      <td>Brand Logo + Generic CTA</td>\n",
              "      <td>Photo</td>\n",
              "      <td>F</td>\n",
              "      <td>Conversion</td>\n",
              "      <td>32.65</td>\n",
              "      <td>2739</td>\n",
              "      <td>24</td>\n",
              "      <td>3</td>\n",
              "      <td>1</td>\n",
              "      <td>1</td>\n",
              "      <td>NaN</td>\n",
              "      <td>NaN</td>\n",
              "      <td>NaN</td>\n",
              "      <td>NaN</td>\n",
              "      <td>NaN</td>\n",
              "      <td>NaN</td>\n",
              "      <td>11.92</td>\n",
              "      <td>0.0089</td>\n",
              "      <td>1.36</td>\n",
              "      <td>1</td>\n",
              "      <td>24</td>\n",
              "    </tr>\n",
              "    <tr>\n",
              "      <th>4</th>\n",
              "      <td>1000512589</td>\n",
              "      <td>2000202452</td>\n",
              "      <td>2/1/2019</td>\n",
              "      <td>Evergreen</td>\n",
              "      <td>Top Purchasers Lookalike 2%</td>\n",
              "      <td>All Site Visitors</td>\n",
              "      <td>Lookalike</td>\n",
              "      <td>Brand Logo + Generic CTA</td>\n",
              "      <td>Photo</td>\n",
              "      <td>F</td>\n",
              "      <td>Conversion</td>\n",
              "      <td>14.86</td>\n",
              "      <td>1375</td>\n",
              "      <td>12</td>\n",
              "      <td>1</td>\n",
              "      <td>1</td>\n",
              "      <td>0</td>\n",
              "      <td>NaN</td>\n",
              "      <td>NaN</td>\n",
              "      <td>NaN</td>\n",
              "      <td>NaN</td>\n",
              "      <td>NaN</td>\n",
              "      <td>NaN</td>\n",
              "      <td>10.81</td>\n",
              "      <td>0.0087</td>\n",
              "      <td>1.24</td>\n",
              "      <td>0</td>\n",
              "      <td>0</td>\n",
              "    </tr>\n",
              "  </tbody>\n",
              "</table>\n",
              "</div>"
            ],
            "text/plain": [
              "        AD ID  Placement ID      Date  ...   CPC Purchases Total Revenue\n",
              "0  1000281165    2000200268  2/1/2019  ...  1.27         1            97\n",
              "1  1000141830    2000200714  2/1/2019  ...  1.33         3           399\n",
              "2  1000659879    2000200882  2/1/2019  ...  1.25         3           261\n",
              "3  1000599036    2000201316  2/1/2019  ...  1.36         1            24\n",
              "4  1000512589    2000202452  2/1/2019  ...  1.24         0             0\n",
              "\n",
              "[5 rows x 28 columns]"
            ]
          },
          "metadata": {
            "tags": []
          },
          "execution_count": 3
        }
      ]
    },
    {
      "cell_type": "markdown",
      "metadata": {
        "id": "V9Tiw0Wvi0aX",
        "colab_type": "text"
      },
      "source": [
        "## Question Number 1\n",
        "\n",
        "Total spend for each Campaign as below:"
      ]
    },
    {
      "cell_type": "code",
      "metadata": {
        "scrolled": true,
        "id": "uQuLXNvPi0aY",
        "colab_type": "code",
        "outputId": "172fb5e3-7374-4f73-d87c-5008f8a54d79",
        "colab": {
          "base_uri": "https://localhost:8080/",
          "height": 173
        }
      },
      "source": [
        "# created another table which only contains columns \"Campagin\" and \"Media Spend\"\n",
        "Campaign_MediaSpend = df.loc[:,['Campaign','Media Spend']]\n",
        "# group by the column \"Campaign\"\n",
        "Group_Campaign = Campaign_MediaSpend.groupby('Campaign').sum()\n",
        "Group_Campaign.sort_values(by='Media Spend',ascending=False,inplace=True)\n",
        "Group_Campaign"
      ],
      "execution_count": 5,
      "outputs": [
        {
          "output_type": "execute_result",
          "data": {
            "text/html": [
              "<div>\n",
              "<style scoped>\n",
              "    .dataframe tbody tr th:only-of-type {\n",
              "        vertical-align: middle;\n",
              "    }\n",
              "\n",
              "    .dataframe tbody tr th {\n",
              "        vertical-align: top;\n",
              "    }\n",
              "\n",
              "    .dataframe thead th {\n",
              "        text-align: right;\n",
              "    }\n",
              "</style>\n",
              "<table border=\"1\" class=\"dataframe\">\n",
              "  <thead>\n",
              "    <tr style=\"text-align: right;\">\n",
              "      <th></th>\n",
              "      <th>Media Spend</th>\n",
              "    </tr>\n",
              "    <tr>\n",
              "      <th>Campaign</th>\n",
              "      <th></th>\n",
              "    </tr>\n",
              "  </thead>\n",
              "  <tbody>\n",
              "    <tr>\n",
              "      <th>Evergreen</th>\n",
              "      <td>113244.01</td>\n",
              "    </tr>\n",
              "    <tr>\n",
              "      <th>Valentine's Day Gift Offer</th>\n",
              "      <td>52372.40</td>\n",
              "    </tr>\n",
              "    <tr>\n",
              "      <th>Free Shipping</th>\n",
              "      <td>22750.46</td>\n",
              "    </tr>\n",
              "  </tbody>\n",
              "</table>\n",
              "</div>"
            ],
            "text/plain": [
              "                            Media Spend\n",
              "Campaign                               \n",
              "Evergreen                     113244.01\n",
              "Valentine's Day Gift Offer     52372.40\n",
              "Free Shipping                  22750.46"
            ]
          },
          "metadata": {
            "tags": []
          },
          "execution_count": 5
        }
      ]
    },
    {
      "cell_type": "markdown",
      "metadata": {
        "id": "33xZW94TVIHs",
        "colab_type": "text"
      },
      "source": [
        "The table above shows that the Evergreen campaign has the highest cost in terms of Media Spend."
      ]
    },
    {
      "cell_type": "markdown",
      "metadata": {
        "id": "0cYnQrjIi0ab",
        "colab_type": "text"
      },
      "source": [
        "## Question Number 2\n",
        "\n",
        "The Cost Per Video View and Cost Per Completion for each creative - Filter by Video Post Type"
      ]
    },
    {
      "cell_type": "code",
      "metadata": {
        "scrolled": true,
        "id": "k7BSP7KSi0ac",
        "colab_type": "code",
        "outputId": "1fb78d28-de48-431f-c380-cae40ed6486e",
        "colab": {
          "base_uri": "https://localhost:8080/",
          "height": 547
        }
      },
      "source": [
        "# created another column called \"CPV\" which calculated by existing columns \"Media Spend\" and \"Video Views to 100%\"\n",
        "df['CPV'] = (df['Media Spend']/df['Video Views to 100%'])\n",
        "# checked the table to see if we created the column sucessfully\n",
        "df.tail()"
      ],
      "execution_count": 6,
      "outputs": [
        {
          "output_type": "execute_result",
          "data": {
            "text/html": [
              "<div>\n",
              "<style scoped>\n",
              "    .dataframe tbody tr th:only-of-type {\n",
              "        vertical-align: middle;\n",
              "    }\n",
              "\n",
              "    .dataframe tbody tr th {\n",
              "        vertical-align: top;\n",
              "    }\n",
              "\n",
              "    .dataframe thead th {\n",
              "        text-align: right;\n",
              "    }\n",
              "</style>\n",
              "<table border=\"1\" class=\"dataframe\">\n",
              "  <thead>\n",
              "    <tr style=\"text-align: right;\">\n",
              "      <th></th>\n",
              "      <th>AD ID</th>\n",
              "      <th>Placement ID</th>\n",
              "      <th>Date</th>\n",
              "      <th>Campaign</th>\n",
              "      <th>Audience</th>\n",
              "      <th>Excluded Audience</th>\n",
              "      <th>Audience Type</th>\n",
              "      <th>Creative</th>\n",
              "      <th>Post Type</th>\n",
              "      <th>Gender</th>\n",
              "      <th>Optimization Event</th>\n",
              "      <th>Media Spend</th>\n",
              "      <th>Impressions</th>\n",
              "      <th>Clicks</th>\n",
              "      <th>Likes</th>\n",
              "      <th>Comments</th>\n",
              "      <th>Shares</th>\n",
              "      <th>Video Views</th>\n",
              "      <th>Video Views to 25%</th>\n",
              "      <th>Video Views to 50%</th>\n",
              "      <th>Video Views to 75%</th>\n",
              "      <th>Video Views to 95%</th>\n",
              "      <th>Video Views to 100%</th>\n",
              "      <th>CPM</th>\n",
              "      <th>CTR</th>\n",
              "      <th>CPC</th>\n",
              "      <th>Purchases</th>\n",
              "      <th>Total Revenue</th>\n",
              "      <th>CPV</th>\n",
              "    </tr>\n",
              "  </thead>\n",
              "  <tbody>\n",
              "    <tr>\n",
              "      <th>5091</th>\n",
              "      <td>1010880145</td>\n",
              "      <td>2021760290</td>\n",
              "      <td>2/14/2019</td>\n",
              "      <td>Valentine's Day Gift Offer</td>\n",
              "      <td>Frequent In-Store Purchasers</td>\n",
              "      <td>All Site Visitors</td>\n",
              "      <td>Custom Audience</td>\n",
              "      <td>Valentine's Day + Generic CTA</td>\n",
              "      <td>Video</td>\n",
              "      <td>M/F</td>\n",
              "      <td>Click</td>\n",
              "      <td>46.59</td>\n",
              "      <td>7685</td>\n",
              "      <td>86</td>\n",
              "      <td>9</td>\n",
              "      <td>4</td>\n",
              "      <td>2</td>\n",
              "      <td>1366.0</td>\n",
              "      <td>647.0</td>\n",
              "      <td>353.0</td>\n",
              "      <td>213.0</td>\n",
              "      <td>150.0</td>\n",
              "      <td>138.0</td>\n",
              "      <td>6.06</td>\n",
              "      <td>0.0112</td>\n",
              "      <td>0.54</td>\n",
              "      <td>1</td>\n",
              "      <td>16</td>\n",
              "      <td>0.337609</td>\n",
              "    </tr>\n",
              "    <tr>\n",
              "      <th>5092</th>\n",
              "      <td>1011934363</td>\n",
              "      <td>2023868726</td>\n",
              "      <td>2/14/2019</td>\n",
              "      <td>Valentine's Day Gift Offer</td>\n",
              "      <td>Interested In: Shopping and Fashion</td>\n",
              "      <td>All Site Visitors</td>\n",
              "      <td>Facebook Interest</td>\n",
              "      <td>Valentine's Day + Generic CTA</td>\n",
              "      <td>Video</td>\n",
              "      <td>M/F</td>\n",
              "      <td>Click</td>\n",
              "      <td>31.45</td>\n",
              "      <td>10602</td>\n",
              "      <td>109</td>\n",
              "      <td>11</td>\n",
              "      <td>5</td>\n",
              "      <td>4</td>\n",
              "      <td>2239.0</td>\n",
              "      <td>927.0</td>\n",
              "      <td>550.0</td>\n",
              "      <td>435.0</td>\n",
              "      <td>333.0</td>\n",
              "      <td>304.0</td>\n",
              "      <td>2.97</td>\n",
              "      <td>0.0102</td>\n",
              "      <td>0.29</td>\n",
              "      <td>1</td>\n",
              "      <td>195</td>\n",
              "      <td>0.103454</td>\n",
              "    </tr>\n",
              "    <tr>\n",
              "      <th>5093</th>\n",
              "      <td>1012988581</td>\n",
              "      <td>2025977162</td>\n",
              "      <td>2/14/2019</td>\n",
              "      <td>Valentine's Day Gift Offer</td>\n",
              "      <td>Interested In: High-End Retail</td>\n",
              "      <td>All Site Visitors</td>\n",
              "      <td>Facebook Interest</td>\n",
              "      <td>Valentine's Day + Generic CTA</td>\n",
              "      <td>Video</td>\n",
              "      <td>M/F</td>\n",
              "      <td>Click</td>\n",
              "      <td>32.04</td>\n",
              "      <td>8509</td>\n",
              "      <td>64</td>\n",
              "      <td>7</td>\n",
              "      <td>5</td>\n",
              "      <td>3</td>\n",
              "      <td>1972.0</td>\n",
              "      <td>791.0</td>\n",
              "      <td>471.0</td>\n",
              "      <td>361.0</td>\n",
              "      <td>316.0</td>\n",
              "      <td>278.0</td>\n",
              "      <td>3.77</td>\n",
              "      <td>0.0075</td>\n",
              "      <td>0.50</td>\n",
              "      <td>1</td>\n",
              "      <td>157</td>\n",
              "      <td>0.115252</td>\n",
              "    </tr>\n",
              "    <tr>\n",
              "      <th>5094</th>\n",
              "      <td>1014042799</td>\n",
              "      <td>2028085598</td>\n",
              "      <td>2/14/2019</td>\n",
              "      <td>Valentine's Day Gift Offer</td>\n",
              "      <td>Interested In: Competitors</td>\n",
              "      <td>All Site Visitors</td>\n",
              "      <td>Facebook Interest</td>\n",
              "      <td>Valentine's Day + Generic CTA</td>\n",
              "      <td>Video</td>\n",
              "      <td>M/F</td>\n",
              "      <td>Click</td>\n",
              "      <td>38.75</td>\n",
              "      <td>7938</td>\n",
              "      <td>44</td>\n",
              "      <td>7</td>\n",
              "      <td>4</td>\n",
              "      <td>2</td>\n",
              "      <td>1987.0</td>\n",
              "      <td>1045.0</td>\n",
              "      <td>534.0</td>\n",
              "      <td>387.0</td>\n",
              "      <td>343.0</td>\n",
              "      <td>295.0</td>\n",
              "      <td>4.88</td>\n",
              "      <td>0.0056</td>\n",
              "      <td>0.88</td>\n",
              "      <td>1</td>\n",
              "      <td>168</td>\n",
              "      <td>0.131356</td>\n",
              "    </tr>\n",
              "    <tr>\n",
              "      <th>5095</th>\n",
              "      <td>1015097017</td>\n",
              "      <td>2030194034</td>\n",
              "      <td>2/14/2019</td>\n",
              "      <td>Valentine's Day Gift Offer</td>\n",
              "      <td>Shopping Cart Page</td>\n",
              "      <td>Purchases</td>\n",
              "      <td>Website Custom Audience</td>\n",
              "      <td>Valentine's Day + Valentine's Day CTA</td>\n",
              "      <td>Video</td>\n",
              "      <td>M/F</td>\n",
              "      <td>Click</td>\n",
              "      <td>95.88</td>\n",
              "      <td>7765</td>\n",
              "      <td>140</td>\n",
              "      <td>6</td>\n",
              "      <td>4</td>\n",
              "      <td>3</td>\n",
              "      <td>2162.0</td>\n",
              "      <td>1064.0</td>\n",
              "      <td>614.0</td>\n",
              "      <td>433.0</td>\n",
              "      <td>351.0</td>\n",
              "      <td>309.0</td>\n",
              "      <td>12.35</td>\n",
              "      <td>0.0180</td>\n",
              "      <td>0.68</td>\n",
              "      <td>6</td>\n",
              "      <td>396</td>\n",
              "      <td>0.310291</td>\n",
              "    </tr>\n",
              "  </tbody>\n",
              "</table>\n",
              "</div>"
            ],
            "text/plain": [
              "           AD ID  Placement ID       Date  ... Purchases Total Revenue       CPV\n",
              "5091  1010880145    2021760290  2/14/2019  ...         1            16  0.337609\n",
              "5092  1011934363    2023868726  2/14/2019  ...         1           195  0.103454\n",
              "5093  1012988581    2025977162  2/14/2019  ...         1           157  0.115252\n",
              "5094  1014042799    2028085598  2/14/2019  ...         1           168  0.131356\n",
              "5095  1015097017    2030194034  2/14/2019  ...         6           396  0.310291\n",
              "\n",
              "[5 rows x 29 columns]"
            ]
          },
          "metadata": {
            "tags": []
          },
          "execution_count": 6
        }
      ]
    },
    {
      "cell_type": "code",
      "metadata": {
        "scrolled": true,
        "id": "nIYjA23ri0ag",
        "colab_type": "code",
        "outputId": "d7772e70-a557-47e7-9d91-01a38f403103",
        "colab": {
          "base_uri": "https://localhost:8080/",
          "height": 297
        }
      },
      "source": [
        "# created another table which only contained columns \"Creative\", \"CPC\", \"CPV\", \"Post Type\"\n",
        "Creative_cpc_cpv_type = df.loc[:,['Creative','CPC','CPV','Post Type']]\n",
        "# filter the post type by only showing value \"Video\"\n",
        "Type_Video = Creative_cpc_cpv_type[Creative_cpc_cpv_type['Post Type'] == 'Video']\n",
        "# group by the column creative\n",
        "Creative_Type_Video = Type_Video.groupby(['Creative']).sum()\n",
        "Creative_Type_Video.sort_values(by=['CPV','CPC'],ascending=False,inplace=True)\n",
        "Creative_Type_Video"
      ],
      "execution_count": 10,
      "outputs": [
        {
          "output_type": "execute_result",
          "data": {
            "text/html": [
              "<div>\n",
              "<style scoped>\n",
              "    .dataframe tbody tr th:only-of-type {\n",
              "        vertical-align: middle;\n",
              "    }\n",
              "\n",
              "    .dataframe tbody tr th {\n",
              "        vertical-align: top;\n",
              "    }\n",
              "\n",
              "    .dataframe thead th {\n",
              "        text-align: right;\n",
              "    }\n",
              "</style>\n",
              "<table border=\"1\" class=\"dataframe\">\n",
              "  <thead>\n",
              "    <tr style=\"text-align: right;\">\n",
              "      <th></th>\n",
              "      <th>CPC</th>\n",
              "      <th>CPV</th>\n",
              "    </tr>\n",
              "    <tr>\n",
              "      <th>Creative</th>\n",
              "      <th></th>\n",
              "      <th></th>\n",
              "    </tr>\n",
              "  </thead>\n",
              "  <tbody>\n",
              "    <tr>\n",
              "      <th>Brand Logo + Save Now CTA</th>\n",
              "      <td>1130.47</td>\n",
              "      <td>346.348005</td>\n",
              "    </tr>\n",
              "    <tr>\n",
              "      <th>Brand Logo + Generic CTA</th>\n",
              "      <td>1222.39</td>\n",
              "      <td>344.958474</td>\n",
              "    </tr>\n",
              "    <tr>\n",
              "      <th>Valentine's Day + Generic CTA</th>\n",
              "      <td>163.05</td>\n",
              "      <td>55.965116</td>\n",
              "    </tr>\n",
              "    <tr>\n",
              "      <th>Brand Logo + Valentine's Day Messaging CTA</th>\n",
              "      <td>145.06</td>\n",
              "      <td>52.846316</td>\n",
              "    </tr>\n",
              "    <tr>\n",
              "      <th>Free Shipping + Free Shipping CTA</th>\n",
              "      <td>31.44</td>\n",
              "      <td>14.086944</td>\n",
              "    </tr>\n",
              "    <tr>\n",
              "      <th>Brand Logo + Free Shipping CTA</th>\n",
              "      <td>31.77</td>\n",
              "      <td>13.168853</td>\n",
              "    </tr>\n",
              "    <tr>\n",
              "      <th>Valentine's Day + Valentine's Day CTA</th>\n",
              "      <td>11.18</td>\n",
              "      <td>5.756943</td>\n",
              "    </tr>\n",
              "  </tbody>\n",
              "</table>\n",
              "</div>"
            ],
            "text/plain": [
              "                                                CPC         CPV\n",
              "Creative                                                       \n",
              "Brand Logo + Save Now CTA                   1130.47  346.348005\n",
              "Brand Logo + Generic CTA                    1222.39  344.958474\n",
              "Valentine's Day + Generic CTA                163.05   55.965116\n",
              "Brand Logo + Valentine's Day Messaging CTA   145.06   52.846316\n",
              "Free Shipping + Free Shipping CTA             31.44   14.086944\n",
              "Brand Logo + Free Shipping CTA                31.77   13.168853\n",
              "Valentine's Day + Valentine's Day CTA         11.18    5.756943"
            ]
          },
          "metadata": {
            "tags": []
          },
          "execution_count": 10
        }
      ]
    },
    {
      "cell_type": "markdown",
      "metadata": {
        "id": "Aa_Y5bKLVhQl",
        "colab_type": "text"
      },
      "source": [
        "Based on video posts, the creative \"Brand Logo + Save Now CTA\" has the highest cost has the highest cost per view (CPC). On the other hand, the creative \"Brand Logo + Generic CTA\" has the highest cost per click (CPC)."
      ]
    },
    {
      "cell_type": "code",
      "metadata": {
        "scrolled": false,
        "id": "aUCiRi5Zi0ak",
        "colab_type": "code",
        "outputId": "1d3dbdda-1f45-405e-adfc-ec02532b54d5",
        "colab": {
          "base_uri": "https://localhost:8080/",
          "height": 297
        }
      },
      "source": [
        "# filter the post type by only showing value \"Video\"\n",
        "Type_Photo = Creative_cpc_cpv_type[Creative_cpc_cpv_type['Post Type'] == 'Photo']\n",
        "# group by the column creative\n",
        "Creative_Type_Photo = Type_Photo.groupby(['Creative']).sum()\n",
        "Creative_Type_Photo.sort_values(by='CPC',ascending=False,inplace=True)\n",
        "Creative_Type_Photo"
      ],
      "execution_count": 11,
      "outputs": [
        {
          "output_type": "execute_result",
          "data": {
            "text/html": [
              "<div>\n",
              "<style scoped>\n",
              "    .dataframe tbody tr th:only-of-type {\n",
              "        vertical-align: middle;\n",
              "    }\n",
              "\n",
              "    .dataframe tbody tr th {\n",
              "        vertical-align: top;\n",
              "    }\n",
              "\n",
              "    .dataframe thead th {\n",
              "        text-align: right;\n",
              "    }\n",
              "</style>\n",
              "<table border=\"1\" class=\"dataframe\">\n",
              "  <thead>\n",
              "    <tr style=\"text-align: right;\">\n",
              "      <th></th>\n",
              "      <th>CPC</th>\n",
              "      <th>CPV</th>\n",
              "    </tr>\n",
              "    <tr>\n",
              "      <th>Creative</th>\n",
              "      <th></th>\n",
              "      <th></th>\n",
              "    </tr>\n",
              "  </thead>\n",
              "  <tbody>\n",
              "    <tr>\n",
              "      <th>Brand Logo + Generic CTA</th>\n",
              "      <td>995.33</td>\n",
              "      <td>0.0</td>\n",
              "    </tr>\n",
              "    <tr>\n",
              "      <th>Brand Logo + Save Now CTA</th>\n",
              "      <td>916.04</td>\n",
              "      <td>0.0</td>\n",
              "    </tr>\n",
              "    <tr>\n",
              "      <th>Valentine's Day + Generic CTA</th>\n",
              "      <td>129.93</td>\n",
              "      <td>0.0</td>\n",
              "    </tr>\n",
              "    <tr>\n",
              "      <th>Brand Logo + Valentine's Day Messaging CTA</th>\n",
              "      <td>117.16</td>\n",
              "      <td>0.0</td>\n",
              "    </tr>\n",
              "    <tr>\n",
              "      <th>Brand Logo + Free Shipping CTA</th>\n",
              "      <td>25.57</td>\n",
              "      <td>0.0</td>\n",
              "    </tr>\n",
              "    <tr>\n",
              "      <th>Free Shipping + Free Shipping CTA</th>\n",
              "      <td>25.27</td>\n",
              "      <td>0.0</td>\n",
              "    </tr>\n",
              "    <tr>\n",
              "      <th>Valentine's Day + Valentine's Day CTA</th>\n",
              "      <td>9.68</td>\n",
              "      <td>0.0</td>\n",
              "    </tr>\n",
              "  </tbody>\n",
              "</table>\n",
              "</div>"
            ],
            "text/plain": [
              "                                               CPC  CPV\n",
              "Creative                                               \n",
              "Brand Logo + Generic CTA                    995.33  0.0\n",
              "Brand Logo + Save Now CTA                   916.04  0.0\n",
              "Valentine's Day + Generic CTA               129.93  0.0\n",
              "Brand Logo + Valentine's Day Messaging CTA  117.16  0.0\n",
              "Brand Logo + Free Shipping CTA               25.57  0.0\n",
              "Free Shipping + Free Shipping CTA            25.27  0.0\n",
              "Valentine's Day + Valentine's Day CTA         9.68  0.0"
            ]
          },
          "metadata": {
            "tags": []
          },
          "execution_count": 11
        }
      ]
    },
    {
      "cell_type": "markdown",
      "metadata": {
        "id": "Yz3jzv8GV5jl",
        "colab_type": "text"
      },
      "source": [
        "For photos, the creative \"Brand Logo + Generic CTA\" has the highest Cost Per Click (CPC)."
      ]
    },
    {
      "cell_type": "markdown",
      "metadata": {
        "id": "rMgQEIzAi0an",
        "colab_type": "text"
      },
      "source": [
        "## Question Number 3\n",
        "\n",
        "Create a table that shows Spend, CPM, CTR and CPC for each creative."
      ]
    },
    {
      "cell_type": "code",
      "metadata": {
        "scrolled": true,
        "id": "EN5-a7oBi0ao",
        "colab_type": "code",
        "outputId": "a65ebc88-b595-452c-98c7-73e2c20d76fd",
        "colab": {
          "base_uri": "https://localhost:8080/",
          "height": 297
        }
      },
      "source": [
        "# created a table that only contains columns \"Creative\", \"Media Spend\", \"CPM\", \"CTR\", and \"CPC\"\n",
        "MediaSpend_CPM_CTR_CPC = df.loc[:,['Creative','Media Spend','CPM','CTR','CPC']]\n",
        "# group by the column creative \n",
        "Creative_MediaSpend_CPM_CTR_CPC = MediaSpend_CPM_CTR_CPC.groupby('Creative').sum()\n",
        "Creative_MediaSpend_CPM_CTR_CPC"
      ],
      "execution_count": 13,
      "outputs": [
        {
          "output_type": "execute_result",
          "data": {
            "text/html": [
              "<div>\n",
              "<style scoped>\n",
              "    .dataframe tbody tr th:only-of-type {\n",
              "        vertical-align: middle;\n",
              "    }\n",
              "\n",
              "    .dataframe tbody tr th {\n",
              "        vertical-align: top;\n",
              "    }\n",
              "\n",
              "    .dataframe thead th {\n",
              "        text-align: right;\n",
              "    }\n",
              "</style>\n",
              "<table border=\"1\" class=\"dataframe\">\n",
              "  <thead>\n",
              "    <tr style=\"text-align: right;\">\n",
              "      <th></th>\n",
              "      <th>Media Spend</th>\n",
              "      <th>CPM</th>\n",
              "      <th>CTR</th>\n",
              "      <th>CPC</th>\n",
              "    </tr>\n",
              "    <tr>\n",
              "      <th>Creative</th>\n",
              "      <th></th>\n",
              "      <th></th>\n",
              "      <th></th>\n",
              "      <th></th>\n",
              "    </tr>\n",
              "  </thead>\n",
              "  <tbody>\n",
              "    <tr>\n",
              "      <th>Brand Logo + Free Shipping CTA</th>\n",
              "      <td>9349.39</td>\n",
              "      <td>736.02</td>\n",
              "      <td>0.7316</td>\n",
              "      <td>57.34</td>\n",
              "    </tr>\n",
              "    <tr>\n",
              "      <th>Brand Logo + Generic CTA</th>\n",
              "      <td>54924.38</td>\n",
              "      <td>19080.37</td>\n",
              "      <td>19.6009</td>\n",
              "      <td>2217.72</td>\n",
              "    </tr>\n",
              "    <tr>\n",
              "      <th>Brand Logo + Save Now CTA</th>\n",
              "      <td>58319.63</td>\n",
              "      <td>19168.11</td>\n",
              "      <td>21.4515</td>\n",
              "      <td>2046.51</td>\n",
              "    </tr>\n",
              "    <tr>\n",
              "      <th>Brand Logo + Valentine's Day Messaging CTA</th>\n",
              "      <td>23331.03</td>\n",
              "      <td>2974.93</td>\n",
              "      <td>3.9542</td>\n",
              "      <td>262.22</td>\n",
              "    </tr>\n",
              "    <tr>\n",
              "      <th>Free Shipping + Free Shipping CTA</th>\n",
              "      <td>13401.07</td>\n",
              "      <td>735.89</td>\n",
              "      <td>0.7418</td>\n",
              "      <td>56.71</td>\n",
              "    </tr>\n",
              "    <tr>\n",
              "      <th>Valentine's Day + Generic CTA</th>\n",
              "      <td>27204.47</td>\n",
              "      <td>3098.21</td>\n",
              "      <td>3.7620</td>\n",
              "      <td>292.98</td>\n",
              "    </tr>\n",
              "    <tr>\n",
              "      <th>Valentine's Day + Valentine's Day CTA</th>\n",
              "      <td>1836.90</td>\n",
              "      <td>386.90</td>\n",
              "      <td>0.4749</td>\n",
              "      <td>20.86</td>\n",
              "    </tr>\n",
              "  </tbody>\n",
              "</table>\n",
              "</div>"
            ],
            "text/plain": [
              "                                            Media Spend  ...      CPC\n",
              "Creative                                                 ...         \n",
              "Brand Logo + Free Shipping CTA                  9349.39  ...    57.34\n",
              "Brand Logo + Generic CTA                       54924.38  ...  2217.72\n",
              "Brand Logo + Save Now CTA                      58319.63  ...  2046.51\n",
              "Brand Logo + Valentine's Day Messaging CTA     23331.03  ...   262.22\n",
              "Free Shipping + Free Shipping CTA              13401.07  ...    56.71\n",
              "Valentine's Day + Generic CTA                  27204.47  ...   292.98\n",
              "Valentine's Day + Valentine's Day CTA           1836.90  ...    20.86\n",
              "\n",
              "[7 rows x 4 columns]"
            ]
          },
          "metadata": {
            "tags": []
          },
          "execution_count": 13
        }
      ]
    },
    {
      "cell_type": "markdown",
      "metadata": {
        "id": "tUR97wnsi0as",
        "colab_type": "text"
      },
      "source": [
        "## Question Number 4\n",
        "\n",
        "Find out the ROAS of each Audience Type "
      ]
    },
    {
      "cell_type": "code",
      "metadata": {
        "scrolled": true,
        "id": "wY9W9sa0i0at",
        "colab_type": "code",
        "outputId": "7d4a22f1-c2b0-4f82-8572-85167704febd",
        "colab": {
          "base_uri": "https://localhost:8080/",
          "height": 547
        }
      },
      "source": [
        "# created another columns by calculating the existing columns \"Total Revenue\" and \"Media Spend\"\n",
        "df['ROAS'] = (df['Total Revenue']/df['Media Spend'])\n",
        "# checked the table to see if we created the column successfully\n",
        "df.head()"
      ],
      "execution_count": 14,
      "outputs": [
        {
          "output_type": "execute_result",
          "data": {
            "text/html": [
              "<div>\n",
              "<style scoped>\n",
              "    .dataframe tbody tr th:only-of-type {\n",
              "        vertical-align: middle;\n",
              "    }\n",
              "\n",
              "    .dataframe tbody tr th {\n",
              "        vertical-align: top;\n",
              "    }\n",
              "\n",
              "    .dataframe thead th {\n",
              "        text-align: right;\n",
              "    }\n",
              "</style>\n",
              "<table border=\"1\" class=\"dataframe\">\n",
              "  <thead>\n",
              "    <tr style=\"text-align: right;\">\n",
              "      <th></th>\n",
              "      <th>AD ID</th>\n",
              "      <th>Placement ID</th>\n",
              "      <th>Date</th>\n",
              "      <th>Campaign</th>\n",
              "      <th>Audience</th>\n",
              "      <th>Excluded Audience</th>\n",
              "      <th>Audience Type</th>\n",
              "      <th>Creative</th>\n",
              "      <th>Post Type</th>\n",
              "      <th>Gender</th>\n",
              "      <th>Optimization Event</th>\n",
              "      <th>Media Spend</th>\n",
              "      <th>Impressions</th>\n",
              "      <th>Clicks</th>\n",
              "      <th>Likes</th>\n",
              "      <th>Comments</th>\n",
              "      <th>Shares</th>\n",
              "      <th>Video Views</th>\n",
              "      <th>Video Views to 25%</th>\n",
              "      <th>Video Views to 50%</th>\n",
              "      <th>Video Views to 75%</th>\n",
              "      <th>Video Views to 95%</th>\n",
              "      <th>Video Views to 100%</th>\n",
              "      <th>CPM</th>\n",
              "      <th>CTR</th>\n",
              "      <th>CPC</th>\n",
              "      <th>Purchases</th>\n",
              "      <th>Total Revenue</th>\n",
              "      <th>CPV</th>\n",
              "      <th>ROAS</th>\n",
              "    </tr>\n",
              "  </thead>\n",
              "  <tbody>\n",
              "    <tr>\n",
              "      <th>0</th>\n",
              "      <td>1000281165</td>\n",
              "      <td>2000200268</td>\n",
              "      <td>2/1/2019</td>\n",
              "      <td>Evergreen</td>\n",
              "      <td>Shopping Cart Page</td>\n",
              "      <td>Purchases</td>\n",
              "      <td>Website Custom Audience</td>\n",
              "      <td>Brand Logo + Generic CTA</td>\n",
              "      <td>Photo</td>\n",
              "      <td>F</td>\n",
              "      <td>Conversion</td>\n",
              "      <td>15.26</td>\n",
              "      <td>774</td>\n",
              "      <td>12</td>\n",
              "      <td>1</td>\n",
              "      <td>0</td>\n",
              "      <td>0</td>\n",
              "      <td>NaN</td>\n",
              "      <td>NaN</td>\n",
              "      <td>NaN</td>\n",
              "      <td>NaN</td>\n",
              "      <td>NaN</td>\n",
              "      <td>NaN</td>\n",
              "      <td>19.72</td>\n",
              "      <td>0.0153</td>\n",
              "      <td>1.27</td>\n",
              "      <td>1</td>\n",
              "      <td>97</td>\n",
              "      <td>NaN</td>\n",
              "      <td>6.356488</td>\n",
              "    </tr>\n",
              "    <tr>\n",
              "      <th>1</th>\n",
              "      <td>1000141830</td>\n",
              "      <td>2000200714</td>\n",
              "      <td>2/1/2019</td>\n",
              "      <td>Evergreen</td>\n",
              "      <td>Product Page</td>\n",
              "      <td>Purchasers, Shopping Cart</td>\n",
              "      <td>Website Custom Audience</td>\n",
              "      <td>Brand Logo + Generic CTA</td>\n",
              "      <td>Photo</td>\n",
              "      <td>F</td>\n",
              "      <td>Conversion</td>\n",
              "      <td>49.12</td>\n",
              "      <td>2935</td>\n",
              "      <td>37</td>\n",
              "      <td>3</td>\n",
              "      <td>1</td>\n",
              "      <td>1</td>\n",
              "      <td>NaN</td>\n",
              "      <td>NaN</td>\n",
              "      <td>NaN</td>\n",
              "      <td>NaN</td>\n",
              "      <td>NaN</td>\n",
              "      <td>NaN</td>\n",
              "      <td>16.74</td>\n",
              "      <td>0.0125</td>\n",
              "      <td>1.33</td>\n",
              "      <td>3</td>\n",
              "      <td>399</td>\n",
              "      <td>NaN</td>\n",
              "      <td>8.122964</td>\n",
              "    </tr>\n",
              "    <tr>\n",
              "      <th>2</th>\n",
              "      <td>1000659879</td>\n",
              "      <td>2000200882</td>\n",
              "      <td>2/1/2019</td>\n",
              "      <td>Evergreen</td>\n",
              "      <td>Home Page</td>\n",
              "      <td>Product Page, Shopping Cart, Purchasers</td>\n",
              "      <td>Website Custom Audience</td>\n",
              "      <td>Brand Logo + Generic CTA</td>\n",
              "      <td>Photo</td>\n",
              "      <td>F</td>\n",
              "      <td>Conversion</td>\n",
              "      <td>81.37</td>\n",
              "      <td>6183</td>\n",
              "      <td>65</td>\n",
              "      <td>5</td>\n",
              "      <td>3</td>\n",
              "      <td>2</td>\n",
              "      <td>NaN</td>\n",
              "      <td>NaN</td>\n",
              "      <td>NaN</td>\n",
              "      <td>NaN</td>\n",
              "      <td>NaN</td>\n",
              "      <td>NaN</td>\n",
              "      <td>13.16</td>\n",
              "      <td>0.0105</td>\n",
              "      <td>1.25</td>\n",
              "      <td>3</td>\n",
              "      <td>261</td>\n",
              "      <td>NaN</td>\n",
              "      <td>3.207570</td>\n",
              "    </tr>\n",
              "    <tr>\n",
              "      <th>3</th>\n",
              "      <td>1000599036</td>\n",
              "      <td>2000201316</td>\n",
              "      <td>2/1/2019</td>\n",
              "      <td>Evergreen</td>\n",
              "      <td>Top Purchasers Lookalike 1%</td>\n",
              "      <td>All Site Visitors</td>\n",
              "      <td>Lookalike</td>\n",
              "      <td>Brand Logo + Generic CTA</td>\n",
              "      <td>Photo</td>\n",
              "      <td>F</td>\n",
              "      <td>Conversion</td>\n",
              "      <td>32.65</td>\n",
              "      <td>2739</td>\n",
              "      <td>24</td>\n",
              "      <td>3</td>\n",
              "      <td>1</td>\n",
              "      <td>1</td>\n",
              "      <td>NaN</td>\n",
              "      <td>NaN</td>\n",
              "      <td>NaN</td>\n",
              "      <td>NaN</td>\n",
              "      <td>NaN</td>\n",
              "      <td>NaN</td>\n",
              "      <td>11.92</td>\n",
              "      <td>0.0089</td>\n",
              "      <td>1.36</td>\n",
              "      <td>1</td>\n",
              "      <td>24</td>\n",
              "      <td>NaN</td>\n",
              "      <td>0.735069</td>\n",
              "    </tr>\n",
              "    <tr>\n",
              "      <th>4</th>\n",
              "      <td>1000512589</td>\n",
              "      <td>2000202452</td>\n",
              "      <td>2/1/2019</td>\n",
              "      <td>Evergreen</td>\n",
              "      <td>Top Purchasers Lookalike 2%</td>\n",
              "      <td>All Site Visitors</td>\n",
              "      <td>Lookalike</td>\n",
              "      <td>Brand Logo + Generic CTA</td>\n",
              "      <td>Photo</td>\n",
              "      <td>F</td>\n",
              "      <td>Conversion</td>\n",
              "      <td>14.86</td>\n",
              "      <td>1375</td>\n",
              "      <td>12</td>\n",
              "      <td>1</td>\n",
              "      <td>1</td>\n",
              "      <td>0</td>\n",
              "      <td>NaN</td>\n",
              "      <td>NaN</td>\n",
              "      <td>NaN</td>\n",
              "      <td>NaN</td>\n",
              "      <td>NaN</td>\n",
              "      <td>NaN</td>\n",
              "      <td>10.81</td>\n",
              "      <td>0.0087</td>\n",
              "      <td>1.24</td>\n",
              "      <td>0</td>\n",
              "      <td>0</td>\n",
              "      <td>NaN</td>\n",
              "      <td>0.000000</td>\n",
              "    </tr>\n",
              "  </tbody>\n",
              "</table>\n",
              "</div>"
            ],
            "text/plain": [
              "        AD ID  Placement ID      Date  ... Total Revenue CPV      ROAS\n",
              "0  1000281165    2000200268  2/1/2019  ...            97 NaN  6.356488\n",
              "1  1000141830    2000200714  2/1/2019  ...           399 NaN  8.122964\n",
              "2  1000659879    2000200882  2/1/2019  ...           261 NaN  3.207570\n",
              "3  1000599036    2000201316  2/1/2019  ...            24 NaN  0.735069\n",
              "4  1000512589    2000202452  2/1/2019  ...             0 NaN  0.000000\n",
              "\n",
              "[5 rows x 30 columns]"
            ]
          },
          "metadata": {
            "tags": []
          },
          "execution_count": 14
        }
      ]
    },
    {
      "cell_type": "code",
      "metadata": {
        "scrolled": true,
        "id": "HerXtpGqi0ax",
        "colab_type": "code",
        "outputId": "0712ee20-cfc1-4f15-8c2d-00bc0ed061ef",
        "colab": {
          "base_uri": "https://localhost:8080/",
          "height": 204
        }
      },
      "source": [
        "# created another table that only contains columns \"Audience Type\" and \"ROAS\"\n",
        "AudienceType_ROAS = df.loc[:,['Audience Type','Media Spend', 'Total Revenue']]\n",
        "# check the created table\n",
        "AudienceType_ROAS.head()"
      ],
      "execution_count": 16,
      "outputs": [
        {
          "output_type": "execute_result",
          "data": {
            "text/html": [
              "<div>\n",
              "<style scoped>\n",
              "    .dataframe tbody tr th:only-of-type {\n",
              "        vertical-align: middle;\n",
              "    }\n",
              "\n",
              "    .dataframe tbody tr th {\n",
              "        vertical-align: top;\n",
              "    }\n",
              "\n",
              "    .dataframe thead th {\n",
              "        text-align: right;\n",
              "    }\n",
              "</style>\n",
              "<table border=\"1\" class=\"dataframe\">\n",
              "  <thead>\n",
              "    <tr style=\"text-align: right;\">\n",
              "      <th></th>\n",
              "      <th>Audience Type</th>\n",
              "      <th>Media Spend</th>\n",
              "      <th>Total Revenue</th>\n",
              "    </tr>\n",
              "  </thead>\n",
              "  <tbody>\n",
              "    <tr>\n",
              "      <th>0</th>\n",
              "      <td>Website Custom Audience</td>\n",
              "      <td>15.26</td>\n",
              "      <td>97</td>\n",
              "    </tr>\n",
              "    <tr>\n",
              "      <th>1</th>\n",
              "      <td>Website Custom Audience</td>\n",
              "      <td>49.12</td>\n",
              "      <td>399</td>\n",
              "    </tr>\n",
              "    <tr>\n",
              "      <th>2</th>\n",
              "      <td>Website Custom Audience</td>\n",
              "      <td>81.37</td>\n",
              "      <td>261</td>\n",
              "    </tr>\n",
              "    <tr>\n",
              "      <th>3</th>\n",
              "      <td>Lookalike</td>\n",
              "      <td>32.65</td>\n",
              "      <td>24</td>\n",
              "    </tr>\n",
              "    <tr>\n",
              "      <th>4</th>\n",
              "      <td>Lookalike</td>\n",
              "      <td>14.86</td>\n",
              "      <td>0</td>\n",
              "    </tr>\n",
              "  </tbody>\n",
              "</table>\n",
              "</div>"
            ],
            "text/plain": [
              "             Audience Type  Media Spend  Total Revenue\n",
              "0  Website Custom Audience        15.26             97\n",
              "1  Website Custom Audience        49.12            399\n",
              "2  Website Custom Audience        81.37            261\n",
              "3                Lookalike        32.65             24\n",
              "4                Lookalike        14.86              0"
            ]
          },
          "metadata": {
            "tags": []
          },
          "execution_count": 16
        }
      ]
    },
    {
      "cell_type": "code",
      "metadata": {
        "scrolled": false,
        "id": "B64xx0yyi0a2",
        "colab_type": "code",
        "outputId": "cafd693a-0181-4fda-82e1-16922277ecee",
        "colab": {
          "base_uri": "https://localhost:8080/",
          "height": 204
        }
      },
      "source": [
        "# group by the column \"Audience Type\" to show the ROAS under each Audience Type\n",
        "Group_AudienceType = AudienceType_ROAS.groupby(['Audience Type']).sum()\n",
        "Group_AudienceType "
      ],
      "execution_count": 19,
      "outputs": [
        {
          "output_type": "execute_result",
          "data": {
            "text/html": [
              "<div>\n",
              "<style scoped>\n",
              "    .dataframe tbody tr th:only-of-type {\n",
              "        vertical-align: middle;\n",
              "    }\n",
              "\n",
              "    .dataframe tbody tr th {\n",
              "        vertical-align: top;\n",
              "    }\n",
              "\n",
              "    .dataframe thead th {\n",
              "        text-align: right;\n",
              "    }\n",
              "</style>\n",
              "<table border=\"1\" class=\"dataframe\">\n",
              "  <thead>\n",
              "    <tr style=\"text-align: right;\">\n",
              "      <th></th>\n",
              "      <th>Media Spend</th>\n",
              "      <th>Total Revenue</th>\n",
              "    </tr>\n",
              "    <tr>\n",
              "      <th>Audience Type</th>\n",
              "      <th></th>\n",
              "      <th></th>\n",
              "    </tr>\n",
              "  </thead>\n",
              "  <tbody>\n",
              "    <tr>\n",
              "      <th>Custom Audience</th>\n",
              "      <td>23677.90</td>\n",
              "      <td>86683</td>\n",
              "    </tr>\n",
              "    <tr>\n",
              "      <th>Facebook Interest</th>\n",
              "      <td>24833.80</td>\n",
              "      <td>39754</td>\n",
              "    </tr>\n",
              "    <tr>\n",
              "      <th>Lookalike</th>\n",
              "      <td>43794.21</td>\n",
              "      <td>120633</td>\n",
              "    </tr>\n",
              "    <tr>\n",
              "      <th>Website Custom Audience</th>\n",
              "      <td>96060.96</td>\n",
              "      <td>524129</td>\n",
              "    </tr>\n",
              "  </tbody>\n",
              "</table>\n",
              "</div>"
            ],
            "text/plain": [
              "                         Media Spend  Total Revenue\n",
              "Audience Type                                      \n",
              "Custom Audience             23677.90          86683\n",
              "Facebook Interest           24833.80          39754\n",
              "Lookalike                   43794.21         120633\n",
              "Website Custom Audience     96060.96         524129"
            ]
          },
          "metadata": {
            "tags": []
          },
          "execution_count": 19
        }
      ]
    },
    {
      "cell_type": "code",
      "metadata": {
        "id": "wVpeppvnW6ls",
        "colab_type": "code",
        "colab": {
          "base_uri": "https://localhost:8080/",
          "height": 204
        },
        "outputId": "a97e7a35-fe7e-4c46-bc01-e83456590091"
      },
      "source": [
        "Group_AudienceType['ROAS'] = Group_AudienceType['Total Revenue']/Group_AudienceType['Media Spend']\n",
        "Group_AudienceType"
      ],
      "execution_count": 22,
      "outputs": [
        {
          "output_type": "execute_result",
          "data": {
            "text/html": [
              "<div>\n",
              "<style scoped>\n",
              "    .dataframe tbody tr th:only-of-type {\n",
              "        vertical-align: middle;\n",
              "    }\n",
              "\n",
              "    .dataframe tbody tr th {\n",
              "        vertical-align: top;\n",
              "    }\n",
              "\n",
              "    .dataframe thead th {\n",
              "        text-align: right;\n",
              "    }\n",
              "</style>\n",
              "<table border=\"1\" class=\"dataframe\">\n",
              "  <thead>\n",
              "    <tr style=\"text-align: right;\">\n",
              "      <th></th>\n",
              "      <th>Media Spend</th>\n",
              "      <th>Total Revenue</th>\n",
              "      <th>ROAS</th>\n",
              "    </tr>\n",
              "    <tr>\n",
              "      <th>Audience Type</th>\n",
              "      <th></th>\n",
              "      <th></th>\n",
              "      <th></th>\n",
              "    </tr>\n",
              "  </thead>\n",
              "  <tbody>\n",
              "    <tr>\n",
              "      <th>Custom Audience</th>\n",
              "      <td>23677.90</td>\n",
              "      <td>86683</td>\n",
              "      <td>3.660924</td>\n",
              "    </tr>\n",
              "    <tr>\n",
              "      <th>Facebook Interest</th>\n",
              "      <td>24833.80</td>\n",
              "      <td>39754</td>\n",
              "      <td>1.600802</td>\n",
              "    </tr>\n",
              "    <tr>\n",
              "      <th>Lookalike</th>\n",
              "      <td>43794.21</td>\n",
              "      <td>120633</td>\n",
              "      <td>2.754542</td>\n",
              "    </tr>\n",
              "    <tr>\n",
              "      <th>Website Custom Audience</th>\n",
              "      <td>96060.96</td>\n",
              "      <td>524129</td>\n",
              "      <td>5.456212</td>\n",
              "    </tr>\n",
              "  </tbody>\n",
              "</table>\n",
              "</div>"
            ],
            "text/plain": [
              "                         Media Spend  Total Revenue      ROAS\n",
              "Audience Type                                                \n",
              "Custom Audience             23677.90          86683  3.660924\n",
              "Facebook Interest           24833.80          39754  1.600802\n",
              "Lookalike                   43794.21         120633  2.754542\n",
              "Website Custom Audience     96060.96         524129  5.456212"
            ]
          },
          "metadata": {
            "tags": []
          },
          "execution_count": 22
        }
      ]
    },
    {
      "cell_type": "markdown",
      "metadata": {
        "id": "BqOX4-sdi0a6",
        "colab_type": "text"
      },
      "source": [
        "## Question Number 5\n",
        "Each Audience Type created based on column Audience <br>\n",
        "\n",
        "**Custom Audience**: Lapsed Purchasers and Frequent In-Store Purchasers <br>\n",
        "**Facebook Interest**: Interested In: Competitors, Interested In: High-End Retail, and Interested In: Shopping and Fashion <br>\n",
        "**Lookalike**: Top Purchasers Lookalike 1% and Top Purchasers Lookalike 2% <br>\n",
        "**Website Custom Audience**: Home Page, Product Page and Shopping Cart Page <br>\n"
      ]
    },
    {
      "cell_type": "code",
      "metadata": {
        "id": "kdSikFkCi0a7",
        "colab_type": "code",
        "outputId": "176fab35-8418-4efe-92a9-49b33f4ab2d2",
        "colab": {
          "base_uri": "https://localhost:8080/",
          "height": 204
        }
      },
      "source": [
        "# created a table that only contains columns \"Audience Type\", \"Audience\", \"CTR\", and \"ROAS\"\n",
        "Audience_Analysis = df.loc[:,['Audience Type','Audience','CTR','ROAS']]\n",
        "# group by the column creative \n",
        "Audience_Analysis_Summary= Audience_Analysis.groupby('Audience Type').mean()\n",
        "Audience_Analysis_Summary"
      ],
      "execution_count": 23,
      "outputs": [
        {
          "output_type": "execute_result",
          "data": {
            "text/html": [
              "<div>\n",
              "<style scoped>\n",
              "    .dataframe tbody tr th:only-of-type {\n",
              "        vertical-align: middle;\n",
              "    }\n",
              "\n",
              "    .dataframe tbody tr th {\n",
              "        vertical-align: top;\n",
              "    }\n",
              "\n",
              "    .dataframe thead th {\n",
              "        text-align: right;\n",
              "    }\n",
              "</style>\n",
              "<table border=\"1\" class=\"dataframe\">\n",
              "  <thead>\n",
              "    <tr style=\"text-align: right;\">\n",
              "      <th></th>\n",
              "      <th>CTR</th>\n",
              "      <th>ROAS</th>\n",
              "    </tr>\n",
              "    <tr>\n",
              "      <th>Audience Type</th>\n",
              "      <th></th>\n",
              "      <th></th>\n",
              "    </tr>\n",
              "  </thead>\n",
              "  <tbody>\n",
              "    <tr>\n",
              "      <th>Custom Audience</th>\n",
              "      <td>0.010049</td>\n",
              "      <td>2.913341</td>\n",
              "    </tr>\n",
              "    <tr>\n",
              "      <th>Facebook Interest</th>\n",
              "      <td>0.007153</td>\n",
              "      <td>1.115867</td>\n",
              "    </tr>\n",
              "    <tr>\n",
              "      <th>Lookalike</th>\n",
              "      <td>0.009157</td>\n",
              "      <td>2.328606</td>\n",
              "    </tr>\n",
              "    <tr>\n",
              "      <th>Website Custom Audience</th>\n",
              "      <td>0.013810</td>\n",
              "      <td>4.877828</td>\n",
              "    </tr>\n",
              "  </tbody>\n",
              "</table>\n",
              "</div>"
            ],
            "text/plain": [
              "                              CTR      ROAS\n",
              "Audience Type                              \n",
              "Custom Audience          0.010049  2.913341\n",
              "Facebook Interest        0.007153  1.115867\n",
              "Lookalike                0.009157  2.328606\n",
              "Website Custom Audience  0.013810  4.877828"
            ]
          },
          "metadata": {
            "tags": []
          },
          "execution_count": 23
        }
      ]
    },
    {
      "cell_type": "code",
      "metadata": {
        "id": "E9qKu6sci0bA",
        "colab_type": "code",
        "outputId": "4ef95782-9a23-422e-c1d3-34fedbf8c759",
        "colab": {
          "base_uri": "https://localhost:8080/",
          "height": 102
        }
      },
      "source": [
        "# created a table that filter the audiece type \"Website Custom Audience\" and group by to calculate the average for CTR\n",
        "Website_Custom_Audience = Audience_Analysis[Audience_Analysis['Audience Type'] == 'Website Custom Audience']\n",
        "Website_Custom_Audience_Group = Website_Custom_Audience.groupby(['Audience'])\n",
        "Website_Custom_Audience_CTR = Website_Custom_Audience_Group['CTR'].describe()['mean']\n",
        "print(Website_Custom_Audience_CTR)"
      ],
      "execution_count": 24,
      "outputs": [
        {
          "output_type": "stream",
          "text": [
            "Audience\n",
            "Home Page             0.011023\n",
            "Product Page          0.013906\n",
            "Shopping Cart Page    0.016329\n",
            "Name: mean, dtype: float64\n"
          ],
          "name": "stdout"
        }
      ]
    },
    {
      "cell_type": "code",
      "metadata": {
        "id": "LObPht3bi0bH",
        "colab_type": "code",
        "colab": {
          "base_uri": "https://localhost:8080/",
          "height": 371
        },
        "outputId": "11abe83c-d5cb-453f-a756-781ed316a39b"
      },
      "source": [
        "# plot it in a bar chart to see which audience has the highest CTR\n",
        "barWebsite_Custom_Audience_CTR = Website_Custom_Audience_CTR.plot.bar()\n",
        "barWebsite_Custom_Audience_CTR;"
      ],
      "execution_count": 25,
      "outputs": [
        {
          "output_type": "display_data",
          "data": {
            "image/png": "[encoded data removed]",
            "text/plain": [
              "<Figure size 432x288 with 1 Axes>"
            ]
          },
          "metadata": {
            "tags": []
          }
        }
      ]
    },
    {
      "cell_type": "code",
      "metadata": {
        "id": "3WVTuFnDi0bL",
        "colab_type": "code",
        "outputId": "8cd36e76-de91-489a-81d6-61bbd9d0dda4",
        "colab": {
          "base_uri": "https://localhost:8080/",
          "height": 102
        }
      },
      "source": [
        "# created a table that filter the audiece type \"Website Custom Audience\" and group by to calculate the average for ROAS\n",
        "Website_Custom_Audience_ROAS = Website_Custom_Audience_Group['ROAS'].describe()['mean']\n",
        "print(Website_Custom_Audience_ROAS)"
      ],
      "execution_count": 26,
      "outputs": [
        {
          "output_type": "stream",
          "text": [
            "Audience\n",
            "Home Page             3.536379\n",
            "Product Page          4.747948\n",
            "Shopping Cart Page    6.255738\n",
            "Name: mean, dtype: float64\n"
          ],
          "name": "stdout"
        }
      ]
    },
    {
      "cell_type": "code",
      "metadata": {
        "id": "gL5tvwQgi0bP",
        "colab_type": "code",
        "outputId": "7b39a167-bc0b-4229-f31c-d7890af795aa",
        "colab": {
          "base_uri": "https://localhost:8080/",
          "height": 371
        }
      },
      "source": [
        "# plot it in a bar chart to see which audience has the highest CTR\n",
        "barWebsite_Custom_Audience_ROAS = Website_Custom_Audience_ROAS.plot.bar()\n",
        "barWebsite_Custom_Audience_ROAS;"
      ],
      "execution_count": 27,
      "outputs": [
        {
          "output_type": "display_data",
          "data": {
            "image/png": "[encoded data removed]",
            "text/plain": [
              "<Figure size 432x288 with 1 Axes>"
            ]
          },
          "metadata": {
            "tags": []
          }
        }
      ]
    },
    {
      "cell_type": "markdown",
      "metadata": {
        "id": "PqqRl_4Gi0bZ",
        "colab_type": "text"
      },
      "source": [
        "# conclusion: <br>\n",
        "Based on my observations, Audience Type: Website Custom Audience has the highest performance based on the major metrics \"CTR\" and \"ROAS\". Then, I dig deep to see which audience from \"Website Custom Audience\" type has the highest performance under each metrics \"CTR\" and \"ROAS\". Therefore, both bar charts showed the audience \"Shipping Cart Page\" has the highest performance. Instead, the audience \"Home Page\" has the worst performance."
      ]
    },
    {
      "cell_type": "markdown",
      "metadata": {
        "id": "6ULRLo_pi0ba",
        "colab_type": "text"
      },
      "source": [
        "## Question Number 6\n",
        "\n",
        "A chart that shows daily ROAS performance as below:"
      ]
    },
    {
      "cell_type": "code",
      "metadata": {
        "id": "HkwvpkXyi0bb",
        "colab_type": "code",
        "outputId": "26655f2c-7016-4ac9-da38-9d9a3d89da39",
        "colab": {
          "base_uri": "https://localhost:8080/",
          "height": 948
        }
      },
      "source": [
        "# created another table that only contains \"Date\" and \"ROAS\" and converted into frame \n",
        "Date_ROAS = df.loc[:,['Date','Media Spend', 'Total Revenue']]\n",
        "Group_Date_ROAS = Date_ROAS.groupby(['Date'])['Media Spend','Total Revenue'].sum()\n",
        "Group_Date_ROAS['ROAS'] = Group_Date_ROAS['Total Revenue']/Group_Date_ROAS['Media Spend']\n",
        "# created datetime index \n",
        "Group_Date_ROAS.index = pd.to_datetime(Group_Date_ROAS.index)\n",
        "Group_Date_ROAS.head()\n",
        "# sorted the new table \n",
        "\n",
        "Group_Date_ROAS_New = Group_Date_ROAS.loc[:,['ROAS']]\n",
        "Group_Date_ROAS_New"
      ],
      "execution_count": 57,
      "outputs": [
        {
          "output_type": "execute_result",
          "data": {
            "text/html": [
              "<div>\n",
              "<style scoped>\n",
              "    .dataframe tbody tr th:only-of-type {\n",
              "        vertical-align: middle;\n",
              "    }\n",
              "\n",
              "    .dataframe tbody tr th {\n",
              "        vertical-align: top;\n",
              "    }\n",
              "\n",
              "    .dataframe thead th {\n",
              "        text-align: right;\n",
              "    }\n",
              "</style>\n",
              "<table border=\"1\" class=\"dataframe\">\n",
              "  <thead>\n",
              "    <tr style=\"text-align: right;\">\n",
              "      <th></th>\n",
              "      <th>ROAS</th>\n",
              "    </tr>\n",
              "    <tr>\n",
              "      <th>Date</th>\n",
              "      <th></th>\n",
              "    </tr>\n",
              "  </thead>\n",
              "  <tbody>\n",
              "    <tr>\n",
              "      <th>2019-02-01</th>\n",
              "      <td>2.467998</td>\n",
              "    </tr>\n",
              "    <tr>\n",
              "      <th>2019-02-10</th>\n",
              "      <td>3.242833</td>\n",
              "    </tr>\n",
              "    <tr>\n",
              "      <th>2019-02-11</th>\n",
              "      <td>4.388453</td>\n",
              "    </tr>\n",
              "    <tr>\n",
              "      <th>2019-02-12</th>\n",
              "      <td>4.078993</td>\n",
              "    </tr>\n",
              "    <tr>\n",
              "      <th>2019-02-13</th>\n",
              "      <td>4.312247</td>\n",
              "    </tr>\n",
              "    <tr>\n",
              "      <th>2019-02-14</th>\n",
              "      <td>3.894487</td>\n",
              "    </tr>\n",
              "    <tr>\n",
              "      <th>2019-02-15</th>\n",
              "      <td>3.917446</td>\n",
              "    </tr>\n",
              "    <tr>\n",
              "      <th>2019-02-16</th>\n",
              "      <td>5.888004</td>\n",
              "    </tr>\n",
              "    <tr>\n",
              "      <th>2019-02-17</th>\n",
              "      <td>3.853759</td>\n",
              "    </tr>\n",
              "    <tr>\n",
              "      <th>2019-02-18</th>\n",
              "      <td>3.952026</td>\n",
              "    </tr>\n",
              "    <tr>\n",
              "      <th>2019-02-19</th>\n",
              "      <td>3.486997</td>\n",
              "    </tr>\n",
              "    <tr>\n",
              "      <th>2019-02-02</th>\n",
              "      <td>2.706652</td>\n",
              "    </tr>\n",
              "    <tr>\n",
              "      <th>2019-02-20</th>\n",
              "      <td>4.399142</td>\n",
              "    </tr>\n",
              "    <tr>\n",
              "      <th>2019-02-21</th>\n",
              "      <td>3.888962</td>\n",
              "    </tr>\n",
              "    <tr>\n",
              "      <th>2019-02-22</th>\n",
              "      <td>3.864048</td>\n",
              "    </tr>\n",
              "    <tr>\n",
              "      <th>2019-02-23</th>\n",
              "      <td>7.673609</td>\n",
              "    </tr>\n",
              "    <tr>\n",
              "      <th>2019-02-24</th>\n",
              "      <td>4.054070</td>\n",
              "    </tr>\n",
              "    <tr>\n",
              "      <th>2019-02-25</th>\n",
              "      <td>3.869191</td>\n",
              "    </tr>\n",
              "    <tr>\n",
              "      <th>2019-02-26</th>\n",
              "      <td>4.534666</td>\n",
              "    </tr>\n",
              "    <tr>\n",
              "      <th>2019-02-27</th>\n",
              "      <td>3.944635</td>\n",
              "    </tr>\n",
              "    <tr>\n",
              "      <th>2019-02-28</th>\n",
              "      <td>3.581261</td>\n",
              "    </tr>\n",
              "    <tr>\n",
              "      <th>2019-02-03</th>\n",
              "      <td>2.817522</td>\n",
              "    </tr>\n",
              "    <tr>\n",
              "      <th>2019-02-04</th>\n",
              "      <td>2.646033</td>\n",
              "    </tr>\n",
              "    <tr>\n",
              "      <th>2019-02-05</th>\n",
              "      <td>2.509433</td>\n",
              "    </tr>\n",
              "    <tr>\n",
              "      <th>2019-02-06</th>\n",
              "      <td>2.938223</td>\n",
              "    </tr>\n",
              "    <tr>\n",
              "      <th>2019-02-07</th>\n",
              "      <td>2.692842</td>\n",
              "    </tr>\n",
              "    <tr>\n",
              "      <th>2019-02-08</th>\n",
              "      <td>3.316244</td>\n",
              "    </tr>\n",
              "    <tr>\n",
              "      <th>2019-02-09</th>\n",
              "      <td>2.795799</td>\n",
              "    </tr>\n",
              "  </tbody>\n",
              "</table>\n",
              "</div>"
            ],
            "text/plain": [
              "                ROAS\n",
              "Date                \n",
              "2019-02-01  2.467998\n",
              "2019-02-10  3.242833\n",
              "2019-02-11  4.388453\n",
              "2019-02-12  4.078993\n",
              "2019-02-13  4.312247\n",
              "2019-02-14  3.894487\n",
              "2019-02-15  3.917446\n",
              "2019-02-16  5.888004\n",
              "2019-02-17  3.853759\n",
              "2019-02-18  3.952026\n",
              "2019-02-19  3.486997\n",
              "2019-02-02  2.706652\n",
              "2019-02-20  4.399142\n",
              "2019-02-21  3.888962\n",
              "2019-02-22  3.864048\n",
              "2019-02-23  7.673609\n",
              "2019-02-24  4.054070\n",
              "2019-02-25  3.869191\n",
              "2019-02-26  4.534666\n",
              "2019-02-27  3.944635\n",
              "2019-02-28  3.581261\n",
              "2019-02-03  2.817522\n",
              "2019-02-04  2.646033\n",
              "2019-02-05  2.509433\n",
              "2019-02-06  2.938223\n",
              "2019-02-07  2.692842\n",
              "2019-02-08  3.316244\n",
              "2019-02-09  2.795799"
            ]
          },
          "metadata": {
            "tags": []
          },
          "execution_count": 57
        }
      ]
    },
    {
      "cell_type": "code",
      "metadata": {
        "id": "YvQeGAxbi0bh",
        "colab_type": "code",
        "colab": {}
      },
      "source": [
        "# converted the column \"Date\" from objective to numeric \n",
        "Group_Date_ROAS_New = Group_Date_ROAS_New.sort_index()"
      ],
      "execution_count": 0,
      "outputs": []
    },
    {
      "cell_type": "code",
      "metadata": {
        "id": "2HNh92xfi0bl",
        "colab_type": "code",
        "outputId": "230c6592-fbec-4bbb-f969-14b9295b495b",
        "colab": {
          "base_uri": "https://localhost:8080/",
          "height": 283
        }
      },
      "source": [
        "import pandas as pd\n",
        "import matplotlib.pyplot as plt\n",
        "# created the line chart to visulize the time series ROAS performance \n",
        "fig, ax = plt.subplots()\n",
        "fig.subplots_adjust(bottom=0.3)\n",
        "plt.xticks(rotation=90)\n",
        "plt.plot(Group_Date_ROAS_New)"
      ],
      "execution_count": 62,
      "outputs": [
        {
          "output_type": "execute_result",
          "data": {
            "text/plain": [
              "[<matplotlib.lines.Line2D at 0x7f5584973c50>]"
            ]
          },
          "metadata": {
            "tags": []
          },
          "execution_count": 62
        },
        {
          "output_type": "display_data",
          "data": {
            "image/png": "[encoded data removed]",
            "text/plain": [
              "<Figure size 432x288 with 1 Axes>"
            ]
          },
          "metadata": {
            "tags": []
          }
        }
      ]
    },
    {
      "cell_type": "markdown",
      "metadata": {
        "id": "B9IP6Rh4i0bp",
        "colab_type": "text"
      },
      "source": [
        "## Question Number 7\n",
        "\n",
        "A chart that shows CPC and CTR performance by the audience as below:"
      ]
    },
    {
      "cell_type": "code",
      "metadata": {
        "scrolled": true,
        "id": "wNvU7mqKi0bq",
        "colab_type": "code",
        "outputId": "b318c161-dd3a-4606-a88f-3212b0e9b82e",
        "colab": {
          "base_uri": "https://localhost:8080/",
          "height": 369
        }
      },
      "source": [
        "# created the scatter plot to visualize the relationship between CTR and CPC under the category \"Audience\"\n",
        "import seaborn as sns\n",
        "import matplotlib.pyplot as plt\n",
        "sns.lmplot(x=\"CPC\", y=\"CTR\", hue=\"Audience\", data=df);"
      ],
      "execution_count": 63,
      "outputs": [
        {
          "output_type": "display_data",
          "data": {
            "image/png": "[encoded data removed]",
            "text/plain": [
              "<Figure size 576.5x360 with 1 Axes>"
            ]
          },
          "metadata": {
            "tags": []
          }
        }
      ]
    },
    {
      "cell_type": "markdown",
      "metadata": {
        "id": "Kce5rwf5i0bt",
        "colab_type": "text"
      },
      "source": [
        "Based on this chart, we can clearly see the Audience \"Shopping Cart Page\" has the strongest negative relationship under the metrics \"CTR\" and \"CPC\". On the other hand, the Audience \"Interested in: Competitors\" has the weakest negative relationship under the metrics \"CTR\" and \"CPC\"."
      ]
    },
    {
      "cell_type": "markdown",
      "metadata": {
        "id": "PiHr5w7ui0bu",
        "colab_type": "text"
      },
      "source": [
        "## Question Number 8\n",
        "\n",
        "Scatterplot chart as below: showed Daily Spend correlate to ROAS generated"
      ]
    },
    {
      "cell_type": "code",
      "metadata": {
        "id": "E_hYPAq1i0bu",
        "colab_type": "code",
        "outputId": "0a66235d-5b3b-47b5-c5e3-463b10454ffe",
        "colab": {
          "base_uri": "https://localhost:8080/",
          "height": 111
        }
      },
      "source": [
        "# checked the correlation between column \"Media Spend\" and \"ROAS\"\n",
        "corr_df = df.loc[:,['Media Spend', 'ROAS']]\n",
        "corr_df.corr()"
      ],
      "execution_count": 64,
      "outputs": [
        {
          "output_type": "execute_result",
          "data": {
            "text/html": [
              "<div>\n",
              "<style scoped>\n",
              "    .dataframe tbody tr th:only-of-type {\n",
              "        vertical-align: middle;\n",
              "    }\n",
              "\n",
              "    .dataframe tbody tr th {\n",
              "        vertical-align: top;\n",
              "    }\n",
              "\n",
              "    .dataframe thead th {\n",
              "        text-align: right;\n",
              "    }\n",
              "</style>\n",
              "<table border=\"1\" class=\"dataframe\">\n",
              "  <thead>\n",
              "    <tr style=\"text-align: right;\">\n",
              "      <th></th>\n",
              "      <th>Media Spend</th>\n",
              "      <th>ROAS</th>\n",
              "    </tr>\n",
              "  </thead>\n",
              "  <tbody>\n",
              "    <tr>\n",
              "      <th>Media Spend</th>\n",
              "      <td>1.000000</td>\n",
              "      <td>0.298086</td>\n",
              "    </tr>\n",
              "    <tr>\n",
              "      <th>ROAS</th>\n",
              "      <td>0.298086</td>\n",
              "      <td>1.000000</td>\n",
              "    </tr>\n",
              "  </tbody>\n",
              "</table>\n",
              "</div>"
            ],
            "text/plain": [
              "             Media Spend      ROAS\n",
              "Media Spend     1.000000  0.298086\n",
              "ROAS            0.298086  1.000000"
            ]
          },
          "metadata": {
            "tags": []
          },
          "execution_count": 64
        }
      ]
    },
    {
      "cell_type": "code",
      "metadata": {
        "id": "cmmvmy0mi0bx",
        "colab_type": "code",
        "outputId": "4e96a552-36de-445f-c880-87d7084a0f59",
        "colab": {
          "base_uri": "https://localhost:8080/",
          "height": 369
        }
      },
      "source": [
        "# created the scatterplot to visualize the relationship \n",
        "sns.lmplot(x=\"Media Spend\", y=\"ROAS\", data=df);"
      ],
      "execution_count": 65,
      "outputs": [
        {
          "output_type": "display_data",
          "data": {
            "image/png": "[encoded data removed]",
            "text/plain": [
              "<Figure size 360x360 with 1 Axes>"
            ]
          },
          "metadata": {
            "tags": []
          }
        }
      ]
    },
    {
      "cell_type": "markdown",
      "metadata": {
        "id": "A-MxLEJki0b1",
        "colab_type": "text"
      },
      "source": [
        "Amount of Daily Spend does correlate to ROAS generated. They don't have a strong positive relationship. Based on the chart, we can see they do have a strong positive relationship at the beginning (especially on media spend range 0 - 200), but once over the 400, it tended to have a weak positive relationship"
      ]
    },
    {
      "cell_type": "markdown",
      "metadata": {
        "id": "2a4fKBu3i0b2",
        "colab_type": "text"
      },
      "source": [
        "## Question Number 9\n",
        "\n",
        "The metric \"CTR\" from question 3 I would use to determine which creative performed best. Compared to another two metrics \"CPM\" and \"CPC\", which are mainly focusing on cost for impressions and clicks, it won't give us any results about which Creatives have made returns based on its activities. The \"CTR\" metric showed us how does each Creative actually attracted the user's attention and made clicks. <br>\n",
        "\n",
        "Creative \"Brand Logo + Save Now CTA\" performed better under metric \"CTR\" "
      ]
    },
    {
      "cell_type": "markdown",
      "metadata": {
        "id": "-Z95V1q8i0b2",
        "colab_type": "text"
      },
      "source": [
        "## Question Number 10\n",
        "\n",
        "\n"
      ]
    },
    {
      "cell_type": "code",
      "metadata": {
        "id": "LPmGnJgti0b3",
        "colab_type": "code",
        "outputId": "51867fc7-ac26-4cc1-be06-be8340b226af",
        "colab": {
          "base_uri": "https://localhost:8080/",
          "height": 297
        }
      },
      "source": [
        "# created the table that only contains column \"Creative\", \"Imporessions\", \"Likes\", \"Comments\", \"Shares\" group by the column \"Creative\"\n",
        "New_Metrics = df.loc[:,['Creative','Impressions','Clicks','Likes','Comments','Shares']]\n",
        "New_Metrics_Table = New_Metrics.groupby('Creative').sum()\n",
        "New_Metrics_Table"
      ],
      "execution_count": 66,
      "outputs": [
        {
          "output_type": "execute_result",
          "data": {
            "text/html": [
              "<div>\n",
              "<style scoped>\n",
              "    .dataframe tbody tr th:only-of-type {\n",
              "        vertical-align: middle;\n",
              "    }\n",
              "\n",
              "    .dataframe tbody tr th {\n",
              "        vertical-align: top;\n",
              "    }\n",
              "\n",
              "    .dataframe thead th {\n",
              "        text-align: right;\n",
              "    }\n",
              "</style>\n",
              "<table border=\"1\" class=\"dataframe\">\n",
              "  <thead>\n",
              "    <tr style=\"text-align: right;\">\n",
              "      <th></th>\n",
              "      <th>Impressions</th>\n",
              "      <th>Clicks</th>\n",
              "      <th>Likes</th>\n",
              "      <th>Comments</th>\n",
              "      <th>Shares</th>\n",
              "    </tr>\n",
              "    <tr>\n",
              "      <th>Creative</th>\n",
              "      <th></th>\n",
              "      <th></th>\n",
              "      <th></th>\n",
              "      <th></th>\n",
              "      <th></th>\n",
              "    </tr>\n",
              "  </thead>\n",
              "  <tbody>\n",
              "    <tr>\n",
              "      <th>Brand Logo + Free Shipping CTA</th>\n",
              "      <td>730310</td>\n",
              "      <td>8835</td>\n",
              "      <td>728</td>\n",
              "      <td>357</td>\n",
              "      <td>223</td>\n",
              "    </tr>\n",
              "    <tr>\n",
              "      <th>Brand Logo + Generic CTA</th>\n",
              "      <td>6194004</td>\n",
              "      <td>57452</td>\n",
              "      <td>6173</td>\n",
              "      <td>3193</td>\n",
              "      <td>1907</td>\n",
              "    </tr>\n",
              "    <tr>\n",
              "      <th>Brand Logo + Save Now CTA</th>\n",
              "      <td>6580247</td>\n",
              "      <td>66642</td>\n",
              "      <td>6585</td>\n",
              "      <td>3338</td>\n",
              "      <td>1996</td>\n",
              "    </tr>\n",
              "    <tr>\n",
              "      <th>Brand Logo + Valentine's Day Messaging CTA</th>\n",
              "      <td>2589284</td>\n",
              "      <td>31976</td>\n",
              "      <td>2597</td>\n",
              "      <td>1269</td>\n",
              "      <td>774</td>\n",
              "    </tr>\n",
              "    <tr>\n",
              "      <th>Free Shipping + Free Shipping CTA</th>\n",
              "      <td>1046281</td>\n",
              "      <td>13012</td>\n",
              "      <td>1026</td>\n",
              "      <td>534</td>\n",
              "      <td>302</td>\n",
              "    </tr>\n",
              "    <tr>\n",
              "      <th>Valentine's Day + Generic CTA</th>\n",
              "      <td>2977905</td>\n",
              "      <td>34019</td>\n",
              "      <td>2930</td>\n",
              "      <td>1511</td>\n",
              "      <td>890</td>\n",
              "    </tr>\n",
              "    <tr>\n",
              "      <th>Valentine's Day + Valentine's Day CTA</th>\n",
              "      <td>121948</td>\n",
              "      <td>2412</td>\n",
              "      <td>119</td>\n",
              "      <td>59</td>\n",
              "      <td>39</td>\n",
              "    </tr>\n",
              "  </tbody>\n",
              "</table>\n",
              "</div>"
            ],
            "text/plain": [
              "                                            Impressions  ...  Shares\n",
              "Creative                                                 ...        \n",
              "Brand Logo + Free Shipping CTA                   730310  ...     223\n",
              "Brand Logo + Generic CTA                        6194004  ...    1907\n",
              "Brand Logo + Save Now CTA                       6580247  ...    1996\n",
              "Brand Logo + Valentine's Day Messaging CTA      2589284  ...     774\n",
              "Free Shipping + Free Shipping CTA               1046281  ...     302\n",
              "Valentine's Day + Generic CTA                   2977905  ...     890\n",
              "Valentine's Day + Valentine's Day CTA            121948  ...      39\n",
              "\n",
              "[7 rows x 5 columns]"
            ]
          },
          "metadata": {
            "tags": []
          },
          "execution_count": 66
        }
      ]
    },
    {
      "cell_type": "markdown",
      "metadata": {
        "id": "waU7YB4-i0b7",
        "colab_type": "text"
      },
      "source": [
        "I would also consider metrics such as \"Impressions\", \"Clicks\", \"Likes\", \"Comments\", \"Shares\", \"Video Views\" to analyze the most effective creative tactic. Based on this summary table, we can observe Creative \"Brand Logo + Save Now CTA\" are highest among all metrics <br>\n",
        "\n",
        "I would get mean for all of metrics and determine how far away for each Creative to determine the effectiveness or assign grade A, B, C, D for each Creative"
      ]
    },
    {
      "cell_type": "markdown",
      "metadata": {
        "id": "jV8iZF0Ri0b8",
        "colab_type": "text"
      },
      "source": [
        "## Question Number 11\n",
        "\n",
        "In order to create a strategy to optimize a campaign, we need to determine first which campaign has the highest return on ad spend."
      ]
    },
    {
      "cell_type": "code",
      "metadata": {
        "id": "i6m6l6EGi0b9",
        "colab_type": "code",
        "outputId": "5b15d19f-5cdc-41c7-f766-33ba0f14c23d",
        "colab": {
          "base_uri": "https://localhost:8080/",
          "height": 173
        }
      },
      "source": [
        "# group by the column Campaign to check the Media Spend and Total Revenue \n",
        "campaign_df = df.groupby('Campaign')['Media Spend','Total Revenue'].sum()\n",
        "campaign_df"
      ],
      "execution_count": 67,
      "outputs": [
        {
          "output_type": "execute_result",
          "data": {
            "text/html": [
              "<div>\n",
              "<style scoped>\n",
              "    .dataframe tbody tr th:only-of-type {\n",
              "        vertical-align: middle;\n",
              "    }\n",
              "\n",
              "    .dataframe tbody tr th {\n",
              "        vertical-align: top;\n",
              "    }\n",
              "\n",
              "    .dataframe thead th {\n",
              "        text-align: right;\n",
              "    }\n",
              "</style>\n",
              "<table border=\"1\" class=\"dataframe\">\n",
              "  <thead>\n",
              "    <tr style=\"text-align: right;\">\n",
              "      <th></th>\n",
              "      <th>Media Spend</th>\n",
              "      <th>Total Revenue</th>\n",
              "    </tr>\n",
              "    <tr>\n",
              "      <th>Campaign</th>\n",
              "      <th></th>\n",
              "      <th></th>\n",
              "    </tr>\n",
              "  </thead>\n",
              "  <tbody>\n",
              "    <tr>\n",
              "      <th>Evergreen</th>\n",
              "      <td>113244.01</td>\n",
              "      <td>366079</td>\n",
              "    </tr>\n",
              "    <tr>\n",
              "      <th>Free Shipping</th>\n",
              "      <td>22750.46</td>\n",
              "      <td>166205</td>\n",
              "    </tr>\n",
              "    <tr>\n",
              "      <th>Valentine's Day Gift Offer</th>\n",
              "      <td>52372.40</td>\n",
              "      <td>238915</td>\n",
              "    </tr>\n",
              "  </tbody>\n",
              "</table>\n",
              "</div>"
            ],
            "text/plain": [
              "                            Media Spend  Total Revenue\n",
              "Campaign                                              \n",
              "Evergreen                     113244.01         366079\n",
              "Free Shipping                  22750.46         166205\n",
              "Valentine's Day Gift Offer     52372.40         238915"
            ]
          },
          "metadata": {
            "tags": []
          },
          "execution_count": 67
        }
      ]
    },
    {
      "cell_type": "code",
      "metadata": {
        "id": "rFOZx5iyi0cA",
        "colab_type": "code",
        "outputId": "74197c8a-b404-44cd-8de8-6b8a5def146e",
        "colab": {
          "base_uri": "https://localhost:8080/",
          "height": 173
        }
      },
      "source": [
        "# checked the ROAS under each Campaign\n",
        "campaign_df['ROAS'] = campaign_df['Total Revenue']/campaign_df['Media Spend']\n",
        "campaign_df"
      ],
      "execution_count": 68,
      "outputs": [
        {
          "output_type": "execute_result",
          "data": {
            "text/html": [
              "<div>\n",
              "<style scoped>\n",
              "    .dataframe tbody tr th:only-of-type {\n",
              "        vertical-align: middle;\n",
              "    }\n",
              "\n",
              "    .dataframe tbody tr th {\n",
              "        vertical-align: top;\n",
              "    }\n",
              "\n",
              "    .dataframe thead th {\n",
              "        text-align: right;\n",
              "    }\n",
              "</style>\n",
              "<table border=\"1\" class=\"dataframe\">\n",
              "  <thead>\n",
              "    <tr style=\"text-align: right;\">\n",
              "      <th></th>\n",
              "      <th>Media Spend</th>\n",
              "      <th>Total Revenue</th>\n",
              "      <th>ROAS</th>\n",
              "    </tr>\n",
              "    <tr>\n",
              "      <th>Campaign</th>\n",
              "      <th></th>\n",
              "      <th></th>\n",
              "      <th></th>\n",
              "    </tr>\n",
              "  </thead>\n",
              "  <tbody>\n",
              "    <tr>\n",
              "      <th>Evergreen</th>\n",
              "      <td>113244.01</td>\n",
              "      <td>366079</td>\n",
              "      <td>3.232657</td>\n",
              "    </tr>\n",
              "    <tr>\n",
              "      <th>Free Shipping</th>\n",
              "      <td>22750.46</td>\n",
              "      <td>166205</td>\n",
              "      <td>7.305567</td>\n",
              "    </tr>\n",
              "    <tr>\n",
              "      <th>Valentine's Day Gift Offer</th>\n",
              "      <td>52372.40</td>\n",
              "      <td>238915</td>\n",
              "      <td>4.561849</td>\n",
              "    </tr>\n",
              "  </tbody>\n",
              "</table>\n",
              "</div>"
            ],
            "text/plain": [
              "                            Media Spend  Total Revenue      ROAS\n",
              "Campaign                                                        \n",
              "Evergreen                     113244.01         366079  3.232657\n",
              "Free Shipping                  22750.46         166205  7.305567\n",
              "Valentine's Day Gift Offer     52372.40         238915  4.561849"
            ]
          },
          "metadata": {
            "tags": []
          },
          "execution_count": 68
        }
      ]
    },
    {
      "cell_type": "code",
      "metadata": {
        "id": "r6wQB40vi0cE",
        "colab_type": "code",
        "outputId": "2d067fd4-3e2b-46cc-d400-e3f1d695f481",
        "colab": {
          "base_uri": "https://localhost:8080/",
          "height": 173
        }
      },
      "source": [
        "#counts number of days each campaign ran\n",
        "unique_date_campaign = df.groupby('Campaign')['Date'].nunique().to_frame('Num Days') \n",
        "unique_date_campaign"
      ],
      "execution_count": 69,
      "outputs": [
        {
          "output_type": "execute_result",
          "data": {
            "text/html": [
              "<div>\n",
              "<style scoped>\n",
              "    .dataframe tbody tr th:only-of-type {\n",
              "        vertical-align: middle;\n",
              "    }\n",
              "\n",
              "    .dataframe tbody tr th {\n",
              "        vertical-align: top;\n",
              "    }\n",
              "\n",
              "    .dataframe thead th {\n",
              "        text-align: right;\n",
              "    }\n",
              "</style>\n",
              "<table border=\"1\" class=\"dataframe\">\n",
              "  <thead>\n",
              "    <tr style=\"text-align: right;\">\n",
              "      <th></th>\n",
              "      <th>Num Days</th>\n",
              "    </tr>\n",
              "    <tr>\n",
              "      <th>Campaign</th>\n",
              "      <th></th>\n",
              "    </tr>\n",
              "  </thead>\n",
              "  <tbody>\n",
              "    <tr>\n",
              "      <th>Evergreen</th>\n",
              "      <td>28</td>\n",
              "    </tr>\n",
              "    <tr>\n",
              "      <th>Free Shipping</th>\n",
              "      <td>2</td>\n",
              "    </tr>\n",
              "    <tr>\n",
              "      <th>Valentine's Day Gift Offer</th>\n",
              "      <td>4</td>\n",
              "    </tr>\n",
              "  </tbody>\n",
              "</table>\n",
              "</div>"
            ],
            "text/plain": [
              "                            Num Days\n",
              "Campaign                            \n",
              "Evergreen                         28\n",
              "Free Shipping                      2\n",
              "Valentine's Day Gift Offer         4"
            ]
          },
          "metadata": {
            "tags": []
          },
          "execution_count": 69
        }
      ]
    },
    {
      "cell_type": "code",
      "metadata": {
        "id": "qdKKilkri0cG",
        "colab_type": "code",
        "outputId": "20ba186a-f4e8-4d4e-e1c1-5b7923a19003",
        "colab": {
          "base_uri": "https://localhost:8080/",
          "height": 173
        }
      },
      "source": [
        "# merge the days table into the Campaign group by table \n",
        "merge_campaign_date = pd.merge(campaign_df, unique_date_campaign, how='inner',on='Campaign')\n",
        "merge_campaign_date"
      ],
      "execution_count": 70,
      "outputs": [
        {
          "output_type": "execute_result",
          "data": {
            "text/html": [
              "<div>\n",
              "<style scoped>\n",
              "    .dataframe tbody tr th:only-of-type {\n",
              "        vertical-align: middle;\n",
              "    }\n",
              "\n",
              "    .dataframe tbody tr th {\n",
              "        vertical-align: top;\n",
              "    }\n",
              "\n",
              "    .dataframe thead th {\n",
              "        text-align: right;\n",
              "    }\n",
              "</style>\n",
              "<table border=\"1\" class=\"dataframe\">\n",
              "  <thead>\n",
              "    <tr style=\"text-align: right;\">\n",
              "      <th></th>\n",
              "      <th>Media Spend</th>\n",
              "      <th>Total Revenue</th>\n",
              "      <th>ROAS</th>\n",
              "      <th>Num Days</th>\n",
              "    </tr>\n",
              "    <tr>\n",
              "      <th>Campaign</th>\n",
              "      <th></th>\n",
              "      <th></th>\n",
              "      <th></th>\n",
              "      <th></th>\n",
              "    </tr>\n",
              "  </thead>\n",
              "  <tbody>\n",
              "    <tr>\n",
              "      <th>Evergreen</th>\n",
              "      <td>113244.01</td>\n",
              "      <td>366079</td>\n",
              "      <td>3.232657</td>\n",
              "      <td>28</td>\n",
              "    </tr>\n",
              "    <tr>\n",
              "      <th>Free Shipping</th>\n",
              "      <td>22750.46</td>\n",
              "      <td>166205</td>\n",
              "      <td>7.305567</td>\n",
              "      <td>2</td>\n",
              "    </tr>\n",
              "    <tr>\n",
              "      <th>Valentine's Day Gift Offer</th>\n",
              "      <td>52372.40</td>\n",
              "      <td>238915</td>\n",
              "      <td>4.561849</td>\n",
              "      <td>4</td>\n",
              "    </tr>\n",
              "  </tbody>\n",
              "</table>\n",
              "</div>"
            ],
            "text/plain": [
              "                            Media Spend  Total Revenue      ROAS  Num Days\n",
              "Campaign                                                                  \n",
              "Evergreen                     113244.01         366079  3.232657        28\n",
              "Free Shipping                  22750.46         166205  7.305567         2\n",
              "Valentine's Day Gift Offer     52372.40         238915  4.561849         4"
            ]
          },
          "metadata": {
            "tags": []
          },
          "execution_count": 70
        }
      ]
    },
    {
      "cell_type": "markdown",
      "metadata": {
        "id": "cjsr6teWi0cK",
        "colab_type": "text"
      },
      "source": [
        "To be able to decide on the effectivity of each campaign, we need to find the length of days each campaign ran. This is shown by the table above. By doing this, we are able to find out the average daily media spend, total revenue, and ROAS for each campaign."
      ]
    },
    {
      "cell_type": "code",
      "metadata": {
        "scrolled": true,
        "id": "XdMHcuS9i0cL",
        "colab_type": "code",
        "outputId": "434258c2-9b08-4b79-c0f6-dbe8360a6bf1",
        "colab": {
          "base_uri": "https://localhost:8080/",
          "height": 173
        }
      },
      "source": [
        "# calculated the average media spend \n",
        "merge_campaign_date['Ave Media Spend'] = merge_campaign_date['Media Spend']/merge_campaign_date['Num Days']\n",
        "merge_campaign_date"
      ],
      "execution_count": 71,
      "outputs": [
        {
          "output_type": "execute_result",
          "data": {
            "text/html": [
              "<div>\n",
              "<style scoped>\n",
              "    .dataframe tbody tr th:only-of-type {\n",
              "        vertical-align: middle;\n",
              "    }\n",
              "\n",
              "    .dataframe tbody tr th {\n",
              "        vertical-align: top;\n",
              "    }\n",
              "\n",
              "    .dataframe thead th {\n",
              "        text-align: right;\n",
              "    }\n",
              "</style>\n",
              "<table border=\"1\" class=\"dataframe\">\n",
              "  <thead>\n",
              "    <tr style=\"text-align: right;\">\n",
              "      <th></th>\n",
              "      <th>Media Spend</th>\n",
              "      <th>Total Revenue</th>\n",
              "      <th>ROAS</th>\n",
              "      <th>Num Days</th>\n",
              "      <th>Ave Media Spend</th>\n",
              "    </tr>\n",
              "    <tr>\n",
              "      <th>Campaign</th>\n",
              "      <th></th>\n",
              "      <th></th>\n",
              "      <th></th>\n",
              "      <th></th>\n",
              "      <th></th>\n",
              "    </tr>\n",
              "  </thead>\n",
              "  <tbody>\n",
              "    <tr>\n",
              "      <th>Evergreen</th>\n",
              "      <td>113244.01</td>\n",
              "      <td>366079</td>\n",
              "      <td>3.232657</td>\n",
              "      <td>28</td>\n",
              "      <td>4044.428929</td>\n",
              "    </tr>\n",
              "    <tr>\n",
              "      <th>Free Shipping</th>\n",
              "      <td>22750.46</td>\n",
              "      <td>166205</td>\n",
              "      <td>7.305567</td>\n",
              "      <td>2</td>\n",
              "      <td>11375.230000</td>\n",
              "    </tr>\n",
              "    <tr>\n",
              "      <th>Valentine's Day Gift Offer</th>\n",
              "      <td>52372.40</td>\n",
              "      <td>238915</td>\n",
              "      <td>4.561849</td>\n",
              "      <td>4</td>\n",
              "      <td>13093.100000</td>\n",
              "    </tr>\n",
              "  </tbody>\n",
              "</table>\n",
              "</div>"
            ],
            "text/plain": [
              "                            Media Spend  ...  Ave Media Spend\n",
              "Campaign                                 ...                 \n",
              "Evergreen                     113244.01  ...      4044.428929\n",
              "Free Shipping                  22750.46  ...     11375.230000\n",
              "Valentine's Day Gift Offer     52372.40  ...     13093.100000\n",
              "\n",
              "[3 rows x 5 columns]"
            ]
          },
          "metadata": {
            "tags": []
          },
          "execution_count": 71
        }
      ]
    },
    {
      "cell_type": "code",
      "metadata": {
        "id": "ew9mSmy1i0cP",
        "colab_type": "code",
        "outputId": "365ad427-8a42-481a-c07d-1e006df36a9e",
        "colab": {
          "base_uri": "https://localhost:8080/",
          "height": 173
        }
      },
      "source": [
        "# calculated the average total revenue \n",
        "merge_campaign_date['Ave Total Revenue'] = merge_campaign_date['Total Revenue']/merge_campaign_date['Num Days']\n",
        "merge_campaign_date"
      ],
      "execution_count": 72,
      "outputs": [
        {
          "output_type": "execute_result",
          "data": {
            "text/html": [
              "<div>\n",
              "<style scoped>\n",
              "    .dataframe tbody tr th:only-of-type {\n",
              "        vertical-align: middle;\n",
              "    }\n",
              "\n",
              "    .dataframe tbody tr th {\n",
              "        vertical-align: top;\n",
              "    }\n",
              "\n",
              "    .dataframe thead th {\n",
              "        text-align: right;\n",
              "    }\n",
              "</style>\n",
              "<table border=\"1\" class=\"dataframe\">\n",
              "  <thead>\n",
              "    <tr style=\"text-align: right;\">\n",
              "      <th></th>\n",
              "      <th>Media Spend</th>\n",
              "      <th>Total Revenue</th>\n",
              "      <th>ROAS</th>\n",
              "      <th>Num Days</th>\n",
              "      <th>Ave Media Spend</th>\n",
              "      <th>Ave Total Revenue</th>\n",
              "    </tr>\n",
              "    <tr>\n",
              "      <th>Campaign</th>\n",
              "      <th></th>\n",
              "      <th></th>\n",
              "      <th></th>\n",
              "      <th></th>\n",
              "      <th></th>\n",
              "      <th></th>\n",
              "    </tr>\n",
              "  </thead>\n",
              "  <tbody>\n",
              "    <tr>\n",
              "      <th>Evergreen</th>\n",
              "      <td>113244.01</td>\n",
              "      <td>366079</td>\n",
              "      <td>3.232657</td>\n",
              "      <td>28</td>\n",
              "      <td>4044.428929</td>\n",
              "      <td>13074.25</td>\n",
              "    </tr>\n",
              "    <tr>\n",
              "      <th>Free Shipping</th>\n",
              "      <td>22750.46</td>\n",
              "      <td>166205</td>\n",
              "      <td>7.305567</td>\n",
              "      <td>2</td>\n",
              "      <td>11375.230000</td>\n",
              "      <td>83102.50</td>\n",
              "    </tr>\n",
              "    <tr>\n",
              "      <th>Valentine's Day Gift Offer</th>\n",
              "      <td>52372.40</td>\n",
              "      <td>238915</td>\n",
              "      <td>4.561849</td>\n",
              "      <td>4</td>\n",
              "      <td>13093.100000</td>\n",
              "      <td>59728.75</td>\n",
              "    </tr>\n",
              "  </tbody>\n",
              "</table>\n",
              "</div>"
            ],
            "text/plain": [
              "                            Media Spend  ...  Ave Total Revenue\n",
              "Campaign                                 ...                   \n",
              "Evergreen                     113244.01  ...           13074.25\n",
              "Free Shipping                  22750.46  ...           83102.50\n",
              "Valentine's Day Gift Offer     52372.40  ...           59728.75\n",
              "\n",
              "[3 rows x 6 columns]"
            ]
          },
          "metadata": {
            "tags": []
          },
          "execution_count": 72
        }
      ]
    },
    {
      "cell_type": "code",
      "metadata": {
        "id": "AAVS_Bkii0cU",
        "colab_type": "code",
        "outputId": "560d4eb5-e159-4eef-9364-36b30a7287bb",
        "colab": {
          "base_uri": "https://localhost:8080/",
          "height": 173
        }
      },
      "source": [
        "# calculated the average ROAS \n",
        "merge_campaign_date['Ave ROAS'] = merge_campaign_date['ROAS']/merge_campaign_date['Num Days']\n",
        "merge_campaign_date"
      ],
      "execution_count": 73,
      "outputs": [
        {
          "output_type": "execute_result",
          "data": {
            "text/html": [
              "<div>\n",
              "<style scoped>\n",
              "    .dataframe tbody tr th:only-of-type {\n",
              "        vertical-align: middle;\n",
              "    }\n",
              "\n",
              "    .dataframe tbody tr th {\n",
              "        vertical-align: top;\n",
              "    }\n",
              "\n",
              "    .dataframe thead th {\n",
              "        text-align: right;\n",
              "    }\n",
              "</style>\n",
              "<table border=\"1\" class=\"dataframe\">\n",
              "  <thead>\n",
              "    <tr style=\"text-align: right;\">\n",
              "      <th></th>\n",
              "      <th>Media Spend</th>\n",
              "      <th>Total Revenue</th>\n",
              "      <th>ROAS</th>\n",
              "      <th>Num Days</th>\n",
              "      <th>Ave Media Spend</th>\n",
              "      <th>Ave Total Revenue</th>\n",
              "      <th>Ave ROAS</th>\n",
              "    </tr>\n",
              "    <tr>\n",
              "      <th>Campaign</th>\n",
              "      <th></th>\n",
              "      <th></th>\n",
              "      <th></th>\n",
              "      <th></th>\n",
              "      <th></th>\n",
              "      <th></th>\n",
              "      <th></th>\n",
              "    </tr>\n",
              "  </thead>\n",
              "  <tbody>\n",
              "    <tr>\n",
              "      <th>Evergreen</th>\n",
              "      <td>113244.01</td>\n",
              "      <td>366079</td>\n",
              "      <td>3.232657</td>\n",
              "      <td>28</td>\n",
              "      <td>4044.428929</td>\n",
              "      <td>13074.25</td>\n",
              "      <td>0.115452</td>\n",
              "    </tr>\n",
              "    <tr>\n",
              "      <th>Free Shipping</th>\n",
              "      <td>22750.46</td>\n",
              "      <td>166205</td>\n",
              "      <td>7.305567</td>\n",
              "      <td>2</td>\n",
              "      <td>11375.230000</td>\n",
              "      <td>83102.50</td>\n",
              "      <td>3.652783</td>\n",
              "    </tr>\n",
              "    <tr>\n",
              "      <th>Valentine's Day Gift Offer</th>\n",
              "      <td>52372.40</td>\n",
              "      <td>238915</td>\n",
              "      <td>4.561849</td>\n",
              "      <td>4</td>\n",
              "      <td>13093.100000</td>\n",
              "      <td>59728.75</td>\n",
              "      <td>1.140462</td>\n",
              "    </tr>\n",
              "  </tbody>\n",
              "</table>\n",
              "</div>"
            ],
            "text/plain": [
              "                            Media Spend  ...  Ave ROAS\n",
              "Campaign                                 ...          \n",
              "Evergreen                     113244.01  ...  0.115452\n",
              "Free Shipping                  22750.46  ...  3.652783\n",
              "Valentine's Day Gift Offer     52372.40  ...  1.140462\n",
              "\n",
              "[3 rows x 7 columns]"
            ]
          },
          "metadata": {
            "tags": []
          },
          "execution_count": 73
        }
      ]
    },
    {
      "cell_type": "markdown",
      "metadata": {
        "id": "kIEPo41Ki0cW",
        "colab_type": "text"
      },
      "source": [
        "By looking at the table above, we are able to confirm that the **Free Shipping** campaign has the highest ROAS on a daily basis. This means that this campaign was also the most effective among the three. In order to optimize the revenue, it is therefore recommended to increase the number of days that the **Free Shipping** ran. In addition to this, the company may also just either completely take out the Evergreen campaign since it has the lowest daily average in terms of ROAS or use the cost of this campaign to increase the length of days the Free Shipping or even the Valentine's Day Gift Offer campaign ran."
      ]
    },
    {
      "cell_type": "markdown",
      "metadata": {
        "id": "tSy2D2cui0cX",
        "colab_type": "text"
      },
      "source": [
        "## Question Number 12\n",
        "\n"
      ]
    },
    {
      "cell_type": "code",
      "metadata": {
        "scrolled": true,
        "id": "ln4ZfjaEi0cX",
        "colab_type": "code",
        "outputId": "6719613d-e283-4ffe-d4ad-f4951c5c1419",
        "colab": {
          "base_uri": "https://localhost:8080/",
          "height": 142
        }
      },
      "source": [
        "# created the table that only contains column \"Video Views to 25%\", \"Video Views to 50%\", \"Video Views to 75%\", \"Video Views to 95%\", \"Video Views to 100%\" group by the column \"Campaign\"\n",
        "Test_Metrics = df.loc[:,['Campaign','Video Views to 25%','Video Views to 50%','Video Views to 75%','Video Views to 95%','Video Views to 100%']]\n",
        "Test_Metrics_Campaign = Test_Metrics.groupby(by='Campaign',as_index=False).mean()\n",
        "Test_Metrics_Campaign\n"
      ],
      "execution_count": 74,
      "outputs": [
        {
          "output_type": "execute_result",
          "data": {
            "text/html": [
              "<div>\n",
              "<style scoped>\n",
              "    .dataframe tbody tr th:only-of-type {\n",
              "        vertical-align: middle;\n",
              "    }\n",
              "\n",
              "    .dataframe tbody tr th {\n",
              "        vertical-align: top;\n",
              "    }\n",
              "\n",
              "    .dataframe thead th {\n",
              "        text-align: right;\n",
              "    }\n",
              "</style>\n",
              "<table border=\"1\" class=\"dataframe\">\n",
              "  <thead>\n",
              "    <tr style=\"text-align: right;\">\n",
              "      <th></th>\n",
              "      <th>Campaign</th>\n",
              "      <th>Video Views to 25%</th>\n",
              "      <th>Video Views to 50%</th>\n",
              "      <th>Video Views to 75%</th>\n",
              "      <th>Video Views to 95%</th>\n",
              "      <th>Video Views to 100%</th>\n",
              "    </tr>\n",
              "  </thead>\n",
              "  <tbody>\n",
              "    <tr>\n",
              "      <th>0</th>\n",
              "      <td>Evergreen</td>\n",
              "      <td>408.208256</td>\n",
              "      <td>204.915584</td>\n",
              "      <td>143.184137</td>\n",
              "      <td>114.793599</td>\n",
              "      <td>103.256030</td>\n",
              "    </tr>\n",
              "    <tr>\n",
              "      <th>1</th>\n",
              "      <td>Free Shipping</td>\n",
              "      <td>2111.375000</td>\n",
              "      <td>1044.928571</td>\n",
              "      <td>723.214286</td>\n",
              "      <td>573.339286</td>\n",
              "      <td>516.428571</td>\n",
              "    </tr>\n",
              "    <tr>\n",
              "      <th>2</th>\n",
              "      <td>Valentine's Day Gift Offer</td>\n",
              "      <td>1177.220238</td>\n",
              "      <td>595.178571</td>\n",
              "      <td>413.627976</td>\n",
              "      <td>329.883929</td>\n",
              "      <td>297.467262</td>\n",
              "    </tr>\n",
              "  </tbody>\n",
              "</table>\n",
              "</div>"
            ],
            "text/plain": [
              "                     Campaign  ...  Video Views to 100%\n",
              "0                   Evergreen  ...           103.256030\n",
              "1               Free Shipping  ...           516.428571\n",
              "2  Valentine's Day Gift Offer  ...           297.467262\n",
              "\n",
              "[3 rows x 6 columns]"
            ]
          },
          "metadata": {
            "tags": []
          },
          "execution_count": 74
        }
      ]
    },
    {
      "cell_type": "code",
      "metadata": {
        "id": "A-5gpauIi0cb",
        "colab_type": "code",
        "outputId": "6e19d9ca-a19e-4110-b448-25cb01a0727f",
        "colab": {
          "base_uri": "https://localhost:8080/",
          "height": 514
        }
      },
      "source": [
        "# changed the table format from wide to long \n",
        "l_testmetrics = Test_Metrics_Campaign.melt(id_vars=['Campaign'], value_vars=['Video Views to 25%', 'Video Views to 50%', \n",
        "                                                                            'Video Views to 75%', 'Video Views to 95%', \n",
        "                                                                            'Video Views to 100%'])\n",
        "l_testmetrics"
      ],
      "execution_count": 75,
      "outputs": [
        {
          "output_type": "execute_result",
          "data": {
            "text/html": [
              "<div>\n",
              "<style scoped>\n",
              "    .dataframe tbody tr th:only-of-type {\n",
              "        vertical-align: middle;\n",
              "    }\n",
              "\n",
              "    .dataframe tbody tr th {\n",
              "        vertical-align: top;\n",
              "    }\n",
              "\n",
              "    .dataframe thead th {\n",
              "        text-align: right;\n",
              "    }\n",
              "</style>\n",
              "<table border=\"1\" class=\"dataframe\">\n",
              "  <thead>\n",
              "    <tr style=\"text-align: right;\">\n",
              "      <th></th>\n",
              "      <th>Campaign</th>\n",
              "      <th>variable</th>\n",
              "      <th>value</th>\n",
              "    </tr>\n",
              "  </thead>\n",
              "  <tbody>\n",
              "    <tr>\n",
              "      <th>0</th>\n",
              "      <td>Evergreen</td>\n",
              "      <td>Video Views to 25%</td>\n",
              "      <td>408.208256</td>\n",
              "    </tr>\n",
              "    <tr>\n",
              "      <th>1</th>\n",
              "      <td>Free Shipping</td>\n",
              "      <td>Video Views to 25%</td>\n",
              "      <td>2111.375000</td>\n",
              "    </tr>\n",
              "    <tr>\n",
              "      <th>2</th>\n",
              "      <td>Valentine's Day Gift Offer</td>\n",
              "      <td>Video Views to 25%</td>\n",
              "      <td>1177.220238</td>\n",
              "    </tr>\n",
              "    <tr>\n",
              "      <th>3</th>\n",
              "      <td>Evergreen</td>\n",
              "      <td>Video Views to 50%</td>\n",
              "      <td>204.915584</td>\n",
              "    </tr>\n",
              "    <tr>\n",
              "      <th>4</th>\n",
              "      <td>Free Shipping</td>\n",
              "      <td>Video Views to 50%</td>\n",
              "      <td>1044.928571</td>\n",
              "    </tr>\n",
              "    <tr>\n",
              "      <th>5</th>\n",
              "      <td>Valentine's Day Gift Offer</td>\n",
              "      <td>Video Views to 50%</td>\n",
              "      <td>595.178571</td>\n",
              "    </tr>\n",
              "    <tr>\n",
              "      <th>6</th>\n",
              "      <td>Evergreen</td>\n",
              "      <td>Video Views to 75%</td>\n",
              "      <td>143.184137</td>\n",
              "    </tr>\n",
              "    <tr>\n",
              "      <th>7</th>\n",
              "      <td>Free Shipping</td>\n",
              "      <td>Video Views to 75%</td>\n",
              "      <td>723.214286</td>\n",
              "    </tr>\n",
              "    <tr>\n",
              "      <th>8</th>\n",
              "      <td>Valentine's Day Gift Offer</td>\n",
              "      <td>Video Views to 75%</td>\n",
              "      <td>413.627976</td>\n",
              "    </tr>\n",
              "    <tr>\n",
              "      <th>9</th>\n",
              "      <td>Evergreen</td>\n",
              "      <td>Video Views to 95%</td>\n",
              "      <td>114.793599</td>\n",
              "    </tr>\n",
              "    <tr>\n",
              "      <th>10</th>\n",
              "      <td>Free Shipping</td>\n",
              "      <td>Video Views to 95%</td>\n",
              "      <td>573.339286</td>\n",
              "    </tr>\n",
              "    <tr>\n",
              "      <th>11</th>\n",
              "      <td>Valentine's Day Gift Offer</td>\n",
              "      <td>Video Views to 95%</td>\n",
              "      <td>329.883929</td>\n",
              "    </tr>\n",
              "    <tr>\n",
              "      <th>12</th>\n",
              "      <td>Evergreen</td>\n",
              "      <td>Video Views to 100%</td>\n",
              "      <td>103.256030</td>\n",
              "    </tr>\n",
              "    <tr>\n",
              "      <th>13</th>\n",
              "      <td>Free Shipping</td>\n",
              "      <td>Video Views to 100%</td>\n",
              "      <td>516.428571</td>\n",
              "    </tr>\n",
              "    <tr>\n",
              "      <th>14</th>\n",
              "      <td>Valentine's Day Gift Offer</td>\n",
              "      <td>Video Views to 100%</td>\n",
              "      <td>297.467262</td>\n",
              "    </tr>\n",
              "  </tbody>\n",
              "</table>\n",
              "</div>"
            ],
            "text/plain": [
              "                      Campaign             variable        value\n",
              "0                    Evergreen   Video Views to 25%   408.208256\n",
              "1                Free Shipping   Video Views to 25%  2111.375000\n",
              "2   Valentine's Day Gift Offer   Video Views to 25%  1177.220238\n",
              "3                    Evergreen   Video Views to 50%   204.915584\n",
              "4                Free Shipping   Video Views to 50%  1044.928571\n",
              "5   Valentine's Day Gift Offer   Video Views to 50%   595.178571\n",
              "6                    Evergreen   Video Views to 75%   143.184137\n",
              "7                Free Shipping   Video Views to 75%   723.214286\n",
              "8   Valentine's Day Gift Offer   Video Views to 75%   413.627976\n",
              "9                    Evergreen   Video Views to 95%   114.793599\n",
              "10               Free Shipping   Video Views to 95%   573.339286\n",
              "11  Valentine's Day Gift Offer   Video Views to 95%   329.883929\n",
              "12                   Evergreen  Video Views to 100%   103.256030\n",
              "13               Free Shipping  Video Views to 100%   516.428571\n",
              "14  Valentine's Day Gift Offer  Video Views to 100%   297.467262"
            ]
          },
          "metadata": {
            "tags": []
          },
          "execution_count": 75
        }
      ]
    },
    {
      "cell_type": "code",
      "metadata": {
        "id": "DZIHExG8i0ce",
        "colab_type": "code",
        "outputId": "31b1b685-ff7f-4fb4-9b85-7f977f9c0ce2",
        "colab": {
          "base_uri": "https://localhost:8080/",
          "height": 204
        }
      },
      "source": [
        "# renamed the table \n",
        "l_testmetrics.rename(columns={'variable':'Video Views', 'value':'Views Count'},inplace=True)\n",
        "l_testmetrics.head()"
      ],
      "execution_count": 76,
      "outputs": [
        {
          "output_type": "execute_result",
          "data": {
            "text/html": [
              "<div>\n",
              "<style scoped>\n",
              "    .dataframe tbody tr th:only-of-type {\n",
              "        vertical-align: middle;\n",
              "    }\n",
              "\n",
              "    .dataframe tbody tr th {\n",
              "        vertical-align: top;\n",
              "    }\n",
              "\n",
              "    .dataframe thead th {\n",
              "        text-align: right;\n",
              "    }\n",
              "</style>\n",
              "<table border=\"1\" class=\"dataframe\">\n",
              "  <thead>\n",
              "    <tr style=\"text-align: right;\">\n",
              "      <th></th>\n",
              "      <th>Campaign</th>\n",
              "      <th>Video Views</th>\n",
              "      <th>Views Count</th>\n",
              "    </tr>\n",
              "  </thead>\n",
              "  <tbody>\n",
              "    <tr>\n",
              "      <th>0</th>\n",
              "      <td>Evergreen</td>\n",
              "      <td>Video Views to 25%</td>\n",
              "      <td>408.208256</td>\n",
              "    </tr>\n",
              "    <tr>\n",
              "      <th>1</th>\n",
              "      <td>Free Shipping</td>\n",
              "      <td>Video Views to 25%</td>\n",
              "      <td>2111.375000</td>\n",
              "    </tr>\n",
              "    <tr>\n",
              "      <th>2</th>\n",
              "      <td>Valentine's Day Gift Offer</td>\n",
              "      <td>Video Views to 25%</td>\n",
              "      <td>1177.220238</td>\n",
              "    </tr>\n",
              "    <tr>\n",
              "      <th>3</th>\n",
              "      <td>Evergreen</td>\n",
              "      <td>Video Views to 50%</td>\n",
              "      <td>204.915584</td>\n",
              "    </tr>\n",
              "    <tr>\n",
              "      <th>4</th>\n",
              "      <td>Free Shipping</td>\n",
              "      <td>Video Views to 50%</td>\n",
              "      <td>1044.928571</td>\n",
              "    </tr>\n",
              "  </tbody>\n",
              "</table>\n",
              "</div>"
            ],
            "text/plain": [
              "                     Campaign         Video Views  Views Count\n",
              "0                   Evergreen  Video Views to 25%   408.208256\n",
              "1               Free Shipping  Video Views to 25%  2111.375000\n",
              "2  Valentine's Day Gift Offer  Video Views to 25%  1177.220238\n",
              "3                   Evergreen  Video Views to 50%   204.915584\n",
              "4               Free Shipping  Video Views to 50%  1044.928571"
            ]
          },
          "metadata": {
            "tags": []
          },
          "execution_count": 76
        }
      ]
    },
    {
      "cell_type": "code",
      "metadata": {
        "id": "E1-wgcrJi0cm",
        "colab_type": "code",
        "outputId": "d3ec4462-805a-4426-cec4-aaa82d6ac0fb",
        "colab": {
          "base_uri": "https://localhost:8080/",
          "height": 609
        }
      },
      "source": [
        "# plot it into a bar chart\n",
        "plt.figure(figsize=(12,10))\n",
        "sns.barplot(x='Video Views',y='Views Count',hue='Campaign',data=l_testmetrics);"
      ],
      "execution_count": 77,
      "outputs": [
        {
          "output_type": "display_data",
          "data": {
            "image/png": "[encoded data removed]",
            "text/plain": [
              "<Figure size 864x720 with 1 Axes>"
            ]
          },
          "metadata": {
            "tags": []
          }
        }
      ]
    },
    {
      "cell_type": "markdown",
      "metadata": {
        "id": "77YZoXj2i0cr",
        "colab_type": "text"
      },
      "source": [
        "The number of times your video was viewed to different levels of its length could be another major metric to help identify which campaign is successful. Based on my observation, the Campaign \"Free Shipping\" has the highest number of times viewed, so the marketing people can spend more efforts on improving the quality of the video or implementing the ads by specifically focusing on \"Free Shipping\" campaign."
      ]
    }
  ]
}