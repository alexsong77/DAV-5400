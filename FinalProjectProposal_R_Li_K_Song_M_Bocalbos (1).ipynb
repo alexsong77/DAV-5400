{
 "cells": [
  {
   "cell_type": "markdown",
   "metadata": {},
   "source": [
    "## Team Members: ##\n",
    "### *Renzhu Li* , *Kunming Song* , *Mhariadora Bocalbos* ###\n",
    "\n",
    "As of now, we do not have a plan yet on specific tasks of each member of the team. But, we plan to distribute the tasks equally among us."
   ]
  },
  {
   "cell_type": "markdown",
   "metadata": {},
   "source": [
    "# Final Project Proposal #"
   ]
  },
  {
   "cell_type": "markdown",
   "metadata": {},
   "source": [
    "## Introduction: ##\n",
    "\n",
    "Although there is not really a specific trend about US wildfires in recent years, that is, whether it is increasing or decreasing in number, this incident has been costing the US government money not just because of the losses but also the cost of mitigating fires. In fact, for the past 10 years alone, losses from wildfires added up to \\\\$5.1 billion. In California alone, the total potential exposure to wildfire damage for the high and very high risk categories amounts to a total of $105.45 billion dollars which is about 44% of the total amount for 13 states such as Washington, Texas, Oklahoma, Colorado, Montana, Nevada, to mention a few. In 2017, California also ranked as the top state to be most wildfire prone based on number of households at risk but ranked fourth in terms of percentage. Last year, California ranked second as having the highest number of fires. California, however, ranked first in terms of the number of acres burned.\n",
    "\n",
    "Wildfires are caused by different factors. According to research, 90% are caused by humans such as unattended campfires, burning of debris, downed power lines, irresponsibly discarding cigarettes, and even intentional acts of arson. The remaining 10% is caused by some environmental factors like lightning or lava. \n",
    "\n",
    "Because of the information discussed above, this study will focus on the wildfires that happened in California. In addition, it will validate the model used to predict areas burned during forest fires by using meteorological data and some other factors that can be used to predict this used by a different study and then test it using California data."
   ]
  },
  {
   "cell_type": "markdown",
   "metadata": {},
   "source": [
    "## Research Questions: ##\n",
    "\n",
    "Using historical forest fires data in California and weather data during the start of the fire, the main question that we would like to answer for this research is to create a model which can predict the area burned during forest fires. Prior to this, we will be conducting some exploratory data analysis to analyze trends (e.g., number of fires that occurred in a specific season, year, and month and also the area burned in a specific season, year and month).\n",
    "\n",
    "As mentioned above, losses brought about by forest fires are costly. Thus, mitigating the impact of forest fires will be helpful to minimize not just the cost of the losses that can be incurred but also to minimize injuries or sometimes, even saving lives of people that can be involved in this type of incident. We believe that by being able to create a model to predict the area burned using the parameters involved, we will be able to optimize (that is, minimize) the days involved in stopping these forest fires. Since firemen will know that impact will be severe, the firemen will know ahead of time the number of people they need to deploy ahead of time and they can plan ahead as to the equipments/vehicles they need to stop the fire as fast as possible. By doing these, the damage brought about by forest fires will be minimized."
   ]
  },
  {
   "cell_type": "markdown",
   "metadata": {},
   "source": [
    "## Data to be Used: ##\n",
    "\n",
    "The research work and data that will be gathered in this study is based on this study http://www3.dsi.uminho.pt/pcortez/fires.pdf and this dataset http://archive.ics.uci.edu/ml/datasets/Forest+Fires. This dataset lists forest fires in Portugal. However, for this research, we will be collecting our own data so we can be able to apply and predict a model using a dataset in California.\n",
    "\n",
    "For data about historical wildfire information in California, we will be using this website: https://www.nifc.gov/fireInfo/fireInfo_statistics.html. We found data of all wildfires from different years in different states as a PDF file version. With regards to the historical weather data, we are planning to use this the Dark Sky API (https://darksky.net/dev/account) to gather information about the weather in the location where the forest fire happened and during the date that the forest fire occurred."
   ]
  },
  {
   "cell_type": "markdown",
   "metadata": {},
   "source": [
    "## Approach: ##\n",
    "\n",
    "Here is a summary of our planned approach to gather/collect and manage our data:\n",
    "\n",
    "1. We will be reading pdf files in python to gather information about California wildfires and store this as a .csv file.\n",
    "2. We will be connecting (using python) via a weather api website to gather historical weather data information during the day that the fire started. We would also want to store this as a .csv file.\n",
    "3. Read both csv files in python.\n",
    "\n",
    "Please note that if we are not successful in reading the pdf files in python, our backup plan is to enter data manually as a SQL table and read our data from the cloud using Google Cloud SQL (we currently have accounts there since we used it from our SQL class from last semester, we think it will still be free for some more months). Once data has all been collected, we will do the cleaning up and transformation by reading and joining all the data in python as pandas data frame and do statistical analysis from there.\n",
    "\n",
    "For this research, we are planning to generate descriptive statistics for our exploratory data analysis and afterwards, we will be utilizing the multilinear regression modelling to create a model to predict the area burned during forest fires. Graphical representations that we are planning to make will be some trends on forest fires in California. In addition to this, we will attempt to use geopandas to visualize the shape of the areas burned."
   ]
  },
  {
   "cell_type": "markdown",
   "metadata": {},
   "source": [
    "## References: ##\n",
    "\n",
    "[link] https://www.iii.org/fact-statistic/facts-statistics-wildfires <br>\n",
    "[link] http://time.com/collection/life-reinvented/5497251/wildfires-artificial-intelligence/"
   ]
  }
 ],
 "metadata": {
  "kernelspec": {
   "display_name": "Python 3",
   "language": "python",
   "name": "python3"
  },
  "language_info": {
   "codemirror_mode": {
    "name": "ipython",
    "version": 3
   },
   "file_extension": ".py",
   "mimetype": "text/x-python",
   "name": "python",
   "nbconvert_exporter": "python",
   "pygments_lexer": "ipython3",
   "version": "3.7.1"
  }
 },
 "nbformat": 4,
 "nbformat_minor": 2
}
