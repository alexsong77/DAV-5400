{
 "cells": [
  {
   "cell_type": "markdown",
   "metadata": {},
   "source": [
    "## Team Members: ##\n",
    "### *Renzhu Li* , *Kunming Song* , *Mhariadora Bocalbos* ###\n",
    "\n",
    "As of now, we do not have a plan yet on specific tasks of each member of the team. But, we plan to distribute the tasks equally among us."
   ]
  },
  {
   "cell_type": "markdown",
   "metadata": {},
   "source": [
    "# Final Project Proposal #"
   ]
  },
  {
   "cell_type": "markdown",
   "metadata": {},
   "source": [
    "## Introduction: ##\n",
    "\n",
    "Although there is not really a specific trend about US wildfires in recent years, that is, whether it is increasing or decreasing in number, this incident has been costing the US government money not just because of the losses but also the cost of mitigating fires. In fact, for the past 10 years alone, losses from wildfires added up to \\\\$5.1 billion. In California alone, the total potential exposure to wildfire damage for the high and very high risk categories amounts to a total of $105.45 billion dollars which is about 44% of the total amount for 13 states such as Washington, Texas, Oklahoma, Colorado, Montana, Nevada, to mention a few. In 2017, California also ranked as the top state to be most wildfire prone based on number of households at risk but ranked fourth in terms of percentage. Last year, California ranked second as having the highest number of fires. California, however, ranked first in terms of the number of acres burned.\n",
    "\n",
    "Wildfires are caused by different factors. According to research, 90% are caused by humans such as unattended campfires, burning of debris, downed power lines, irresponsibly discarding cigarettes, and even intentional acts of arson. The remaining 10% is caused by some environmental factors like lightning or lava. \n",
    "\n",
    "Because of the information discussed above, this study will focus on the wildfires that happened in California. In addition, it will validate the model used to predict areas burned during forest fires by using meteorological data and some other factors that can be used to predict this used by a different study and then test it using California data."
   ]
  },
  {
   "cell_type": "markdown",
   "metadata": {},
   "source": [
    "## Research Questions: ##\n",
    "\n",
    "The main question that we would like to answer for this research is to find the variables (meteorological and other factors) to predict the area burned during forest fires. After finding this, we would like to validate the model using the dataset related to US and California in particular.\n",
    "\n",
    "As mentioned above, losses brought about by forest fires are costly. Thus, mitigating the impact of forest fires will be helpful to minimize not just the cost of the losses that can be incurred but also to minimize injuries or sometimes, even saving lives of people that can be involved in this type of incident. We believe that by being able to create a model to predict the area burned using the parameters involved, we will be able to optimize (that is, minimize) the days involved in stopping these forest fires. Since firemen will know the areas that will be affected by a specific fire, they will be able to do something to secure that area or do something to prevent it from being burned. In addition to this, they can easily give households living near areas that are predicted to be affected by the fires to secure their belongings and to evacuate earlier. By doing these, the damage brought about by forest fires will be minimized."
   ]
  },
  {
   "cell_type": "markdown",
   "metadata": {},
   "source": [
    "## Data to be Used: ##\n",
    "\n",
    "One of the datasets that will be used for this research work will come from http://archive.ics.uci.edu/ml/datasets/Forest+Fires. This dataset can be easily loaded in python by reading the .csv file from the UCI website. This dataset lists forest fires in Portugal. This will be used to be able to create the model to predict areas burned.\n",
    "\n",
    "For the California wildfires dataset, there is a variety of data that we found on the web. However, there will be a need to consolidate all of these data together. We found data of all wildfires from different years in different states as a PDF file version. In this situation, we can either read the PDF file into python. If we do not get this to work, another recommendation is to store the data in SQL and then read the SQL file in python. We will also need historical weather data. For this, we will use an API to connect to a weather website and read it in python."
   ]
  },
  {
   "cell_type": "markdown",
   "metadata": {},
   "source": [
    "## Approach: ##\n",
    "\n",
    "The first dataset that we will be using can be directly acquired from the UCI website by reading the .csv file. The other data that we will need will be either sourced directly from the web using API and also either by attempting to read a PDF file. If we are not successful in reading the PDF file, we can enter it manually as a SQL table and read our data from the cloud using Google Cloud SQL (we currently have accounts there since we used it from our SQL class from last semester, we think it will still be free for some more months). Once data has all been collected, we will do the cleaning up and transformation by reading and joining all the data in python as pandas data frame and do statistical analysis from there.\n",
    "\n",
    "For this research, we are planning to generate descriptive statistics for our exploratory data analysis and afterwards, we will be utilizing the multilinear regression modelling to create a model to predict the areas burned during forest fires. Graphical representations that we are planning to make will be some trends on forest fires in Portugal and in California. In addition to this, we will attempt to use geopandas to visualize the shape of the areas burned."
   ]
  },
  {
   "cell_type": "markdown",
   "metadata": {},
   "source": [
    "## References: ##\n",
    "\n",
    "[link] https://www.iii.org/fact-statistic/facts-statistics-wildfires <br>\n",
    "[link] http://time.com/collection/life-reinvented/5497251/wildfires-artificial-intelligence/"
   ]
  }
 ],
 "metadata": {
  "kernelspec": {
   "display_name": "Python 3",
   "language": "python",
   "name": "python3"
  },
  "language_info": {
   "codemirror_mode": {
    "name": "ipython",
    "version": 3
   },
   "file_extension": ".py",
   "mimetype": "text/x-python",
   "name": "python",
   "nbconvert_exporter": "python",
   "pygments_lexer": "ipython3",
   "version": "3.7.1"
  }
 },
 "nbformat": 4,
 "nbformat_minor": 2
}
