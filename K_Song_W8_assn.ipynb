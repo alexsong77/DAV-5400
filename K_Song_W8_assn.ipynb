{
 "cells": [
  {
   "cell_type": "code",
   "execution_count": 147,
   "metadata": {},
   "outputs": [],
   "source": [
    "import re\n",
    "#Create the tax string called \"residents_springfield\" \n",
    "residents_springfield = '''555-1239Moe Szyslak(636) 555-0113Burns, C. Montgomery555 -6542Rev. Timothy Lovejoy555\n",
    "8904Ned Flanders636-555-3226Simpson, Homer5553642Dr. Julius Hibbert'''"
   ]
  },
  {
   "cell_type": "markdown",
   "metadata": {},
   "source": [
    "1. **Extract the names of each individual from the unformatted text string and store them in a vector of some sort. When\n",
    "complete, your vector should contain the following entries**"
   ]
  },
  {
   "cell_type": "code",
   "execution_count": 74,
   "metadata": {},
   "outputs": [
    {
     "data": {
      "text/plain": [
       "['Moe Szyslak',\n",
       " ' ',\n",
       " 'Burns, C. Montgomery',\n",
       " ' ',\n",
       " 'Rev. Timothy Lovejoy',\n",
       " '\\n',\n",
       " 'Ned Flanders',\n",
       " 'Simpson, Homer',\n",
       " 'Dr. Julius Hibbert']"
      ]
     },
     "execution_count": 74,
     "metadata": {},
     "output_type": "execute_result"
    }
   ],
   "source": [
    "#Extract names of each individual from the string \"residents_springfield\"\n",
    "names = re.findall(r\"[A-z.,\\s]+\",residents_springfield)\n",
    "names"
   ]
  },
  {
   "cell_type": "code",
   "execution_count": 148,
   "metadata": {},
   "outputs": [
    {
     "data": {
      "text/plain": [
       "['Moe Szyslak',\n",
       " 'Burns, C. Montgomery',\n",
       " 'Rev. Timothy Lovejoy',\n",
       " 'Ned Flanders',\n",
       " 'Simpson, Homer',\n",
       " 'Dr. Julius Hibbert']"
      ]
     },
     "execution_count": 148,
     "metadata": {},
     "output_type": "execute_result"
    }
   ],
   "source": [
    "#Use for loop to remove the empty elements and include the target elements into the new list \n",
    "names1 = []\n",
    "for s in names:\n",
    "    if re.findall(r'(\\w+.).(\\w+.)',s):\n",
    "        names1.append(s)\n",
    "        \n",
    "names1"
   ]
  },
  {
   "cell_type": "markdown",
   "metadata": {},
   "source": [
    "1. **Find all of alphabet letters in the strings and use loop function to take out any unnecessary special characteris\n",
    "or empty elements, and then add the rest of letters into a new list called \"names1\"**"
   ]
  },
  {
   "cell_type": "markdown",
   "metadata": {},
   "source": [
    "2. **Using your new vector containing only the names of the six individuals, complete the following tasks:\n",
    "a. Use your regex skills to rearrange the vector so that all elements conform to the standard “firstname\n",
    "lastname”, preserving any titles (e.g., “Rev.”, “Dr.”, etc) or middle/second names.**"
   ]
  },
  {
   "cell_type": "code",
   "execution_count": 152,
   "metadata": {},
   "outputs": [
    {
     "data": {
      "text/plain": [
       "['Moe Szyslak',\n",
       " 'C. Montgomery Burns',\n",
       " 'Rev. Timothy Lovejoy',\n",
       " 'Ned Flanders',\n",
       " 'Homer Simpson',\n",
       " 'Dr. Julius Hibbert']"
      ]
     },
     "execution_count": 152,
     "metadata": {},
     "output_type": "execute_result"
    }
   ],
   "source": [
    "# Split 'Burns, C. Montgomery' into 'Burns' and 'C. Montgomery'\n",
    "names2 = re.split(', ',names1[1])\n",
    "names2\n",
    "# Joint the 'Burn' and 'C. Montgomery' by reverse the sequence\n",
    "full_names2 = names2[1] + ' ' + names2[0]\n",
    "full_names2\n",
    "# Split 'Simpson, Homer' into 'Homer' and 'Simpson'\n",
    "names3 = re.split(', ',names1[4])\n",
    "# Joint the 'Simpson' and 'Homer' by reverse the sequence \n",
    "full_names3 = names3[1] + ' ' + names3[0]\n",
    "full_names3\n",
    "# Joint all of elements by index and add \n",
    "full_namelist = [names1[0],full_names2,names1[2],names1[3],full_names3,names1[5]]\n",
    "\n",
    "full_namelist\n",
    "\n"
   ]
  },
  {
   "cell_type": "markdown",
   "metadata": {},
   "source": [
    "2. **The way to solve this question is to find out the one has the reverse sequence on their first and last time, then\n",
    "take out them to reverse the sequence to join into another new list by using index, then add all of names into one list**"
   ]
  },
  {
   "cell_type": "markdown",
   "metadata": {},
   "source": [
    "2.b **Construct a logical vector indicating whether a character has a title (i.e., Rev. and Dr.)**"
   ]
  },
  {
   "cell_type": "code",
   "execution_count": 156,
   "metadata": {},
   "outputs": [
    {
     "name": "stdout",
     "output_type": "stream",
     "text": [
      "[False False  True False False  True]\n"
     ]
    }
   ],
   "source": [
    "import numpy as np\n",
    "# using rematch and loop to see if any elements in the list has a title greater than one letter\n",
    "names5 = np.array([re.match('[A-Z][a-z]{1,}[.]',t) for t in full_namelist])\n",
    "names5\n",
    "# Test to see which one is match with our statements by asking true or false \n",
    "print(names5!=None)"
   ]
  },
  {
   "cell_type": "markdown",
   "metadata": {},
   "source": [
    "2.b **Create a numpy array to contain the loop that only finding the titles which greater than one letter.\n",
    "Then test the numpy array to see which elements contain our request, thus, only \"result = true\" is the one we're looking for ('Rev. Timothy Lovejoy', 'Dr. Julius Hibbert')**"
   ]
  },
  {
   "cell_type": "markdown",
   "metadata": {},
   "source": [
    "2.c **Construct a logical vector indicating whether a character has a middle/second name**"
   ]
  },
  {
   "cell_type": "code",
   "execution_count": 158,
   "metadata": {},
   "outputs": [
    {
     "name": "stdout",
     "output_type": "stream",
     "text": [
      "[False  True False False False False]\n"
     ]
    }
   ],
   "source": [
    "# Using rematch and loop to see if any elements in the list has a title equal to one letter \n",
    "names6 = np.array([re.match('[A-Z][.]',t) for t in full_namelist])\n",
    "# Test to see which one is match with our statements by asking true or false \n",
    "names6\n",
    "print(names6!=None)"
   ]
  },
  {
   "cell_type": "markdown",
   "metadata": {},
   "source": [
    "2.c **Create a numpy array to contain the loop that only finding the titles which equal to one letter. Then test the numpy array to see which \n",
    "elements contain our request, thus, only \"result = true\" is the one we're looking for ( 'C. Montgomery Burns')**"
   ]
  },
  {
   "cell_type": "markdown",
   "metadata": {},
   "source": [
    "3. **To do so we write the regular expression “<.+>”. Explain why this fails and correct the expression.**"
   ]
  },
  {
   "cell_type": "code",
   "execution_count": 160,
   "metadata": {},
   "outputs": [
    {
     "data": {
      "text/plain": [
       "'<title>+++BREAKING NEWS+++<title>'"
      ]
     },
     "execution_count": 160,
     "metadata": {},
     "output_type": "execute_result"
    }
   ],
   "source": [
    "# Create the string called \"Html_string\"\n",
    "Html_string = '''<title>+++BREAKING NEWS+++<title>'''\n",
    "Html_string"
   ]
  },
  {
   "cell_type": "code",
   "execution_count": 130,
   "metadata": {},
   "outputs": [
    {
     "data": {
      "text/plain": [
       "<re.Match object; span=(0, 33), match='<title>+++BREAKING NEWS+++<title>'>"
      ]
     },
     "execution_count": 130,
     "metadata": {},
     "output_type": "execute_result"
    }
   ],
   "source": [
    "# Test the provided code to see if we can extract 'title'\n",
    "test1 = re.match('<.+>', Html_string)\n",
    "test1"
   ]
  },
  {
   "cell_type": "code",
   "execution_count": 161,
   "metadata": {},
   "outputs": [
    {
     "data": {
      "text/plain": [
       "<re.Match object; span=(0, 7), match='<title>'>"
      ]
     },
     "execution_count": 161,
     "metadata": {},
     "output_type": "execute_result"
    }
   ],
   "source": [
    "# Adding ? after the qualifier makes it perform the match in non-greedy\n",
    "test2 = re.match('<.+?>', Html_string)\n",
    "test2"
   ]
  },
  {
   "cell_type": "markdown",
   "metadata": {},
   "source": [
    "3. **Create the string called \"Html_string\", and then test the provided code to see where is wrong. Find out the issues\n",
    "is \"greedy\" code, and then added ? after the qualifier to make it perform the match in non-greedy**"
   ]
  },
  {
   "cell_type": "markdown",
   "metadata": {},
   "source": [
    "4. **Consider the string “(5-3)^2=5^2-2*5*3+3^2” conforms to the binomial theorem. We would like to extract the\n",
    "formula in the string. To do so we write the regular expression “[^0-9=+*()]+”. Explain why this fails and correct the\n",
    "expression**"
   ]
  },
  {
   "cell_type": "code",
   "execution_count": 136,
   "metadata": {},
   "outputs": [
    {
     "data": {
      "text/plain": [
       "'(5-3)^2=5^2-2*5*3+3^2'"
      ]
     },
     "execution_count": 136,
     "metadata": {},
     "output_type": "execute_result"
    }
   ],
   "source": [
    "# Create the string called 'binomial_string'\n",
    "binomial_string = '''(5-3)^2=5^2-2*5*3+3^2''' \n",
    "binomial_string"
   ]
  },
  {
   "cell_type": "code",
   "execution_count": 141,
   "metadata": {},
   "outputs": [
    {
     "data": {
      "text/plain": [
       "['-', '^', '^', '-', '^']"
      ]
     },
     "execution_count": 141,
     "metadata": {},
     "output_type": "execute_result"
    }
   ],
   "source": [
    "# Test the provided code to see if we can extract 'formula'\n",
    "test2 = re.findall('[^0-9=+*()]+', binomial_string)\n",
    "test2"
   ]
  },
  {
   "cell_type": "code",
   "execution_count": 163,
   "metadata": {},
   "outputs": [
    {
     "data": {
      "text/plain": [
       "['(5-3)^2=5^2-2*5*3+3^2']"
      ]
     },
     "execution_count": 163,
     "metadata": {},
     "output_type": "execute_result"
    }
   ],
   "source": [
    "#Removed the ^ first, added -^ to get the formula \n",
    "test3 = re.findall('[0-9-^=+*()]+', binomial_string)\n",
    "test3"
   ]
  },
  {
   "cell_type": "markdown",
   "metadata": {},
   "source": [
    "4. **Create the string called \"binomial_string\", and then test the provided code to see where is wrong. \n",
    "Find out the issues becasue \"If the first character of the set is '^', all the characters that are not in the set will be matched\"\n",
    "In order to fix it, firstly, remove the ^, then we found out we missing most of special characters, so added it after 0-9\n",
    "to keep the special characters \"-\" and \"^\"**"
   ]
  }
 ],
 "metadata": {
  "kernelspec": {
   "display_name": "Python 3",
   "language": "python",
   "name": "python3"
  },
  "language_info": {
   "codemirror_mode": {
    "name": "ipython",
    "version": 3
   },
   "file_extension": ".py",
   "mimetype": "text/x-python",
   "name": "python",
   "nbconvert_exporter": "python",
   "pygments_lexer": "ipython3",
   "version": "3.7.1"
  }
 },
 "nbformat": 4,
 "nbformat_minor": 2
}
