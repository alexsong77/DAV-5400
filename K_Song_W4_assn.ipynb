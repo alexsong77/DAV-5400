{
 "cells": [
  {
   "cell_type": "code",
   "execution_count": 2,
   "metadata": {},
   "outputs": [
    {
     "name": "stdout",
     "output_type": "stream",
     "text": [
      "[2 4]\n"
     ]
    }
   ],
   "source": [
    "# Import numpy as np\n",
    "import numpy as np\n",
    "# Create two arrays \"a\" and \"b\"\n",
    "a = np.array([1,2,3,2,3,4,3,4,5,6])\n",
    "b= np.array([7,2,10,2,7,4,9,4,9,8])\n",
    "# Find the distinct common values between array \"a\" and \"b\"\n",
    "print(np.intersect1d(a,b))"
   ]
  },
  {
   "cell_type": "code",
   "execution_count": 4,
   "metadata": {},
   "outputs": [],
   "source": [
    "# Create array \"a\" in a sequencing range from 1 to 15 not including 0\n",
    "a = np.arange(1,16)\n",
    "# Reshape the array in a 3x5 sequence \n",
    "a = a.reshape(3,5)\n"
   ]
  },
  {
   "cell_type": "code",
   "execution_count": 5,
   "metadata": {},
   "outputs": [
    {
     "data": {
      "text/plain": [
       "array([[ 1,  2,  3,  4,  5],\n",
       "       [ 6,  7,  8,  9, 10],\n",
       "       [11, 12, 13, 14, 15]])"
      ]
     },
     "execution_count": 5,
     "metadata": {},
     "output_type": "execute_result"
    }
   ],
   "source": [
    "# Print array \"a\"\n",
    "a"
   ]
  },
  {
   "cell_type": "code",
   "execution_count": 6,
   "metadata": {},
   "outputs": [
    {
     "data": {
      "text/plain": [
       "array([[ 1,  6, 11],\n",
       "       [ 2,  7, 12],\n",
       "       [ 3,  8, 13],\n",
       "       [ 4,  9, 14],\n",
       "       [ 5, 10, 15]])"
      ]
     },
     "execution_count": 6,
     "metadata": {},
     "output_type": "execute_result"
    }
   ],
   "source": [
    "# Reshape the array \"a\" in a 5x3 sequence \n",
    "a.T"
   ]
  },
  {
   "cell_type": "code",
   "execution_count": 7,
   "metadata": {},
   "outputs": [],
   "source": [
    "# Create two arrays \"a\" and \"b\"\n",
    "a = np.array([12,5,7,15,3,1,8])\n",
    "b = np.array([14,6,3,11,19,12,5])"
   ]
  },
  {
   "cell_type": "code",
   "execution_count": 9,
   "metadata": {},
   "outputs": [
    {
     "data": {
      "text/plain": [
       "array([ 1,  7,  8, 15])"
      ]
     },
     "execution_count": 9,
     "metadata": {},
     "output_type": "execute_result"
    }
   ],
   "source": [
    "# Create array \"a\" which includes elements in a that are not in b\n",
    "a = np.setdiff1d(a,b)\n",
    "# Print the array \"a\"\n",
    "a"
   ]
  },
  {
   "cell_type": "code",
   "execution_count": 10,
   "metadata": {},
   "outputs": [],
   "source": [
    "# Create an array called \"c\" to collect all of miles have been traveled each day including 4 days - due to either weather conditions or personal fatigue/soreness\n",
    "\n",
    "c = np.array([55,55,65,78,54,0,65,55,63,27,57,0,44,33,44,56,76,0,43,24,25,34,0,55,36,45,23,34,44,55,32,43,45,38,40])\n",
    "\n"
   ]
  },
  {
   "cell_type": "code",
   "execution_count": 11,
   "metadata": {},
   "outputs": [
    {
     "data": {
      "text/plain": [
       "array([  55,  110,  175,  253,  307,  307,  372,  427,  490,  517,  574,\n",
       "        574,  618,  651,  695,  751,  827,  827,  870,  894,  919,  953,\n",
       "        953, 1008, 1044, 1089, 1112, 1146, 1190, 1245, 1277, 1320, 1365,\n",
       "       1403, 1443], dtype=int32)"
      ]
     },
     "execution_count": 11,
     "metadata": {},
     "output_type": "execute_result"
    }
   ],
   "source": [
    "# Create another array called \"d\" to accumulate the miles from first day to the last day\n",
    "d = np.add.accumulate(c)\n",
    "d"
   ]
  },
  {
   "cell_type": "code",
   "execution_count": 14,
   "metadata": {
    "scrolled": true
   },
   "outputs": [
    {
     "data": {
      "text/plain": [
       "array([55, 65, 78, 54,  0, 65, 55, 63, 27, 57,  0, 44, 33, 44, 56, 76,  0,\n",
       "       43, 24, 25, 34,  0, 55, 36, 45, 23, 34, 44, 55, 32, 43, 45, 38, 40],\n",
       "      dtype=int32)"
      ]
     },
     "execution_count": 14,
     "metadata": {},
     "output_type": "execute_result"
    }
   ],
   "source": [
    "# Create another array called \"day_distance\" by using diff function to show the total miles rode each day\n",
    "day_distance = np.diff(d)\n",
    "\n",
    "# Show the total miles rode each day \n",
    "day_distance"
   ]
  },
  {
   "cell_type": "markdown",
   "metadata": {},
   "source": [
    "1. Google the distance between New York City to Key West\n",
    "2. Making up the data which is also including four days no cycling\n",
    "3. Using the accumulate function to add up miles from each day\n",
    "4. Using the diff function to figure out the miles traveled each day "
   ]
  },
  {
   "cell_type": "code",
   "execution_count": 15,
   "metadata": {},
   "outputs": [
    {
     "name": "stderr",
     "output_type": "stream",
     "text": [
      "D:\\Anaconda\\lib\\site-packages\\ipykernel_launcher.py:8: FutureWarning: Method .as_matrix will be removed in a future version. Use .values instead.\n",
      "  \n"
     ]
    },
    {
     "data": {
      "text/plain": [
       "numpy.ndarray"
      ]
     },
     "execution_count": 15,
     "metadata": {},
     "output_type": "execute_result"
    }
   ],
   "source": [
    "import pandas\n",
    "import numpy as np\n",
    "\n",
    "# supress scientific notation\n",
    "np.set_printoptions(suppress = True)\n",
    "\n",
    "# read the data file from GitHub and convert to a NumPy ndarray object\n",
    "nyc_water = pandas.read_csv('https://raw.githubusercontent.com/jtopor/DAV-5400/master/Week4/Water_Consumption_In_The_New_York_City.csv').as_matrix()\n",
    "\n",
    "# verify you have an ndarray object\n",
    "type(nyc_water)"
   ]
  },
  {
   "cell_type": "code",
   "execution_count": 16,
   "metadata": {},
   "outputs": [
    {
     "data": {
      "text/plain": [
       "1512.0"
      ]
     },
     "execution_count": 16,
     "metadata": {},
     "output_type": "execute_result"
    }
   ],
   "source": [
    "# Create another array call \"max_water\" and extract the water consumption from array \"nyc_water\"\n",
    "max_water = nyc_water[:,2]\n",
    "\n",
    "# Find out the maximum yearly NYC consumption of water in millions of gallons per day\n",
    "np.max(max_water)"
   ]
  },
  {
   "cell_type": "code",
   "execution_count": 17,
   "metadata": {},
   "outputs": [
    {
     "data": {
      "text/plain": [
       "39"
      ]
     },
     "execution_count": 17,
     "metadata": {},
     "output_type": "execute_result"
    }
   ],
   "source": [
    "# Create another array call \"calendar_year\" \n",
    "calendar_year = np.shape(nyc_water)\n",
    "# Call the tuple \"Calendar_year\" by using index - Find out how many calendar years are represented within this data set - \"39 calendar years\"\n",
    "calendar_year[0]"
   ]
  },
  {
   "cell_type": "code",
   "execution_count": 18,
   "metadata": {},
   "outputs": [
    {
     "data": {
      "text/plain": [
       "160.30769230769232"
      ]
     },
     "execution_count": 18,
     "metadata": {},
     "output_type": "execute_result"
    }
   ],
   "source": [
    "# Create another array call \"cap_water\" and extract  per capita daily water consumption from array \"nyc_water\"\n",
    "cap_water = nyc_water[:,3]\n",
    "# The mean of the per capita daily water consumption\n",
    "np.mean(cap_water)"
   ]
  },
  {
   "cell_type": "code",
   "execution_count": 19,
   "metadata": {},
   "outputs": [
    {
     "data": {
      "text/plain": [
       "31.51894330370624"
      ]
     },
     "execution_count": 19,
     "metadata": {},
     "output_type": "execute_result"
    }
   ],
   "source": [
    "# The standard deviation of the per capita daily water consumption\n",
    "np.std(cap_water)"
   ]
  },
  {
   "cell_type": "code",
   "execution_count": 21,
   "metadata": {},
   "outputs": [],
   "source": [
    "# Use Numpy diff functions to find all of differences between each rows looping from the first one to the last\n",
    "difference = np.diff(nyc_water, axis = 0)"
   ]
  },
  {
   "cell_type": "code",
   "execution_count": 22,
   "metadata": {},
   "outputs": [
    {
     "data": {
      "text/plain": [
       "array([[     1. , -30461. ,     -6. ,      0. ],\n",
       "       [     1. ,  17602. ,   -197. ,    -28. ],\n",
       "       [     1. ,  19864. ,     73. ,      9. ],\n",
       "       [     1. ,  72119. ,     42. ,      4. ],\n",
       "       [     1. ,  53290. ,     41. ,      5. ],\n",
       "       [     1. ,  39540. ,   -139. ,    -21. ],\n",
       "       [     1. ,  45192. ,     25. ,      3. ],\n",
       "       [     1. ,  23230. ,     96. ,     12. ],\n",
       "       [     1. ,  11243. ,     37. ,      5. ],\n",
       "       [     1. ,  -9544. ,    -82. ,    -11. ],\n",
       "       [     1. ,  -8525. ,     22. ,      3. ],\n",
       "       [     1. ,  38851. ,     45. ,      5. ],\n",
       "       [     1. ,  54443. ,   -100. ,    -15. ],\n",
       "       [     1. ,  77222. ,     -0.5,     -2. ],\n",
       "       [     1. ,  64292. ,    -10.8,     -3. ],\n",
       "       [     1. ,  62582. ,    -32. ,     -5. ],\n",
       "       [     1. ,  64772. ,    -27.8,     -5. ],\n",
       "       [     1. ,  75631. ,    -92.4,    -14. ],\n",
       "       [     1. ,  84816. ,     14. ,      0. ],\n",
       "       [     1. ,  89401. ,     17.7,      1. ],\n",
       "       [     1. ,  60618. ,      3.2,     -1. ],\n",
       "       [     1. ,  16685.5,    -56.4,     -7. ],\n",
       "       [     1. ,  16685.5,    -48.4,     -7. ],\n",
       "       [     1. ,  16685.5,    -41.9,     -5. ],\n",
       "       [     1. ,  16685.5,      5.8,      0. ],\n",
       "       [     1. ,  16685.5,     38.5,      5. ],\n",
       "       [     1. ,  16685.5,    -69. ,     -9. ],\n",
       "       [     1. ,  16685.5,     45. ,      5. ],\n",
       "       [     1. ,  16685.5,    -16. ,     -2. ],\n",
       "       [     1. ,  16685.5,    -90.5,    -12. ],\n",
       "       [     1. ,  16685.5,     31.5,      4. ],\n",
       "       [     1. , 108965. ,    -18. ,     -4. ],\n",
       "       [     1. ,  77081. ,    -11.9,     -2. ],\n",
       "       [     1. ,  61281. ,     -3. ,     -2. ],\n",
       "       [     1. ,  49530. ,    -10.1,     -1. ],\n",
       "       [     1. ,  44512. ,     13. ,      0. ],\n",
       "       [     1. ,  21171. ,     -7. ,     -1. ],\n",
       "       [     1. ,  85025. ,    -11.8,     -2. ]])"
      ]
     },
     "execution_count": 22,
     "metadata": {},
     "output_type": "execute_result"
    }
   ],
   "source": [
    "# Print the result \"difference\"\n",
    "difference"
   ]
  },
  {
   "cell_type": "code",
   "execution_count": 23,
   "metadata": {},
   "outputs": [],
   "source": [
    "# Slicing the arrays by calling the index '1' which is the second column and looping from the first rows to the last\n",
    "# Saved that to a variable called \"pop_diff\"\n",
    "pop_diff = difference[:,1]"
   ]
  },
  {
   "cell_type": "code",
   "execution_count": 24,
   "metadata": {},
   "outputs": [
    {
     "data": {
      "text/plain": [
       "array([-30461. ,  17602. ,  19864. ,  72119. ,  53290. ,  39540. ,\n",
       "        45192. ,  23230. ,  11243. ,  -9544. ,  -8525. ,  38851. ,\n",
       "        54443. ,  77222. ,  64292. ,  62582. ,  64772. ,  75631. ,\n",
       "        84816. ,  89401. ,  60618. ,  16685.5,  16685.5,  16685.5,\n",
       "        16685.5,  16685.5,  16685.5,  16685.5,  16685.5,  16685.5,\n",
       "        16685.5, 108965. ,  77081. ,  61281. ,  49530. ,  44512. ,\n",
       "        21171. ,  85025. ])"
      ]
     },
     "execution_count": 24,
     "metadata": {},
     "output_type": "execute_result"
    }
   ],
   "source": [
    "# Print the array \"pop_diff\" which shows the increase or decrease in population from year to year\n",
    "pop_diff"
   ]
  }
 ],
 "metadata": {
  "kernelspec": {
   "display_name": "Python 3",
   "language": "python",
   "name": "python3"
  },
  "language_info": {
   "codemirror_mode": {
    "name": "ipython",
    "version": 3
   },
   "file_extension": ".py",
   "mimetype": "text/x-python",
   "name": "python",
   "nbconvert_exporter": "python",
   "pygments_lexer": "ipython3",
   "version": "3.7.1"
  }
 },
 "nbformat": 4,
 "nbformat_minor": 2
}
